{
  "cells": [
    {
      "cell_type": "markdown",
      "metadata": {
        "id": "lElF3o5PR6ys"
      },
      "source": [
        "# Your First RAG Application\n",
        "\n",
        "In this notebook, we'll walk you through each of the components that are involved in a simple RAG application.\n",
        "\n",
        "We won't be leveraging any fancy tools, just the OpenAI Python SDK, Numpy, and some classic Python.\n",
        "\n",
        "> NOTE: This was done with Python 3.11.4.\n",
        "\n",
        "> NOTE: There might be [compatibility issues](https://github.com/wandb/wandb/issues/7683) if you're on NVIDIA driver >552.44 As an interim solution - you can rollback your drivers to the 552.44."
      ]
    },
    {
      "cell_type": "markdown",
      "metadata": {
        "id": "5CtcL8P8R6yt"
      },
      "source": [
        "## Table of Contents:\n",
        "\n",
        "- Task 1: Imports and Utilities\n",
        "- Task 2: Documents\n",
        "- Task 3: Embeddings and Vectors\n",
        "- Task 4: Prompts\n",
        "- Task 5: Retrieval Augmented Generation\n",
        "  - 🚧 Activity #1: Augment RAG\n",
        "- Task 6: Visibility Tooling\n",
        "- Task 7: RAG Evaluation Using GPT-4"
      ]
    },
    {
      "cell_type": "markdown",
      "metadata": {
        "id": "1Dz6GYilR6yt"
      },
      "source": [
        "Let's look at a rather complicated looking visual representation of a basic RAG application.\n",
        "\n",
        "<img src=\"https://i.imgur.com/PvlaIUO.png\" />"
      ]
    },
    {
      "cell_type": "markdown",
      "metadata": {
        "id": "PjmC0KFtR6yt"
      },
      "source": [
        "## Task 1: Imports and Utility\n",
        "\n",
        "We're just doing some imports and enabling `async` to work within the Jupyter environment here, nothing too crazy!"
      ]
    },
    {
      "cell_type": "code",
      "execution_count": 2,
      "metadata": {
        "colab": {
          "base_uri": "https://localhost:8080/"
        },
        "id": "H7VEzqziR6yt",
        "outputId": "f873dd3b-55a0-4e00-ecf4-e2a0fe3af327"
      },
      "outputs": [],
      "source": [
        "!pip install -qU numpy matplotlib plotly pandas scipy scikit-learn openai python-dotenv PyMuPDF"
      ]
    },
    {
      "cell_type": "code",
      "execution_count": 3,
      "metadata": {
        "id": "Z1dyrG4hR6yt"
      },
      "outputs": [],
      "source": [
        "from aimakerspace.text_utils import TextFileLoader, CharacterTextSplitter\n",
        "from aimakerspace.vectordatabase import VectorDatabase\n",
        "import asyncio"
      ]
    },
    {
      "cell_type": "code",
      "execution_count": 4,
      "metadata": {
        "id": "9OrFZRnER6yt"
      },
      "outputs": [],
      "source": [
        "import nest_asyncio\n",
        "nest_asyncio.apply()"
      ]
    },
    {
      "cell_type": "markdown",
      "metadata": {
        "id": "M0jGnpQsR6yu"
      },
      "source": [
        "## Task 2: Documents\n",
        "\n",
        "We'll be concerning ourselves with this part of the flow in the following section:\n",
        "\n",
        "<img src=\"https://i.imgur.com/jTm9gjk.png\" />"
      ]
    },
    {
      "cell_type": "markdown",
      "metadata": {
        "id": "-SFPWvRUR6yu"
      },
      "source": [
        "### Loading Source Documents\n",
        "\n",
        "So, first things first, we need some documents to work with.\n",
        "\n",
        "While we could work directly with the `.txt` files (or whatever file-types you wanted to extend this to) we can instead do some batch processing of those documents at the beginning in order to store them in a more machine compatible format.\n",
        "\n",
        "In this case, we're going to parse our text file into a single document in memory.\n",
        "\n",
        "Let's look at the relevant bits of the `TextFileLoader` class:\n",
        "\n",
        "```python\n",
        "def load_file(self):\n",
        "        with open(self.path, \"r\", encoding=self.encoding) as f:\n",
        "            self.documents.append(f.read())\n",
        "```\n",
        "\n",
        "We're simply loading the document using the built in `open` method, and storing that output in our `self.documents` list.\n"
      ]
    },
    {
      "cell_type": "code",
      "execution_count": 5,
      "metadata": {
        "colab": {
          "base_uri": "https://localhost:8080/"
        },
        "id": "Ia2sUEuGR6yu",
        "outputId": "84937ecc-c35f-4c4a-a4ab-9da72625954c"
      },
      "outputs": [
        {
          "name": "stdout",
          "output_type": "stream",
          "text": [
            "Loading PDF file: data/AlmanackNaval.pdf\n"
          ]
        },
        {
          "data": {
            "text/plain": [
              "1"
            ]
          },
          "execution_count": 5,
          "metadata": {},
          "output_type": "execute_result"
        }
      ],
      "source": [
        "# text_loader = TextFileLoader(\"data/PMarcaBlogs.txt\")\n",
        "text_loader = TextFileLoader(\"data/AlmanackNaval.pdf\")\n",
        "documents = text_loader.load_documents()\n",
        "len(documents)"
      ]
    },
    {
      "cell_type": "code",
      "execution_count": 6,
      "metadata": {
        "colab": {
          "base_uri": "https://localhost:8080/"
        },
        "id": "bV-tj5WFR6yu",
        "outputId": "674eb315-1ff3-4597-bcf5-38ece0a812ac"
      },
      "outputs": [
        {
          "name": "stdout",
          "output_type": "stream",
          "text": [
            "T H E  A L M A N A C K  O F  N A V A L  R A V I K A N T\n",
            "E R I C  J O RG E N S O N\n",
            "T H E  A L M A N AC K  O F  N AVA L  R AV I K A N T\n",
            "Copyright © 2020 Eric Jorgenson\n",
            "All rights reserved.\n",
            "The Almanack of Naval Ravikant\n",
            "A Guide to Wealth and Happiness\n",
            "ISBN\t 978-1-5445-1422-2\t Hardcover\n",
            "\t\n",
            "978-1-5445-1421-5\t Paperback\n",
            "\t\n",
            "978-1-5445-1420-8\t Ebook\n",
            "This book has been created as a public service. It is available for \n",
            "free download in pdf and e-reader versions on Navalmanack.com. \n",
            "Naval is not earning any money on this book. Naval has essays, \n",
            "podcasts and more at Nav.al and is on Twitter @Naval.\n",
            "F O R  M Y  P A R E N T S ,  W H O  G A V E  M E \n",
            "E V E R Y T H I N G  A N D  A L W AY S  S E E M  T O \n",
            "F I N D  A  W AY  T O  G I V E  M O R E .\n",
            "CONTENTS\n",
            "IMPORTANT NOTES ON THIS BOOK (DISCLAIMER)\t\n",
            "9\n",
            "FOREWORD\t\n",
            "13\n",
            "ERIC’S NOTE (ABOUT THIS BOOK)\t\n",
            "17\n",
            "TIMELINE OF NAVAL RAVIKANT\t\n",
            "21\n",
            "NOW, HERE IS NAVAL IN HIS OWN WORDS…\t\n",
            "23\n",
            "PART I: WEALTH\n",
            "BUILDING WEALTH\t\n",
            "29\n",
            "Understand How Wealth Is Created\t\n",
            "30\n",
            "Find and Build \n"
          ]
        }
      ],
      "source": [
        "print(documents[0][:1000])"
      ]
    },
    {
      "cell_type": "markdown",
      "metadata": {
        "id": "nHlTvCzYR6yu"
      },
      "source": [
        "### Splitting Text Into Chunks\n",
        "\n",
        "As we can see, there is one document - and it's the entire text of Frakenstein\n",
        "\n",
        "We'll want to chunk the document into smaller parts so it's easier to pass the most relevant snippets to the LLM.\n",
        "\n",
        "There is no fixed way to split/chunk documents - and you'll need to rely on some intuition as well as knowing your data *very* well in order to build the most robust system.\n",
        "\n",
        "For this toy example, we'll just split blindly on length.\n",
        "\n",
        ">There's an opportunity to clear up some terminology here, for this course we will be stick to the following:\n",
        ">\n",
        ">- \"source documents\" : The `.txt`, `.pdf`, `.html`, ..., files that make up the files and information we start with in its raw format\n",
        ">- \"document(s)\" : single (or more) text object(s)\n",
        ">- \"corpus\" : the combination of all of our documents"
      ]
    },
    {
      "cell_type": "markdown",
      "metadata": {
        "id": "M0DV5Yx5R6yu"
      },
      "source": [
        "Let's take a peek visually at what we're doing here - and why it might be useful:\n",
        "\n",
        "<img src=\"https://i.imgur.com/rtM6Ci6.png\" />"
      ]
    },
    {
      "cell_type": "markdown",
      "metadata": {
        "id": "2G6Voc0jR6yv"
      },
      "source": [
        "As you can see (though it's not specifically true in this toy example) the idea of splitting documents is to break them into managable sized chunks that retain the most relevant local context."
      ]
    },
    {
      "cell_type": "code",
      "execution_count": 7,
      "metadata": {
        "colab": {
          "base_uri": "https://localhost:8080/"
        },
        "id": "UMC4tsEmR6yv",
        "outputId": "08689c0b-57cd-4040-942a-8193e997f5cb"
      },
      "outputs": [
        {
          "data": {
            "text/plain": [
              "344"
            ]
          },
          "execution_count": 7,
          "metadata": {},
          "output_type": "execute_result"
        }
      ],
      "source": [
        "text_splitter = CharacterTextSplitter()\n",
        "split_documents = text_splitter.split_texts(documents)\n",
        "len(split_documents)"
      ]
    },
    {
      "cell_type": "markdown",
      "metadata": {
        "id": "W2wKT0WLR6yv"
      },
      "source": [
        "Let's take a look at some of the documents we've managed to split."
      ]
    },
    {
      "cell_type": "code",
      "execution_count": 8,
      "metadata": {
        "colab": {
          "base_uri": "https://localhost:8080/"
        },
        "id": "vcYMwWJoR6yv",
        "outputId": "20d69876-feca-4826-b4be-32915276987a"
      },
      "outputs": [
        {
          "data": {
            "text/plain": [
              "['T H E  A L M A N A C K  O F  N A V A L  R A V I K A N T\\nE R I C  J O RG E N S O N\\nT H E  A L M A N AC K  O F  N AVA L  R AV I K A N T\\nCopyright © 2020 Eric Jorgenson\\nAll rights reserved.\\nThe Almanack of Naval Ravikant\\nA Guide to Wealth and Happiness\\nISBN\\t 978-1-5445-1422-2\\t Hardcover\\n\\t\\n978-1-5445-1421-5\\t Paperback\\n\\t\\n978-1-5445-1420-8\\t Ebook\\nThis book has been created as a public service. It is available for \\nfree download in pdf and e-reader versions on Navalmanack.com. \\nNaval is not earning any money on this book. Naval has essays, \\npodcasts and more at Nav.al and is on Twitter @Naval.\\nF O R  M Y  P A R E N T S ,  W H O  G A V E  M E \\nE V E R Y T H I N G  A N D  A L W AY S  S E E M  T O \\nF I N D  A  W AY  T O  G I V E  M O R E .\\nCONTENTS\\nIMPORTANT NOTES ON THIS BOOK (DISCLAIMER)\\t\\n9\\nFOREWORD\\t\\n13\\nERIC’S NOTE (ABOUT THIS BOOK)\\t\\n17\\nTIMELINE OF NAVAL RAVIKANT\\t\\n21\\nNOW, HERE IS NAVAL IN HIS OWN WORDS…\\t\\n23\\nPART I: WEALTH\\nBUILDING WEALTH\\t\\n29\\nUnderstand How Wealth Is Created\\t\\n30\\nFind and Build ',\n",
              " 'RD\\t\\n13\\nERIC’S NOTE (ABOUT THIS BOOK)\\t\\n17\\nTIMELINE OF NAVAL RAVIKANT\\t\\n21\\nNOW, HERE IS NAVAL IN HIS OWN WORDS…\\t\\n23\\nPART I: WEALTH\\nBUILDING WEALTH\\t\\n29\\nUnderstand How Wealth Is Created\\t\\n30\\nFind and Build Specific Knowledge\\t\\n40\\nPlay Long-Term Games with Long-Term People\\t\\n46\\nTake on Accountability\\t\\n50\\nBuild or Buy Equity in a Business\\t\\n53\\nFind a Position of Leverage\\t\\n55\\nGet Paid for Your Judgment\\t\\n67\\nPrioritize and Focus\\t\\n69\\nFind Work That Feels Like Play\\t\\n76\\nHow to Get Lucky\\t\\n82\\nBe Patient\\t\\n87\\nBUILDING JUDGMENT\\t\\n93\\nJudgment\\t\\n94\\nHow to Think Clearly\\t\\n95\\nShed Your Identity to See Reality\\t\\n101\\nLearn the Skills of Decision-Making\\t\\n103\\nCollect Mental Models\\t\\n106\\nLearn to Love to Read\\t\\n1\\n14\\nPART II: HAPPINESS\\nLEARNING HAPPINESS\\t\\n127\\nHappiness Is Learned\\t\\n128\\nHappiness Is a Choice\\t\\n133\\nHappiness Requires Presence\\t\\n134\\nHappiness Requires Peace\\t\\n135\\nEvery Desire Is a Chosen Unhappiness\\t\\n137\\nSuccess Does Not Earn Happiness\\t\\n139\\nEnvy Is the Enemy of Happiness\\t\\n143\\nHappiness Is Built by Habits\\t\\n145\\nFin',\n",
              " 'res Presence\\t\\n134\\nHappiness Requires Peace\\t\\n135\\nEvery Desire Is a Chosen Unhappiness\\t\\n137\\nSuccess Does Not Earn Happiness\\t\\n139\\nEnvy Is the Enemy of Happiness\\t\\n143\\nHappiness Is Built by Habits\\t\\n145\\nFind Happiness in Acceptance\\t\\n151\\nSAVING YOURSELF\\t\\n157\\nChoosing to Be Yourself\\t\\n158\\nChoosing to Care for Yourself\\t\\n161\\nMeditation + Mental Strength\\t\\n168\\nChoosing to Build Yourself\\t\\n178\\nChoosing to Grow Yourself\\t\\n183\\nChoosing to Free Yourself\\t\\n187\\nPHILOSOPHY\\t\\n193\\nThe Meanings of Life\\t\\n194\\nLive by Your Values\\t\\n196\\nRational Buddhism\\t\\n198\\nThe Present Is All We Have\\t\\n202\\nBONUS\\nNAVAL’S RECOMMENDED READING\\t\\n207\\nBooks\\t\\n208\\nOther Recommendations\\t\\n221\\nNAVAL’S WRITING\\t\\n223\\nNEXT ON NAVAL\\t\\n227\\nAPPRECIATION\\t\\n229\\nSOURCES\\t\\n233\\nABOUT THE AUTHOR\\t\\n241\\nI m p o r t a n t  N o t e s  O n  T h i s  B o o k  ( D i s c l a i m e r ) \\u2007 · \\u2007 9\\nIMPORTANT NOTES \\nON THIS BOOK \\n(DISCLAIMER)\\nI built the Navalmanack entirely out of transcripts, Tweets, \\nand talks Naval has shared. Every attempt is made to present \\nNaval in hi',\n",
              " ' a i m e r ) \\u2007 · \\u2007 9\\nIMPORTANT NOTES \\nON THIS BOOK \\n(DISCLAIMER)\\nI built the Navalmanack entirely out of transcripts, Tweets, \\nand talks Naval has shared. Every attempt is made to present \\nNaval in his own words. However, there are a few important \\npoints.\\n\\t\\n→The transcripts have been edited for clarity and brevity \\n(multiple times).\\n\\t\\n→Not all sources are primary (some excerpts are from other \\nwriters quoting Naval).\\n\\t\\n→I can’t be 100 percent certain of every source’s authenticity.\\n\\t\\n→Concepts and interpretations change over time, medium, \\nand context.\\n\\t\\n→Please verify phrasing with a primary source before citing \\nNaval from this text.\\n\\t\\n→Please interpret generously.\\nBy definition, everything in this book is taken out of context. \\nInterpretations will change over time. Read and interpret gen-\\n10\\u2002 · \\u2002 T H E  A L M A N A C K  O F  N A V A L  R A V I K A N T\\nerously. Understand the original intent may be different than \\nyour interpretation in a different time, medium, format, and \\ncontex',\n",
              " 'gen-\\n10\\u2002 · \\u2002 T H E  A L M A N A C K  O F  N A V A L  R A V I K A N T\\nerously. Understand the original intent may be different than \\nyour interpretation in a different time, medium, format, and \\ncontext.\\nIn the process of creating this book, I may have mistakenly \\nre-contextualized, misinterpreted, or misunderstood things. \\nAs content passed through time, space, and medium, some \\nphrasing may have shifted in flight. Every effort has been made \\nto maintain the original intent, but errors are (very) possible.\\nInterviews have been transcribed, edited, rearranged, and \\nre-edited for readability. I did my best to keep Naval’s ideas \\nin his own words.\\nAll brilliance in this book is Naval’s; any mistakes are mine.\\nTWEETS AND TWEETSTORMS\\nTweets are formatted like pull quotes but are unique content. \\nI use them to summarize or punctuate an idea from the main \\nprose.\\nThis formatting shows I’m quoting a tweet.\\nTweetstorms are connected tweets, formatted like this:\\nI m p o r t a n t  N o t e s  O n']"
            ]
          },
          "execution_count": 8,
          "metadata": {},
          "output_type": "execute_result"
        }
      ],
      "source": [
        "split_documents[0:5]"
      ]
    },
    {
      "cell_type": "markdown",
      "metadata": {
        "id": "HOU-RFP_R6yv"
      },
      "source": [
        "## Task 3: Embeddings and Vectors\n",
        "\n",
        "Next, we have to convert our corpus into a \"machine readable\" format.\n",
        "\n",
        "Loosely, this means turning the text into numbers.\n",
        "\n",
        "Today, we're going to talk about the actual process of creating, and then storing, these embeddings, and how we can leverage that to intelligently add context to our queries."
      ]
    },
    {
      "cell_type": "markdown",
      "metadata": {},
      "source": [
        "### Embeddings and Dense Vector Search: A Quick Primer\n",
        "\n",
        "If you come from an NLP background, embeddings are something you might be intimately familiar with - otherwise, you might find the topic a bit...dense. (this attempt at a joke will make more sense later)\n",
        "\n",
        "In all seriousness, embeddings are a powerful piece of the NLP puzzle, so let's dive in!\n",
        "\n",
        "> NOTE: While this notebook language/NLP-centric, embeddings have uses beyond just text!"
      ]
    },
    {
      "cell_type": "markdown",
      "metadata": {},
      "source": [
        "#### Why Do We Even Need Embeddings?\n",
        "\n",
        "In order to fully understand what Embeddings are, we first need to understand why we have them!\n",
        "\n",
        "Machine Learning algorithms, ranging from the very big to the very small, all have one thing in common:\n",
        "\n",
        "They need numeric inputs.\n",
        "\n",
        "So we need a process by which to translate the domain we live in, dominated by images, audio, language, and more, into the domain of the machine: Numbers.\n",
        "\n",
        "Another thing we want to be able to do is capture \"semantic information\" about words/phrases so that we can use algorithmic approaches to determine if words are closely related or not!\n",
        "\n",
        "So, we need to come up with a process that does these two things well:\n",
        "\n",
        "- Convert non-numeric data into numeric-data\n",
        "- Capture potential semantic relationships between individual pieces of data"
      ]
    },
    {
      "cell_type": "markdown",
      "metadata": {},
      "source": [
        "#### How Do Embeddings Capture Semantic Relationships?\n",
        "\n",
        "In a simplified sense, embeddings map a word or phrase into n-dimensional space with a dense continuous vector, where each dimension in the vector represents some \"latent feature\" of the data.\n",
        "\n",
        "This is best represented in a classic example:\n",
        "\n",
        "![image](https://i.imgur.com/K5eQtmH.png)\n",
        "\n",
        "As can be seen in the extremely simplified example: The X_1 axis represents age, and the X_2 axis represents hair.\n",
        "\n",
        "The relationship of \"puppy -> dog\" reflects the same relationship as \"baby -> adult\", but dogs are (typically) hairier than humans. However, adults typically have more hair than babies - so they are shifted slightly closer to dogs on the X_2 axis!\n",
        "\n",
        "Now, this is a simplified and contrived example - but it is *essentially* the mechanism by which embeddings capture semantic information.\n",
        "\n",
        "In reality, the dimensions don't sincerely represent hard-concepts like \"age\" or \"hair\", but it's useful as a way to think about how the semantic relationships are captured.\n",
        "\n",
        "Alright, with some history behind us - let's examine how these might help us choose relevant context."
      ]
    },
    {
      "cell_type": "markdown",
      "metadata": {},
      "source": [
        "Let's begin with a simple example - simply looking at how close to embedding vectors are for a given phrase.\n",
        "\n",
        "When we use the term \"close\" in this notebook - we're referring to a distance measure called \"cosine similarity\".\n",
        "\n",
        "We discussed above that if two embeddings are close - they are semantically similar, cosine similarity gives us a quick way to measure how similar two vectors are!\n",
        "\n",
        "Closeness is measured from 1 to -1, with 1 being extremely close and -1 being extremely close to opposite in meaning.\n",
        "\n",
        "Let's implement it with Numpy below."
      ]
    },
    {
      "cell_type": "code",
      "execution_count": 9,
      "metadata": {},
      "outputs": [],
      "source": [
        "import numpy as np\n",
        "from numpy.linalg import norm\n",
        "\n",
        "def cosine_similarity(vec_1, vec_2):\n",
        "  return np.dot(vec_1, vec_2) / (norm(vec_1) * norm(vec_2))"
      ]
    },
    {
      "cell_type": "markdown",
      "metadata": {},
      "source": [
        "Now let's use the `text-embedding-3-small` embedding model (more on that in a second) to embed two sentences. In order to use this embedding model endpoint - we'll need to provide our OpenAI API key!"
      ]
    },
    {
      "cell_type": "code",
      "execution_count": 10,
      "metadata": {
        "colab": {
          "base_uri": "https://localhost:8080/"
        },
        "id": "EaOETZGpR6yv",
        "outputId": "1239abf1-faff-49f2-a67c-7350e50fb1b9"
      },
      "outputs": [],
      "source": [
        "import os\n",
        "import openai\n",
        "from getpass import getpass\n",
        "\n",
        "openai.api_key = getpass(\"OpenAI API Key: \")\n",
        "os.environ[\"OPENAI_API_KEY\"] = openai.api_key"
      ]
    },
    {
      "cell_type": "code",
      "execution_count": 11,
      "metadata": {},
      "outputs": [],
      "source": [
        "from aimakerspace.openai_utils.embedding import EmbeddingModel\n",
        "\n",
        "embedding_model = EmbeddingModel()"
      ]
    },
    {
      "cell_type": "markdown",
      "metadata": {},
      "source": [
        "Let's define our two sentences:"
      ]
    },
    {
      "cell_type": "code",
      "execution_count": 12,
      "metadata": {},
      "outputs": [],
      "source": [
        "puppy_sentence = \"I love puppies!\"\n",
        "dog_sentence = \"I love dogs!\""
      ]
    },
    {
      "cell_type": "markdown",
      "metadata": {},
      "source": [
        "Now we can convert those into embedding vectors using OpenAI!"
      ]
    },
    {
      "cell_type": "code",
      "execution_count": 13,
      "metadata": {},
      "outputs": [],
      "source": [
        "puppy_vector = embedding_model.get_embedding(puppy_sentence)\n",
        "dog_vector = embedding_model.get_embedding(dog_sentence)"
      ]
    },
    {
      "cell_type": "markdown",
      "metadata": {},
      "source": [
        "Now we can determine how closely they are related using our distance measure!"
      ]
    },
    {
      "cell_type": "code",
      "execution_count": 14,
      "metadata": {},
      "outputs": [
        {
          "data": {
            "text/plain": [
              "0.8340215662150424"
            ]
          },
          "execution_count": 14,
          "metadata": {},
          "output_type": "execute_result"
        }
      ],
      "source": [
        "cosine_similarity(puppy_vector, dog_vector)"
      ]
    },
    {
      "cell_type": "markdown",
      "metadata": {},
      "source": [
        "Remember, with cosine similarity, close to 1. means they're very close!\n",
        "\n",
        "Let's see what happens if we use a different set of sentences."
      ]
    },
    {
      "cell_type": "code",
      "execution_count": 15,
      "metadata": {},
      "outputs": [
        {
          "data": {
            "text/plain": [
              "0.3724333322983298"
            ]
          },
          "execution_count": 15,
          "metadata": {},
          "output_type": "execute_result"
        }
      ],
      "source": [
        "puppy_sentence = \"I love puppies!\"\n",
        "cat_sentence = \"I dislike cats!\"\n",
        "\n",
        "puppy_vector = embedding_model.get_embedding(puppy_sentence)\n",
        "cat_vector = embedding_model.get_embedding(cat_sentence)\n",
        "\n",
        "cosine_similarity(puppy_vector, cat_vector)"
      ]
    },
    {
      "cell_type": "markdown",
      "metadata": {},
      "source": [
        "As you can see - these vectors are further apart - as expected!\n",
        "\n",
        "Now that we've gotten some background - lets see this put together with a few extra layers on top!"
      ]
    },
    {
      "cell_type": "markdown",
      "metadata": {},
      "source": [
        "### Vector Database\n",
        "\n",
        "Let's set up our vector database to hold all our documents and their embeddings!"
      ]
    },
    {
      "cell_type": "markdown",
      "metadata": {
        "id": "kDQrfAR1R6yv"
      },
      "source": [
        "While this is all baked into 1 call - we can look at some of the code that powers this process to get a better understanding:\n",
        "\n",
        "Let's look at our `VectorDatabase().__init__()`:\n",
        "\n",
        "```python\n",
        "def __init__(self, embedding_model: EmbeddingModel = None):\n",
        "        self.vectors = defaultdict(np.array)\n",
        "        self.embedding_model = embedding_model or EmbeddingModel()\n",
        "```\n",
        "\n",
        "As you can see - our vectors are merely stored as a dictionary of `np.array` objects.\n",
        "\n",
        "Secondly, our `VectorDatabase()` has a default `EmbeddingModel()` which is a wrapper for OpenAI's `text-embedding-3-small` model.\n",
        "\n",
        "> **Quick Info About `text-embedding-3-small`**:\n",
        "> - It has a context window of **8191** tokens\n",
        "> - It returns vectors with dimension **1536**"
      ]
    },
    {
      "cell_type": "markdown",
      "metadata": {
        "id": "L273pRdeR6yv"
      },
      "source": [
        "#### ❓Question #1:\n",
        "\n",
        "The default embedding dimension of `text-embedding-3-small` is 1536, as noted above. \n",
        "\n",
        "1. Is there any way to modify this dimension?\n",
        "    - There is a dimensions parameter in the openAI api endpoint available for text-embedding-3 type models.\n",
        "2. What technique does OpenAI use to achieve this?\n",
        "    - Matryoshka Representation Learning \n",
        "\n",
        "> NOTE: Check out this [API documentation](https://platform.openai.com/docs/api-reference/embeddings/create) for the answer to question #1, and [this documentation](https://platform.openai.com/docs/guides/embeddings/use-cases) for an answer to question #2!"
      ]
    },
    {
      "cell_type": "markdown",
      "metadata": {
        "id": "w5FZY7K3R6yv"
      },
      "source": [
        "We can call the `async_get_embeddings` method of our `EmbeddingModel()` on a list of `str` and receive a list of `float` back!\n",
        "\n",
        "```python\n",
        "async def async_get_embeddings(self, list_of_text: List[str]) -> List[List[float]]:\n",
        "        return await aget_embeddings(\n",
        "            list_of_text=list_of_text, engine=self.embeddings_model_name\n",
        "        )\n",
        "```"
      ]
    },
    {
      "cell_type": "markdown",
      "metadata": {
        "id": "cSct6X0aR6yv"
      },
      "source": [
        "We cast those to `np.array` when we build our `VectorDatabase()`:\n",
        "\n",
        "```python\n",
        "async def abuild_from_list(self, list_of_text: List[str]) -> \"VectorDatabase\":\n",
        "        embeddings = await self.embedding_model.async_get_embeddings(list_of_text)\n",
        "        for text, embedding in zip(list_of_text, embeddings):\n",
        "            self.insert(text, np.array(embedding))\n",
        "        return self\n",
        "```\n",
        "\n",
        "And that's all we need to do!"
      ]
    },
    {
      "cell_type": "code",
      "execution_count": 16,
      "metadata": {
        "id": "O4KoLbVDR6yv"
      },
      "outputs": [],
      "source": [
        "vector_db = VectorDatabase()\n",
        "vector_db = asyncio.run(vector_db.abuild_from_list(split_documents))"
      ]
    },
    {
      "cell_type": "markdown",
      "metadata": {
        "id": "SSZwaGvpR6yv"
      },
      "source": [
        "#### ❓Question #2:\n",
        "\n",
        "What are the benefits of using an `async` approach to collecting our embeddings?\n",
        "- Async enables parallel execution, allowing multiple tasks to be done at the same time. Sync(hronous) proccesses tasks sequentially and will not continue until one task is fully completed. Async can be more effective and cheaper for embeddings.\n",
        "\n",
        "> NOTE: Determining the core difference between `async` and `sync` will be useful! If you get stuck - ask ChatGPT!"
      ]
    },
    {
      "cell_type": "markdown",
      "metadata": {
        "id": "nRBdIt-xR6yw"
      },
      "source": [
        "So, to review what we've done so far in natural language:\n",
        "\n",
        "1. We load source documents\n",
        "2. We split those source documents into smaller chunks (documents)\n",
        "3. We send each of those documents to the `text-embedding-3-small` OpenAI API endpoint\n",
        "4. We store each of the text representations with the vector representations as keys/values in a dictionary"
      ]
    },
    {
      "cell_type": "markdown",
      "metadata": {
        "id": "4-vWANZyR6yw"
      },
      "source": [
        "### Semantic Similarity\n",
        "\n",
        "The next step is to be able to query our `VectorDatabase()` with a `str` and have it return to us vectors and text that is most relevant from our corpus.\n",
        "\n",
        "We're going to use the following process to achieve this in our toy example:\n",
        "\n",
        "1. We need to embed our query with the same `EmbeddingModel()` as we used to construct our `VectorDatabase()`\n",
        "2. We loop through every vector in our `VectorDatabase()` and use a distance measure to compare how related they are\n",
        "3. We return a list of the top `k` closest vectors, with their text representations\n",
        "\n",
        "There's some very heavy optimization that can be done at each of these steps - but let's just focus on the basic pattern in this notebook.\n",
        "\n",
        "> We are using [cosine similarity](https://www.engati.com/glossary/cosine-similarity) as a distance metric in this example - but there are many many distance metrics you could use - like [these](https://flavien-vidal.medium.com/similarity-distances-for-natural-language-processing-16f63cd5ba55)\n",
        "\n",
        "> We are using a rather inefficient way of calculating relative distance between the query vector and all other vectors - there are more advanced approaches that are much more efficient, like [ANN](https://towardsdatascience.com/comprehensive-guide-to-approximate-nearest-neighbors-algorithms-8b94f057d6b6)"
      ]
    },
    {
      "cell_type": "code",
      "execution_count": 17,
      "metadata": {
        "colab": {
          "base_uri": "https://localhost:8080/"
        },
        "id": "76d96uavR6yw",
        "outputId": "bbfccc31-20a2-41c7-c14d-46554a43ed2d"
      },
      "outputs": [
        {
          "data": {
            "text/plain": [
              "[('\\ndo.\\xa0[78]\\nKNOWLEDGE\\nALLOCATION\\nB u i l d i n g  W e a l t h \\u2002 · \\u2002 53\\nBUILD OR BUY EQUITY IN A BUSINESS\\nIf you don’t own a piece of a business, you don’t have a path \\ntowards financial freedom.\\nWhy is owning equity in a business important to becoming \\nrich?\\nIt’s ownership versus wage work. If you are paid for rent-\\ning out your time, even lawyers and doctors, you can make \\nsome money, but you’re not going to make the money that \\ngives you financial freedom. You’re not going to have passive \\nincome where a business is earning for you while you are on \\nvacation.\\xa0[10]\\nThis is probably one of the most important points. People seem \\nto think you can create wealth—make money through work. \\nIt’s probably not going to work. There are many reasons for \\nthat.\\nWithout ownership, your inputs are very closely tied to your \\noutputs. In almost any salaried job, even one paying a lot per \\nhour like a lawyer or a doctor, you’re still putting in the hours, \\nand every hour you get paid.\\nWithout ownership,',\n",
              "  0.6214019212691444),\n",
              " ('my job right, if I create value for society, society says, “Oh, \\nthank you. We owe you something in the future for the work \\nyou did in the past. Here’s a little IOU. Let’s call that money.”\\xa0[78]\\nWealth is the thing you want. Wealth is assets that earn while \\nyou sleep. Wealth is the factory, the robots, cranking out things. \\nWealth is the computer program that’s running at night, serv-\\ning other customers. Wealth is even money in the bank that is \\nbeing reinvested into other assets, and into other businesses.\\nEven a house can be a form of wealth, because you can rent it \\nout, although that’s probably a lower productivity use of land \\nthan some commercial enterprise.\\nSo, my definition of wealth is much more businesses and assets \\nthat can earn while you sleep.\\xa0[78]\\nB u i l d i n g  W e a l t h \\u2002 · \\u2002 39\\nTechnology democratizes consumption but consolidates \\nproduction. The best person in the world at anything gets to \\ndo it for everyone.\\nSociety will pay you for creating things it wants.',\n",
              "  0.6091679917452097),\n",
              " ('):\\n↓\\nSeek wealth, not money or status. Wealth is having assets \\nthat earn while you sleep. Money is how we transfer time \\nand wealth. Status is your place in the social hierarchy.\\n↓\\nUnderstand ethical wealth creation is possible. If you secretly \\ndespise wealth, it will elude you.\\n↓\\nIgnore people playing status games. They gain status by \\nattacking people playing wealth creation games.\\n↓\\nYou’re not going to get rich renting out your time. You must \\nown equity—a piece of a business—to gain your financial \\nfreedom.\\n↓\\nYou will get rich by giving society what it wants but does not \\nyet know how to get. At scale.\\n↓\\n32\\u2002 · \\u2002 T H E  A L M A N A C K  O F  N A V A L  R A V I K A N T\\nPick an industry where you can play long-term games with \\nlong-term people.\\n↓\\nThe internet has massively broadened the possible space of \\ncareers. Most people haven’t figured this out yet.\\n↓\\nPlay iterated games. All the returns in life, whether in wealth, \\nrelationships, or knowledge, come from compound interest.\\n↓\\nP',\n",
              "  0.6009840084544968),\n",
              " (' has increasing leverage, increasing accountability, \\nincreasingly specific knowledge. You’re adding in money-\\nbased leverage on top of labor-based leverage. Adding in \\ncode-based leverage on top of money and labor allows you to \\nactually create something bigger and bigger and get closer and \\ncloser to owning all the upside, not just being paid a salary.\\nYou start as a salaried employee. But you want to work your way \\nup to try and get higher leverage, more accountability, and spe-\\ncific knowledge. The combination of those over a long period \\nof time with the magic of compound interest will make you \\nwealthy.\\xa0[74]\\nThe one thing you have to avoid is the risk of ruin.\\nAvoiding ruin means stay out of jail. So, don’t do anything ille-\\nB u i l d i n g  W e a l t h \\u2002 · \\u2002 67\\ngal. It’s never worth it to wear an orange jumpsuit. Stay out of \\ntotal catastrophic loss. Avoiding ruin could also mean you stay \\nout of things that could be physically dangerous or hurt your \\nbody. You have to watch you',\n",
              "  0.5960834972154819),\n",
              " ('p is really important.\\xa0[10]\\nEverybody who really makes money at some point owns a piece \\nof a product, a business, or some IP. That can be through stock \\noptions if you work at a tech company. That’s a fine way to start.\\nBut usually, the real wealth is created by starting your own \\ncompanies or even by investing. In an investment firm, they’re \\nbuying equity. These are the routes to wealth. It doesn’t come \\nthrough the hours.\\xa0[78]\\nB u i l d i n g  W e a l t h \\u2002 · \\u2002 55\\nLEVERAGE\\n1X\\n1,000X\\n10,000X\\nFIND A POSITION OF LEVERAGE\\nWe live in an age of infinite leverage, and the economic rewards \\nfor genuine intellectual curiosity have never been higher.\\xa0[11] \\nFollowing your genuine intellectual curiosity is a better foun-\\ndation for a career than following whatever is making money \\nright now.\\xa0[11]\\nKnowledge only you know or only a small set of people knows \\nis going to come out of your passions and your hobbies, oddly \\n56\\u2002 · \\u2002 T H E  A L M A N A C K  O F  N A V A L  R A V I K A N T\\nenough. If y',\n",
              "  0.5853374891813581)]"
            ]
          },
          "execution_count": 17,
          "metadata": {},
          "output_type": "execute_result"
        }
      ],
      "source": [
        "vector_db.search_by_text(\"How do you build wealth?\", k=5)"
      ]
    },
    {
      "cell_type": "markdown",
      "metadata": {
        "id": "TehsfIiKR6yw"
      },
      "source": [
        "## Task 4: Prompts\n",
        "\n",
        "In the following section, we'll be looking at the role of prompts - and how they help us to guide our application in the right direction.\n",
        "\n",
        "In this notebook, we're going to rely on the idea of \"zero-shot in-context learning\".\n",
        "\n",
        "This is a lot of words to say: \"We will ask it to perform our desired task in the prompt, and provide no examples.\""
      ]
    },
    {
      "cell_type": "markdown",
      "metadata": {
        "id": "yXpA0UveR6yw"
      },
      "source": [
        "### XYZRolePrompt\n",
        "\n",
        "Before we do that, let's stop and think a bit about how OpenAI's chat models work.\n",
        "\n",
        "We know they have roles - as is indicated in the following API [documentation](https://platform.openai.com/docs/api-reference/chat/create#chat/create-messages)\n",
        "\n",
        "There are three roles, and they function as follows (taken directly from [OpenAI](https://platform.openai.com/docs/guides/gpt/chat-completions-api)):\n",
        "\n",
        "- `{\"role\" : \"system\"}` : The system message helps set the behavior of the assistant. For example, you can modify the personality of the assistant or provide specific instructions about how it should behave throughout the conversation. However note that the system message is optional and the model’s behavior without a system message is likely to be similar to using a generic message such as \"You are a helpful assistant.\"\n",
        "- `{\"role\" : \"user\"}` : The user messages provide requests or comments for the assistant to respond to.\n",
        "- `{\"role\" : \"assistant\"}` : Assistant messages store previous assistant responses, but can also be written by you to give examples of desired behavior.\n",
        "\n",
        "The main idea is this:\n",
        "\n",
        "1. You start with a system message that outlines how the LLM should respond, what kind of behaviours you can expect from it, and more\n",
        "2. Then, you can provide a few examples in the form of \"assistant\"/\"user\" pairs\n",
        "3. Then, you prompt the model with the true \"user\" message.\n",
        "\n",
        "In this example, we'll be forgoing the 2nd step for simplicities sake."
      ]
    },
    {
      "cell_type": "markdown",
      "metadata": {
        "id": "gdZ2KWKSR6yw"
      },
      "source": [
        "#### Utility Functions\n",
        "\n",
        "You'll notice that we're using some utility functions from the `aimakerspace` module - let's take a peek at these and see what they're doing!"
      ]
    },
    {
      "cell_type": "markdown",
      "metadata": {
        "id": "GFbeJDDsR6yw"
      },
      "source": [
        "##### XYZRolePrompt"
      ]
    },
    {
      "cell_type": "markdown",
      "metadata": {
        "id": "5mojJSE3R6yw"
      },
      "source": [
        "Here we have our `system`, `user`, and `assistant` role prompts.\n",
        "\n",
        "Let's take a peek at what they look like:\n",
        "\n",
        "```python\n",
        "class BasePrompt:\n",
        "    def __init__(self, prompt):\n",
        "        \"\"\"\n",
        "        Initializes the BasePrompt object with a prompt template.\n",
        "\n",
        "        :param prompt: A string that can contain placeholders within curly braces\n",
        "        \"\"\"\n",
        "        self.prompt = prompt\n",
        "        self._pattern = re.compile(r\"\\{([^}]+)\\}\")\n",
        "\n",
        "    def format_prompt(self, **kwargs):\n",
        "        \"\"\"\n",
        "        Formats the prompt string using the keyword arguments provided.\n",
        "\n",
        "        :param kwargs: The values to substitute into the prompt string\n",
        "        :return: The formatted prompt string\n",
        "        \"\"\"\n",
        "        matches = self._pattern.findall(self.prompt)\n",
        "        return self.prompt.format(**{match: kwargs.get(match, \"\") for match in matches})\n",
        "\n",
        "    def get_input_variables(self):\n",
        "        \"\"\"\n",
        "        Gets the list of input variable names from the prompt string.\n",
        "\n",
        "        :return: List of input variable names\n",
        "        \"\"\"\n",
        "        return self._pattern.findall(self.prompt)\n",
        "```\n",
        "\n",
        "Then we have our `RolePrompt` which laser focuses us on the role pattern found in most API endpoints for LLMs.\n",
        "\n",
        "```python\n",
        "class RolePrompt(BasePrompt):\n",
        "    def __init__(self, prompt, role: str):\n",
        "        \"\"\"\n",
        "        Initializes the RolePrompt object with a prompt template and a role.\n",
        "\n",
        "        :param prompt: A string that can contain placeholders within curly braces\n",
        "        :param role: The role for the message ('system', 'user', or 'assistant')\n",
        "        \"\"\"\n",
        "        super().__init__(prompt)\n",
        "        self.role = role\n",
        "\n",
        "    def create_message(self, **kwargs):\n",
        "        \"\"\"\n",
        "        Creates a message dictionary with a role and a formatted message.\n",
        "\n",
        "        :param kwargs: The values to substitute into the prompt string\n",
        "        :return: Dictionary containing the role and the formatted message\n",
        "        \"\"\"\n",
        "        return {\"role\": self.role, \"content\": self.format_prompt(**kwargs)}\n",
        "```\n",
        "\n",
        "We'll look at how the `SystemRolePrompt` is constructed to get a better idea of how that extension works:\n",
        "\n",
        "```python\n",
        "class SystemRolePrompt(RolePrompt):\n",
        "    def __init__(self, prompt: str):\n",
        "        super().__init__(prompt, \"system\")\n",
        "```\n",
        "\n",
        "That pattern is repeated for our `UserRolePrompt` and our `AssistantRolePrompt` as well."
      ]
    },
    {
      "cell_type": "markdown",
      "metadata": {
        "id": "D361R6sMR6yw"
      },
      "source": [
        "##### ChatOpenAI"
      ]
    },
    {
      "cell_type": "markdown",
      "metadata": {
        "id": "HJVQ2Pm8R6yw"
      },
      "source": [
        "Next we have our model, which is converted to a format analagous to libraries like LangChain and LlamaIndex.\n",
        "\n",
        "Let's take a peek at how that is constructed:\n",
        "\n",
        "```python\n",
        "class ChatOpenAI:\n",
        "    def __init__(self, model_name: str = \"gpt-3.5-turbo\"):\n",
        "        self.model_name = model_name\n",
        "        self.openai_api_key = os.getenv(\"OPENAI_API_KEY\")\n",
        "        if self.openai_api_key is None:\n",
        "            raise ValueError(\"OPENAI_API_KEY is not set\")\n",
        "\n",
        "    def run(self, messages, text_only: bool = True):\n",
        "        if not isinstance(messages, list):\n",
        "            raise ValueError(\"messages must be a list\")\n",
        "\n",
        "        openai.api_key = self.openai_api_key\n",
        "        response = openai.ChatCompletion.create(\n",
        "            model=self.model_name, messages=messages\n",
        "        )\n",
        "\n",
        "        if text_only:\n",
        "            return response.choices[0].message.content\n",
        "\n",
        "        return response\n",
        "```"
      ]
    },
    {
      "cell_type": "markdown",
      "metadata": {
        "id": "qCU7FfhIR6yw"
      },
      "source": [
        "#### ❓ Question #3:\n",
        "\n",
        "When calling the OpenAI API - are there any ways we can achieve more reproducible outputs?\n",
        "- Yes,according to openAI we can: \n",
        "    - Set the seed parameter to any integer of your choice and use the same value across requests you'd like deterministic outputs for.\n",
        "    - Ensure all other parameters (like prompt or temperature) are the exact same across requests.\n",
        "\n",
        "> NOTE: Check out [this section](https://platform.openai.com/docs/guides/text-generation/) of the OpenAI documentation for the answer!"
      ]
    },
    {
      "cell_type": "markdown",
      "metadata": {
        "id": "c5wcjMLCR6yw"
      },
      "source": [
        "### Creating and Prompting OpenAI's `gpt-3.5-turbo`!\n",
        "\n",
        "Let's tie all these together and use it to prompt `gpt-3.5-turbo`!"
      ]
    },
    {
      "cell_type": "code",
      "execution_count": 18,
      "metadata": {
        "id": "WIfpIot7R6yw"
      },
      "outputs": [],
      "source": [
        "from aimakerspace.openai_utils.prompts import (\n",
        "    UserRolePrompt,\n",
        "    SystemRolePrompt,\n",
        "    AssistantRolePrompt,\n",
        ")\n",
        "\n",
        "from aimakerspace.openai_utils.chatmodel import ChatOpenAI\n",
        "\n",
        "chat_openai = ChatOpenAI()\n",
        "user_prompt_template = \"{content}\"\n",
        "user_role_prompt = UserRolePrompt(user_prompt_template)\n",
        "system_prompt_template = (\n",
        "    \"You are an expert in {expertise}, you always answer in a kind way.\"\n",
        ")\n",
        "system_role_prompt = SystemRolePrompt(system_prompt_template)\n",
        "\n",
        "messages = [\n",
        "    user_role_prompt.create_message(\n",
        "        content=\"What is the best way to write a loop?\"\n",
        "    ),\n",
        "    system_role_prompt.create_message(expertise=\"Python\"),\n",
        "]\n",
        "\n",
        "response = chat_openai.run(messages)"
      ]
    },
    {
      "cell_type": "code",
      "execution_count": 19,
      "metadata": {
        "colab": {
          "base_uri": "https://localhost:8080/"
        },
        "id": "dHo7lssNR6yw",
        "outputId": "1d3823fa-bb6b-45f6-ddba-b41686388324"
      },
      "outputs": [
        {
          "name": "stdout",
          "output_type": "stream",
          "text": [
            "The best way to write a loop in Python is to use the \"for\" loop or the \"while\" loop depending on the specific requirements of your program. Here are a few tips to keep in mind:\n",
            "\n",
            "1. Use a \"for\" loop when you know the number of iterations required or when iterating over a sequence (like a list or a range of numbers).\n",
            "\n",
            "2. Use a \"while\" loop when you need to repeat a block of code as long as a certain condition is true.\n",
            "\n",
            "3. Make sure to have a clear and specific condition for exiting the loop to prevent infinite looping.\n",
            "\n",
            "4. Keep the loop body concise and focused on a single task to improve readability and maintainability.\n",
            "\n",
            "5. Use descriptive variable names and comments to explain the purpose of the loop.\n",
            "\n",
            "Overall, the best way to write a loop is to consider the specific requirements of your program and choose the loop construct that best fits those requirements. Remember to test your loop thoroughly to ensure that it behaves as expected and handles all possible edge cases.\n"
          ]
        }
      ],
      "source": [
        "print(response)"
      ]
    },
    {
      "cell_type": "markdown",
      "metadata": {
        "id": "r2nxxhB2R6yy"
      },
      "source": [
        "## Task 5: Retrieval Augmented Generation\n",
        "\n",
        "Now we can create a RAG prompt - which will help our system behave in a way that makes sense!\n",
        "\n",
        "There is much you could do here, many tweaks and improvements to be made!"
      ]
    },
    {
      "cell_type": "code",
      "execution_count": 20,
      "metadata": {
        "id": "D1hamzGaR6yy"
      },
      "outputs": [],
      "source": [
        "RAG_PROMPT_TEMPLATE = \"\"\" \\\n",
        "Use the provided context to answer the user's query.\n",
        "\n",
        "You may not answer the user's query unless there is specific context in the following text.\n",
        "\n",
        "If you do not know the answer, or cannot answer, please respond with \"I don't know\".\n",
        "\"\"\"\n",
        "\n",
        "rag_prompt = SystemRolePrompt(RAG_PROMPT_TEMPLATE)\n",
        "\n",
        "USER_PROMPT_TEMPLATE = \"\"\" \\\n",
        "Context:\n",
        "{context}\n",
        "\n",
        "User Query:\n",
        "{user_query}\n",
        "\"\"\"\n",
        "\n",
        "\n",
        "user_prompt = UserRolePrompt(USER_PROMPT_TEMPLATE)\n",
        "\n",
        "class RetrievalAugmentedQAPipeline:\n",
        "    def __init__(self, llm: ChatOpenAI(), vector_db_retriever: VectorDatabase) -> None:\n",
        "        self.llm = llm\n",
        "        self.vector_db_retriever = vector_db_retriever\n",
        "\n",
        "    def run_pipeline(self, user_query: str) -> str:\n",
        "        context_list = self.vector_db_retriever.search_by_text(user_query, k=4)\n",
        "\n",
        "        context_prompt = \"\"\n",
        "        for context in context_list:\n",
        "            context_prompt += context[0] + \"\\n\"\n",
        "\n",
        "        formatted_system_prompt = rag_prompt.create_message()\n",
        "\n",
        "        formatted_user_prompt = user_prompt.create_message(user_query=user_query, context=context_prompt)\n",
        "\n",
        "        return {\"response\" : self.llm.run([formatted_user_prompt, formatted_system_prompt]), \"context\" : context_list}"
      ]
    },
    {
      "cell_type": "markdown",
      "metadata": {
        "id": "zZIJI19uR6yz"
      },
      "source": [
        "#### ❓ Question #4:\n",
        "\n",
        "What prompting strategies could you use to make the LLM have a more thoughtful, detailed response?\n",
        "\n",
        "What is that strategy called?\n",
        "\n",
        "> NOTE: You can look through the Week 1 Day 2 material for an answer to this question!"
      ]
    },
    {
      "cell_type": "code",
      "execution_count": 21,
      "metadata": {
        "id": "kqbE9fZ6R6yz"
      },
      "outputs": [],
      "source": [
        "retrieval_augmented_qa_pipeline = RetrievalAugmentedQAPipeline(\n",
        "    vector_db_retriever=vector_db,\n",
        "    llm=chat_openai\n",
        ")"
      ]
    },
    {
      "cell_type": "code",
      "execution_count": 22,
      "metadata": {
        "colab": {
          "base_uri": "https://localhost:8080/"
        },
        "id": "jAGhaCGOR6yz",
        "outputId": "e4fb3a1b-d2bc-4e18-ec31-dc0adf767163"
      },
      "outputs": [
        {
          "data": {
            "text/plain": [
              "{'response': \"I don't know.\",\n",
              " 'context': [(', not for any work. I want a robot, \\ncapital, or computer to do the work, but I want to be paid for \\nmy judgment.\\xa0[1]\\nI think every human should aspire to being knowledgeable \\nabout certain things and being paid for our unique knowl-\\nedge. We have as much leverage as is possible in our business, \\nwhether it’s through robots or computers or what have you. \\nThen, we can be masters of our own time because we are just \\nbeing tracked on outputs and not inputs.\\nImagine someone comes along who demonstrably has slightly \\nbetter judgment. They’re right 85 percent of the time instead of \\n75 percent. You will pay them $50 million, $100 million, $200 \\nmillion, whatever it takes, because 10 percent better judgment \\nsteering a $100 billion ship is very valuable. CEOs are highly \\npaid because of their leverage. Small differences in judgment \\nand capability really get amplified.\\xa0[2]\\nDemonstrated judgment—credibility around the judgment—\\nis so critical. Warren Buffett wins here because he has massive \\n',\n",
              "   0.3141479249493455),\n",
              "  ('ose kinds of things.\\xa0[4]\\nIgnore the noise. The market will decide.\\nPRINCIPAL-AGENT PROBLEM\\nTo me, the principal-agent problem is the single most funda-\\nmental problem in microeconomics. If you do not understand \\nthe principal-agent problem, you will not know how to navi-\\ngate your way through the world. It is important if you want to \\nbuild a successful company or be successful in your dealings.\\nIt’s a very simple concept. Julius Caesar famously said, “If you \\nwant it done, then go. And if not, then send.” What he meant \\nwas, if you want it done right, then you have to go yourself and \\ndo it. When you are the principal, then you are the owner—you \\nB u i l d i n g  J u d g m e n t \\u2002 · \\u2002 109\\ncare, and you will do a great job. When you are the agent and \\nyou are doing it on somebody else’s behalf, you can do a bad \\njob. You just don’t care. You optimize for yourself rather than \\nfor the principal’s assets.\\nThe smaller the company, the more everyone feels like a prin-\\ncipal. The less you f',\n",
              "   0.31118863647528583),\n",
              "  ('st memorizing.\\xa0[4]\\nThe advanced concepts in a field are less proven. We use them \\nto signal insider knowledge, but we’d be better off nailing the \\nbasics.\\xa0[11]\\nClear thinkers appeal to their own authority.\\nPart of making effective decisions boils down to dealing with \\nreality. How do you make sure you’re dealing with reality \\nwhen you’re making decisions?\\nBy not having a strong sense of self or judgments or mind \\npresence. The “monkey mind” will always respond with this \\nregurgitated emotional response to what it thinks the world \\nshould be. Those desires will cloud your reality. This happens \\na lot of times when people are mixing politics and business.\\nThe number one thing clouding us from being able to see real-\\nity is we have preconceived notions of the way it should be.\\nOne definition of a moment of suffering is “the moment when \\nyou see things exactly the way they are.” This whole time, you’ve \\nbeen convinced your business is doing great, and really, you’ve \\nignored the signs it’s',\n",
              "   0.3023420692130077),\n",
              "  ('with an old rule Warren Buffett has, which is \\npraise specifically, criticize generally. I try to follow this. I don’t \\nalways follow it, but I think I follow it enough to have made a \\ndifference in my life.\\nIf you have a criticism of someone, then don’t criticize the \\nperson—criticize the general approach or criticize the class \\nof activities. If you have to praise somebody, then always try \\nand find the person who is the best example of what you’re \\npraising and praise the person, specifically. Then people’s egos \\nand identities, which we all have, don’t work against you. They \\nwork for you.\\xa0[4]\\nAny advice on developing capacity for instinctual blunt \\nhonesty?\\nTell everyone. Start now. It doesn’t have to be blunt. Charisma \\nis the ability to project confidence and love at the same time. \\nIt’s almost always possible to be honest and positive.\\xa0[71]\\nAs an investor and CEO of AngelList, you’re paid to be right \\nwhen other people are wrong. Do you have a process around \\nhow you make decis',\n",
              "   0.30029985387845404)]}"
            ]
          },
          "execution_count": 22,
          "metadata": {},
          "output_type": "execute_result"
        }
      ],
      "source": [
        "retrieval_augmented_qa_pipeline.run_pipeline(\"What is the 'Michael Eisner Memorial Weak Executive Problem'?\")"
      ]
    },
    {
      "cell_type": "markdown",
      "metadata": {},
      "source": [
        "### 🏗️ Activity #1:\n",
        "\n",
        "Enhance your RAG application in some way! \n",
        "\n",
        "Suggestions are: \n",
        "\n",
        "- Allow it to work with PDF files\n",
        "- Implement a new distance metric\n",
        "- Add metadata support to the vector database\n",
        "\n",
        "While these are suggestions, you should feel free to make whatever augmentations you desire! \n",
        "\n",
        "> NOTE: These additions might require you to work within the `aimakerspace` library - that's expected!"
      ]
    },
    {
      "cell_type": "code",
      "execution_count": 23,
      "metadata": {},
      "outputs": [
        {
          "data": {
            "text/plain": [
              "[('my job right, if I create value for society, society says, “Oh, \\nthank you. We owe you something in the future for the work \\nyou did in the past. Here’s a little IOU. Let’s call that money.”\\xa0[78]\\nWealth is the thing you want. Wealth is assets that earn while \\nyou sleep. Wealth is the factory, the robots, cranking out things. \\nWealth is the computer program that’s running at night, serv-\\ning other customers. Wealth is even money in the bank that is \\nbeing reinvested into other assets, and into other businesses.\\nEven a house can be a form of wealth, because you can rent it \\nout, although that’s probably a lower productivity use of land \\nthan some commercial enterprise.\\nSo, my definition of wealth is much more businesses and assets \\nthat can earn while you sleep.\\xa0[78]\\nB u i l d i n g  W e a l t h \\u2002 · \\u2002 39\\nTechnology democratizes consumption but consolidates \\nproduction. The best person in the world at anything gets to \\ndo it for everyone.\\nSociety will pay you for creating things it wants.',\n",
              "  0.671818787210473),\n",
              " ('):\\n↓\\nSeek wealth, not money or status. Wealth is having assets \\nthat earn while you sleep. Money is how we transfer time \\nand wealth. Status is your place in the social hierarchy.\\n↓\\nUnderstand ethical wealth creation is possible. If you secretly \\ndespise wealth, it will elude you.\\n↓\\nIgnore people playing status games. They gain status by \\nattacking people playing wealth creation games.\\n↓\\nYou’re not going to get rich renting out your time. You must \\nown equity—a piece of a business—to gain your financial \\nfreedom.\\n↓\\nYou will get rich by giving society what it wants but does not \\nyet know how to get. At scale.\\n↓\\n32\\u2002 · \\u2002 T H E  A L M A N A C K  O F  N A V A L  R A V I K A N T\\nPick an industry where you can play long-term games with \\nlong-term people.\\n↓\\nThe internet has massively broadened the possible space of \\ncareers. Most people haven’t figured this out yet.\\n↓\\nPlay iterated games. All the returns in life, whether in wealth, \\nrelationships, or knowledge, come from compound interest.\\n↓\\nP',\n",
              "  0.5892277146292991),\n",
              " ('p is really important.\\xa0[10]\\nEverybody who really makes money at some point owns a piece \\nof a product, a business, or some IP. That can be through stock \\noptions if you work at a tech company. That’s a fine way to start.\\nBut usually, the real wealth is created by starting your own \\ncompanies or even by investing. In an investment firm, they’re \\nbuying equity. These are the routes to wealth. It doesn’t come \\nthrough the hours.\\xa0[78]\\nB u i l d i n g  W e a l t h \\u2002 · \\u2002 55\\nLEVERAGE\\n1X\\n1,000X\\n10,000X\\nFIND A POSITION OF LEVERAGE\\nWe live in an age of infinite leverage, and the economic rewards \\nfor genuine intellectual curiosity have never been higher.\\xa0[11] \\nFollowing your genuine intellectual curiosity is a better foun-\\ndation for a career than following whatever is making money \\nright now.\\xa0[11]\\nKnowledge only you know or only a small set of people knows \\nis going to come out of your passions and your hobbies, oddly \\n56\\u2002 · \\u2002 T H E  A L M A N A C K  O F  N A V A L  R A V I K A N T\\nenough. If y',\n",
              "  0.559522364739826),\n",
              " ('\\ndo.\\xa0[78]\\nKNOWLEDGE\\nALLOCATION\\nB u i l d i n g  W e a l t h \\u2002 · \\u2002 53\\nBUILD OR BUY EQUITY IN A BUSINESS\\nIf you don’t own a piece of a business, you don’t have a path \\ntowards financial freedom.\\nWhy is owning equity in a business important to becoming \\nrich?\\nIt’s ownership versus wage work. If you are paid for rent-\\ning out your time, even lawyers and doctors, you can make \\nsome money, but you’re not going to make the money that \\ngives you financial freedom. You’re not going to have passive \\nincome where a business is earning for you while you are on \\nvacation.\\xa0[10]\\nThis is probably one of the most important points. People seem \\nto think you can create wealth—make money through work. \\nIt’s probably not going to work. There are many reasons for \\nthat.\\nWithout ownership, your inputs are very closely tied to your \\noutputs. In almost any salaried job, even one paying a lot per \\nhour like a lawyer or a doctor, you’re still putting in the hours, \\nand every hour you get paid.\\nWithout ownership,',\n",
              "  0.4995861379979561),\n",
              " ('ng run.\\xa0[10]\\nB u i l d i n g  W e a l t h \\u2002 · \\u2002 73\\nThe business world has many people playing zero sum \\ngames and a few playing positive sum games searching for \\neach other in the crowd.\\nThere are fundamentally two huge games in life that people \\nplay. One is the money game. Because money is not going to \\nsolve all of your problems, but it’s going to solve all of your \\nmoney problems. People realize that, so they want to make \\nmoney.\\nBut at the same time, many of them, deep down, believe they \\ncan’t make money. They don’t want any wealth creation to \\nhappen. So, they attack the whole enterprise by saying, “Well, \\nmaking money is evil. You shouldn’t do it.”\\nBut they’re actually playing the other game, which is the \\nstatus game. They’re trying to be high status in the eyes of \\nother people watching by saying, “Well, I don’t need money. \\nWe don’t want money.” Status is your ranking in the social \\nhierarchy.\\xa0[78]\\nWealth creation is an evolutionarily recent positive-sum \\ngame. Status is an ',\n",
              "  0.4941414534105089)]"
            ]
          },
          "execution_count": 23,
          "metadata": {},
          "output_type": "execute_result"
        }
      ],
      "source": [
        "vector_db.search_by_text(\"How is wealth created?\", k=5)"
      ]
    },
    {
      "cell_type": "markdown",
      "metadata": {
        "id": "8QqpYXj2R6yz"
      },
      "source": [
        "## Task 6: Visibility Tooling\n",
        "\n",
        "This is great, but what if we wanted to add some visibility to our pipeline?\n",
        "\n",
        "Let's use Weights and Biases as a visibility tool!\n",
        "\n",
        "The first thing we'll need to do is create a Weights and Biases account and get an API key.\n",
        "\n",
        "You can follow the process outlined [here](https://docs.wandb.ai/quickstart) to do exactly that!"
      ]
    },
    {
      "cell_type": "markdown",
      "metadata": {
        "id": "2nST5OrAR6yz"
      },
      "source": [
        "Now we can get the Weights and Biases dependency and add our key to our env. to begin!"
      ]
    },
    {
      "cell_type": "code",
      "execution_count": null,
      "metadata": {
        "colab": {
          "base_uri": "https://localhost:8080/"
        },
        "id": "y54bofQQR6yz",
        "outputId": "6df38604-c2e0-4870-d5de-db165ea830ba"
      },
      "outputs": [],
      "source": [
        "!pip install -qU wandb"
      ]
    },
    {
      "cell_type": "code",
      "execution_count": 30,
      "metadata": {
        "colab": {
          "base_uri": "https://localhost:8080/"
        },
        "id": "SzunMw9_R6yz",
        "outputId": "f2506283-6b0d-4a1b-cb5a-65839c6445b1"
      },
      "outputs": [],
      "source": [
        "wandb_key = getpass(\"Weights and Biases API Key: \")\n",
        "os.environ[\"WANDB_API_KEY\"] = wandb_key"
      ]
    },
    {
      "cell_type": "code",
      "execution_count": 29,
      "metadata": {
        "colab": {
          "base_uri": "https://localhost:8080/",
          "height": 143
        },
        "id": "Iv1f27ebR6yz",
        "outputId": "34dd085e-0468-4657-d105-71ecc4b633fe"
      },
      "outputs": [
        {
          "name": "stderr",
          "output_type": "stream",
          "text": [
            "Failed to detect the name of this notebook, you can set it manually with the WANDB_NOTEBOOK_NAME environment variable to enable code saving.\n",
            "\u001b[34m\u001b[1mwandb\u001b[0m: Currently logged in as: \u001b[33mjaronparnala\u001b[0m (\u001b[33mjaron-personal\u001b[0m). Use \u001b[1m`wandb login --relogin`\u001b[0m to force relogin\n"
          ]
        },
        {
          "data": {
            "text/html": [
              "Tracking run with wandb version 0.17.1"
            ],
            "text/plain": [
              "<IPython.core.display.HTML object>"
            ]
          },
          "metadata": {},
          "output_type": "display_data"
        },
        {
          "data": {
            "text/html": [
              "Run data is saved locally in <code>/Users/jaronparnala/workspace/AIE3/Week 2/Day 1/wandb/run-20240611_171553-4v8q0aap</code>"
            ],
            "text/plain": [
              "<IPython.core.display.HTML object>"
            ]
          },
          "metadata": {},
          "output_type": "display_data"
        },
        {
          "data": {
            "text/html": [
              "Syncing run <strong><a href='https://wandb.ai/jaron-personal/Visibility%20Example%20-%20AIE3/runs/4v8q0aap' target=\"_blank\">happy-totem-4</a></strong> to <a href='https://wandb.ai/jaron-personal/Visibility%20Example%20-%20AIE3' target=\"_blank\">Weights & Biases</a> (<a href='https://wandb.me/run' target=\"_blank\">docs</a>)<br/>"
            ],
            "text/plain": [
              "<IPython.core.display.HTML object>"
            ]
          },
          "metadata": {},
          "output_type": "display_data"
        },
        {
          "data": {
            "text/html": [
              " View project at <a href='https://wandb.ai/jaron-personal/Visibility%20Example%20-%20AIE3' target=\"_blank\">https://wandb.ai/jaron-personal/Visibility%20Example%20-%20AIE3</a>"
            ],
            "text/plain": [
              "<IPython.core.display.HTML object>"
            ]
          },
          "metadata": {},
          "output_type": "display_data"
        },
        {
          "data": {
            "text/html": [
              " View run at <a href='https://wandb.ai/jaron-personal/Visibility%20Example%20-%20AIE3/runs/4v8q0aap' target=\"_blank\">https://wandb.ai/jaron-personal/Visibility%20Example%20-%20AIE3/runs/4v8q0aap</a>"
            ],
            "text/plain": [
              "<IPython.core.display.HTML object>"
            ]
          },
          "metadata": {},
          "output_type": "display_data"
        },
        {
          "data": {
            "text/html": [
              "<button onClick=\"this.nextSibling.style.display='block';this.style.display='none';\">Display W&B run</button><iframe src='https://wandb.ai/jaron-personal/Visibility%20Example%20-%20AIE3/runs/4v8q0aap?jupyter=true' style='border:none;width:100%;height:420px;display:none;'></iframe>"
            ],
            "text/plain": [
              "<wandb.sdk.wandb_run.Run at 0x1698214d0>"
            ]
          },
          "execution_count": 29,
          "metadata": {},
          "output_type": "execute_result"
        }
      ],
      "source": [
        "import wandb\n",
        "\n",
        "wandb.init(project=\"Visibility Example - AIE3\")"
      ]
    },
    {
      "cell_type": "markdown",
      "metadata": {
        "id": "iezOc48XR6yz"
      },
      "source": [
        "Now we can integrate Weights and Biases into our `RetrievalAugmentedQAPipeline`.\n",
        "\n",
        "```python\n",
        "if self.wandb_project:\n",
        "            root_span = Trace(\n",
        "                name=\"root_span\",\n",
        "                kind=\"llm\",\n",
        "                status_code=status,\n",
        "                status_message=status_message,\n",
        "                start_time_ms=start_time,\n",
        "                end_time_ms=end_time,\n",
        "                metadata={\n",
        "                    \"token_usage\" : token_usage\n",
        "                },\n",
        "                inputs= {\"system_prompt\" : formatted_system_prompt, \"user_prompt\" : formatted_user_prompt},\n",
        "                outputs= {\"response\" : response_text}\n",
        "            )\n",
        "\n",
        "            root_span.log(name=\"openai_trace\")\n",
        "```\n",
        "\n",
        "The main things to consider here are how to populate the various fields to make sure we're tracking useful information.\n",
        "\n",
        "We'll use the `text_only` flag to ensure we can get detailed information about our LLM call!\n",
        "\n",
        "You can check out all the parameters for Weights and Biases `Trace` [here](https://github.com/wandb/wandb/blob/653015a014281f45770aaf43627f64d9c4f04a32/wandb/sdk/data_types/trace_tree.py#L166)"
      ]
    },
    {
      "cell_type": "code",
      "execution_count": 24,
      "metadata": {
        "id": "fqe4D27QR6yz"
      },
      "outputs": [],
      "source": [
        "import datetime\n",
        "from wandb.sdk.data_types.trace_tree import Trace\n",
        "\n",
        "class RetrievalAugmentedGenerationPipeline:\n",
        "    def __init__(self, llm: ChatOpenAI(), vector_db_retriever: VectorDatabase, wandb_project = None) -> None:\n",
        "        self.llm = llm\n",
        "        self.vector_db_retriever = vector_db_retriever\n",
        "        self.wandb_project = wandb_project\n",
        "\n",
        "    def run_pipeline(self, user_query: str) -> str:\n",
        "        context_list = self.vector_db_retriever.search_by_text(user_query, k=4)\n",
        "\n",
        "        context_prompt = \"\"\n",
        "        for context in context_list:\n",
        "            context_prompt += context[0] + \"\\n\"\n",
        "\n",
        "        formatted_system_prompt = rag_prompt.create_message()\n",
        "\n",
        "        formatted_user_prompt = user_prompt.create_message(user_query=user_query, context=context_prompt)\n",
        "\n",
        "\n",
        "        start_time = datetime.datetime.now().timestamp() * 1000\n",
        "\n",
        "        try:\n",
        "            openai_response = self.llm.run([formatted_system_prompt, formatted_user_prompt], text_only=False)\n",
        "            end_time = datetime.datetime.now().timestamp() * 1000\n",
        "            status = \"success\"\n",
        "            status_message = (None, )\n",
        "            response_text = openai_response.choices[0].message.content\n",
        "            token_usage = dict(openai_response.usage)\n",
        "            model = openai_response.model\n",
        "\n",
        "        except Exception as e:\n",
        "            end_time = datetime.datetime.now().timestamp() * 1000\n",
        "            status = \"error\"\n",
        "            status_message = str(e)\n",
        "            response_text = \"\"\n",
        "            token_usage = {}\n",
        "            model = \"\"\n",
        "\n",
        "        if self.wandb_project:\n",
        "            root_span = Trace(\n",
        "                name=\"root_span\",\n",
        "                kind=\"llm\",\n",
        "                status_code=status,\n",
        "                status_message=status_message,\n",
        "                start_time_ms=start_time,\n",
        "                end_time_ms=end_time,\n",
        "                metadata={\n",
        "                    \"token_usage\" : token_usage,\n",
        "                    \"model_name\" : model\n",
        "                },\n",
        "                inputs= {\"system_prompt\" : formatted_system_prompt, \"user_prompt\" : formatted_user_prompt},\n",
        "                outputs= {\"response\" : response_text}\n",
        "            )\n",
        "\n",
        "            root_span.log(name=\"openai_trace\")\n",
        "\n",
        "        return {\"response\" : self.llm.run([formatted_user_prompt, formatted_system_prompt]), \"context\" : context_list} if response_text else \"We ran into an error. Please try again later. Full Error Message: \" + status_message"
      ]
    },
    {
      "cell_type": "code",
      "execution_count": 27,
      "metadata": {
        "id": "aa1_0P1YR6yz"
      },
      "outputs": [],
      "source": [
        "retrieval_augmented_qa_pipeline = RetrievalAugmentedGenerationPipeline(\n",
        "    vector_db_retriever=vector_db,\n",
        "    llm=chat_openai,\n",
        "    wandb_project=\"LLM Visibility Example\"\n",
        ")"
      ]
    },
    {
      "cell_type": "code",
      "execution_count": 28,
      "metadata": {
        "colab": {
          "base_uri": "https://localhost:8080/"
        },
        "id": "OKSpyeg-R6yz",
        "outputId": "0d6358c9-4775-4734-f49d-851814de37c5"
      },
      "outputs": [
        {
          "ename": "AssertionError",
          "evalue": "You must call wandb.init() before logging a trace",
          "output_type": "error",
          "traceback": [
            "\u001b[0;31m---------------------------------------------------------------------------\u001b[0m",
            "\u001b[0;31mAssertionError\u001b[0m                            Traceback (most recent call last)",
            "Cell \u001b[0;32mIn[28], line 1\u001b[0m\n\u001b[0;32m----> 1\u001b[0m \u001b[43mretrieval_augmented_qa_pipeline\u001b[49m\u001b[38;5;241;43m.\u001b[39;49m\u001b[43mrun_pipeline\u001b[49m\u001b[43m(\u001b[49m\u001b[38;5;124;43m\"\u001b[39;49m\u001b[38;5;124;43mWho is Batman?\u001b[39;49m\u001b[38;5;124;43m\"\u001b[39;49m\u001b[43m)\u001b[49m\n",
            "Cell \u001b[0;32mIn[24], line 57\u001b[0m, in \u001b[0;36mRetrievalAugmentedGenerationPipeline.run_pipeline\u001b[0;34m(self, user_query)\u001b[0m\n\u001b[1;32m     41\u001b[0m \u001b[38;5;28;01mif\u001b[39;00m \u001b[38;5;28mself\u001b[39m\u001b[38;5;241m.\u001b[39mwandb_project:\n\u001b[1;32m     42\u001b[0m     root_span \u001b[38;5;241m=\u001b[39m Trace(\n\u001b[1;32m     43\u001b[0m         name\u001b[38;5;241m=\u001b[39m\u001b[38;5;124m\"\u001b[39m\u001b[38;5;124mroot_span\u001b[39m\u001b[38;5;124m\"\u001b[39m,\n\u001b[1;32m     44\u001b[0m         kind\u001b[38;5;241m=\u001b[39m\u001b[38;5;124m\"\u001b[39m\u001b[38;5;124mllm\u001b[39m\u001b[38;5;124m\"\u001b[39m,\n\u001b[0;32m   (...)\u001b[0m\n\u001b[1;32m     54\u001b[0m         outputs\u001b[38;5;241m=\u001b[39m {\u001b[38;5;124m\"\u001b[39m\u001b[38;5;124mresponse\u001b[39m\u001b[38;5;124m\"\u001b[39m : response_text}\n\u001b[1;32m     55\u001b[0m     )\n\u001b[0;32m---> 57\u001b[0m     \u001b[43mroot_span\u001b[49m\u001b[38;5;241;43m.\u001b[39;49m\u001b[43mlog\u001b[49m\u001b[43m(\u001b[49m\u001b[43mname\u001b[49m\u001b[38;5;241;43m=\u001b[39;49m\u001b[38;5;124;43m\"\u001b[39;49m\u001b[38;5;124;43mopenai_trace\u001b[39;49m\u001b[38;5;124;43m\"\u001b[39;49m\u001b[43m)\u001b[49m\n\u001b[1;32m     59\u001b[0m \u001b[38;5;28;01mreturn\u001b[39;00m {\u001b[38;5;124m\"\u001b[39m\u001b[38;5;124mresponse\u001b[39m\u001b[38;5;124m\"\u001b[39m : \u001b[38;5;28mself\u001b[39m\u001b[38;5;241m.\u001b[39mllm\u001b[38;5;241m.\u001b[39mrun([formatted_user_prompt, formatted_system_prompt]), \u001b[38;5;124m\"\u001b[39m\u001b[38;5;124mcontext\u001b[39m\u001b[38;5;124m\"\u001b[39m : context_list} \u001b[38;5;28;01mif\u001b[39;00m response_text \u001b[38;5;28;01melse\u001b[39;00m \u001b[38;5;124m\"\u001b[39m\u001b[38;5;124mWe ran into an error. Please try again later. Full Error Message: \u001b[39m\u001b[38;5;124m\"\u001b[39m \u001b[38;5;241m+\u001b[39m status_message\n",
            "File \u001b[0;32m/opt/miniconda3/envs/week2-RAG-app/lib/python3.11/site-packages/wandb/sdk/data_types/trace_tree.py:435\u001b[0m, in \u001b[0;36mTrace.log\u001b[0;34m(self, name)\u001b[0m\n\u001b[1;32m    428\u001b[0m \u001b[38;5;250m\u001b[39m\u001b[38;5;124;03m\"\"\"Log the trace to a wandb run.\u001b[39;00m\n\u001b[1;32m    429\u001b[0m \n\u001b[1;32m    430\u001b[0m \u001b[38;5;124;03mArgs:\u001b[39;00m\n\u001b[1;32m    431\u001b[0m \u001b[38;5;124;03m    name: The name of the trace to be logged\u001b[39;00m\n\u001b[1;32m    432\u001b[0m \u001b[38;5;124;03m\"\"\"\u001b[39;00m\n\u001b[1;32m    433\u001b[0m trace_tree \u001b[38;5;241m=\u001b[39m WBTraceTree(\u001b[38;5;28mself\u001b[39m\u001b[38;5;241m.\u001b[39m_span, \u001b[38;5;28mself\u001b[39m\u001b[38;5;241m.\u001b[39m_model_dict)\n\u001b[1;32m    434\u001b[0m \u001b[38;5;28;01massert\u001b[39;00m (\n\u001b[0;32m--> 435\u001b[0m     wandb\u001b[38;5;241m.\u001b[39mrun \u001b[38;5;129;01mis\u001b[39;00m \u001b[38;5;129;01mnot\u001b[39;00m \u001b[38;5;28;01mNone\u001b[39;00m\n\u001b[1;32m    436\u001b[0m ), \u001b[38;5;124m\"\u001b[39m\u001b[38;5;124mYou must call wandb.init() before logging a trace\u001b[39m\u001b[38;5;124m\"\u001b[39m\n\u001b[1;32m    437\u001b[0m \u001b[38;5;28;01massert\u001b[39;00m \u001b[38;5;28mlen\u001b[39m(name\u001b[38;5;241m.\u001b[39mstrip()) \u001b[38;5;241m>\u001b[39m \u001b[38;5;241m0\u001b[39m, \u001b[38;5;124m\"\u001b[39m\u001b[38;5;124mYou must provide a valid name to log the trace\u001b[39m\u001b[38;5;124m\"\u001b[39m\n\u001b[1;32m    438\u001b[0m wandb\u001b[38;5;241m.\u001b[39mrun\u001b[38;5;241m.\u001b[39mlog({name: trace_tree})\n",
            "\u001b[0;31mAssertionError\u001b[0m: You must call wandb.init() before logging a trace"
          ]
        }
      ],
      "source": [
        "retrieval_augmented_qa_pipeline.run_pipeline(\"Who is Batman?\")"
      ]
    },
    {
      "cell_type": "code",
      "execution_count": 29,
      "metadata": {
        "colab": {
          "base_uri": "https://localhost:8080/"
        },
        "id": "SbB0xcCRR6yz",
        "outputId": "7ba2fc10-abbe-40ec-eca8-22e1116300a5"
      },
      "outputs": [
        {
          "data": {
            "text/plain": [
              "{'response': \"Based on the context provided, some tips for being an effective CEO include:\\n\\n1. Emphasize decision-making: Decision-making is crucial, and being right more often can create significant value. Take the time to make important decisions thoughtfully.\\n\\n2. Surround yourself with successful people: Figure out your strengths and help others with them. Give back and attract what you project. Surround yourself with people who can push you to grow and succeed.\\n\\n3. Prioritize sleep: Ensure you get enough rest and prioritize your circadian rhythms to optimize your productivity and decision-making.\\n\\n4. Follow naval's rules: Be present, avoid desire-driven suffering, manage anger, choose collaborators carefully, prioritize reading and learning, understand and benefit from compound interest, and focus on earning with your mind, not just your time.\\n\\n5. Develop a process for making decisions: Aim to be rational and increase your accuracy in decision-making, as being right more often can lead to significant returns in your professional life. \\n\\nRemember, these tips can help you become a more effective CEO, but it's essential to tailor them to your specific situation and leadership style.\",\n",
              " 'context': [('with an old rule Warren Buffett has, which is \\npraise specifically, criticize generally. I try to follow this. I don’t \\nalways follow it, but I think I follow it enough to have made a \\ndifference in my life.\\nIf you have a criticism of someone, then don’t criticize the \\nperson—criticize the general approach or criticize the class \\nof activities. If you have to praise somebody, then always try \\nand find the person who is the best example of what you’re \\npraising and praise the person, specifically. Then people’s egos \\nand identities, which we all have, don’t work against you. They \\nwork for you.\\xa0[4]\\nAny advice on developing capacity for instinctual blunt \\nhonesty?\\nTell everyone. Start now. It doesn’t have to be blunt. Charisma \\nis the ability to project confidence and love at the same time. \\nIt’s almost always possible to be honest and positive.\\xa0[71]\\nAs an investor and CEO of AngelList, you’re paid to be right \\nwhen other people are wrong. Do you have a process around \\nhow you make decis',\n",
              "   0.5044450851246661),\n",
              "  ('\\nIt’s almost always possible to be honest and positive.\\xa0[71]\\nAs an investor and CEO of AngelList, you’re paid to be right \\nwhen other people are wrong. Do you have a process around \\nhow you make decisions?\\nYes. Decision-making is everything. In fact, someone who \\nmakes decisions right 80 percent of the time instead of 70 \\npercent of the time will be valued and compensated in the \\nmarket hundreds of times more.\\nI think people have a hard time understanding a fundamental \\nfact of leverage. If I manage $1 billion and I’m right 10 percent \\nmore often than somebody else, my decision-making creates \\n$100 million worth of value on a judgment call. With modern \\n106\\u2002 · \\u2002 T H E  A L M A N A C K  O F  N A V A L  R A V I K A N T\\ntechnology and large workforces and capital, our decisions \\nare leveraged more and more.\\nIf you can be more right and more rational, you’re going to \\nget nonlinear returns in your life. I love the blog Farnam \\nStreet because it really focuses on helping you be more accu-\\nr',\n",
              "   0.4593269607277822),\n",
              "  (' in a city for ten years, if you’re going to \\nbe in a job for five years, if you’re in a relationship for a decade, \\nyou should be spending one to two years deciding these things. \\nThese are highly dominating decisions. Those three decisions \\nreally matter.\\nYou have to say no to everything and free up your time so you \\ncan solve the important problems. Those three are probably \\nthe three biggest ones.\\xa0[1]\\nWhat are one or two steps you’d take to surround yourself \\nwith successful people?\\nFigure out what you’re good at, and start helping other people \\nwith it. Give it away. Pay it forward. Karma works because \\npeople are consistent. On a long enough timescale, you will \\nattract what you project. But don’t measure—your patience \\nwill run out if you count.\\xa0[7]\\nAn old boss once warned: “You’ll never be rich since you’re \\nobviously smart, and someone will always offer you a job \\nthat’s just good enough.”\\n76\\u2002 · \\u2002 T H E  A L M A N A C K  O F  N A V A L  R A V I K A N T\\nHow did you decide to st',\n",
              "   0.4175334179965817),\n",
              "  ('Sleep = No alarms + 8–9 hours + Circadian rhythms\\n\\t\\n→Wealth = Income + Wealth * (Return on Investment)\\n\\t\\n→Income = Accountability + Leverage + Specific Knowledge\\n\\t\\n→Accountability = Personal Branding + Personal Platform \\n+ Taking Risk?\\n\\t\\n→Leverage = Capital + People + Intellectual Property\\n\\t\\n→Specific Knowledge = Knowing how to do something society \\ncannot yet easily train other people to do\\n\\t\\n→Return on Investment = “Buy-and-Hold” + Valuation + \\nMargin of Safety\\xa0[72]\\n224\\u2002 · \\u2002 T H E  A L M A N A C K  O F  N A V A L  R A V I K A N T\\nNAVAL’S RULES (2016)\\n\\t\\n→Be present above all else.\\n\\t\\n→Desire is suffering. (Buddha)\\n\\t\\n→Anger is a hot coal you hold in your hand while waiting to \\nthrow it at someone else. (Buddha)\\n\\t\\n→If you can’t see yourself working with someone for life, \\ndon’t work with them for a day.\\n\\t\\n→Reading (learning) is the ultimate meta-skill and can be \\ntraded for anything else.\\n\\t\\n→All the real benefits in life come from compound interest.\\n\\t\\n→Earn with your mind, not your time.',\n",
              "   0.3978397915564579)]}"
            ]
          },
          "execution_count": 29,
          "metadata": {},
          "output_type": "execute_result"
        }
      ],
      "source": [
        "retrieval_augmented_qa_pipeline.run_pipeline(\"What are some tips for being an effective CEO?\")"
      ]
    },
    {
      "cell_type": "markdown",
      "metadata": {
        "id": "QAkIW2qRR6yz"
      },
      "source": [
        "Navigate to the Weights and Biases \"run\" link to see how your LLM is performing!\n",
        "\n",
        "```\n",
        "View run at YOUR LINK HERE\n",
        "- https://wandb.ai/jaron-personal/Visibility%20Example%20-%20AIE3?nw=nwuserjaronparnala\n",
        "```"
      ]
    },
    {
      "cell_type": "markdown",
      "metadata": {
        "id": "sInZ32BoR6yz"
      },
      "source": [
        "#### ❓ Question #5:\n",
        "\n",
        "What is the `model_name` from the WandB `root_span` trace?\n",
        "\n",
        "- gpt-3.5-turbo-0125"
      ]
    },
    {
      "cell_type": "markdown",
      "metadata": {
        "id": "Of8wJGalR6yz"
      },
      "source": [
        "## Task 7: RAG Evaluation Using GPT-4\n",
        "\n"
      ]
    },
    {
      "cell_type": "code",
      "execution_count": 30,
      "metadata": {
        "colab": {
          "base_uri": "https://localhost:8080/",
          "height": 330
        },
        "id": "PRNzzMurR6yz",
        "outputId": "0dcaf542-530c-480d-9dc6-a2931e8557e2"
      },
      "outputs": [
        {
          "name": "stdout",
          "output_type": "stream",
          "text": [
            "Based on the context provided, here are some tips for being an effective CEO:\n",
            "\n",
            "1. Follow Warren Buffett's rule of \"praise specifically, criticize generally\" to maintain positive relationships and encourage others.\n",
            "2. Develop the capacity for instinctual blunt honesty by being honest and positive at the same time.\n",
            "3. Make decisions right 80% of the time instead of 70% of the time to be valued and compensated in the market.\n",
            "4. Surround yourself with successful people by figuring out what you're good at and helping others with it.\n",
            "5. Prioritize important decisions and take the time to make thoughtful choices, saying no to everything else to focus on solving important problems.\n",
            "6. Remember that wealth can be achieved through various factors like income, accountability, leverage, specific knowledge, and return on investment.\n",
            "\n",
            "These tips combined with a focus on decision-making, honesty, and surrounding yourself with successful individuals can contribute to being an effective CEO.\n"
          ]
        },
        {
          "data": {
            "text/plain": [
              "'{\\n  \"clarity\": \"9\",\\n  \"faithfulness\": \"10\",\\n  \"correctness\": \"10\"\\n}'"
            ]
          },
          "execution_count": 30,
          "metadata": {},
          "output_type": "execute_result"
        }
      ],
      "source": [
        "query = \"What are some tips for being an effective CEO?\"\n",
        "\n",
        "response = retrieval_augmented_qa_pipeline.run_pipeline(query)\n",
        "\n",
        "print(response[\"response\"])\n",
        "\n",
        "evaluator_system_template = \"\"\"You are an expert in analyzing the quality of a response.\n",
        "\n",
        "You should be hyper-critical.\n",
        "\n",
        "Provide scores (out of 10) for the following attributes:\n",
        "\n",
        "1. Clarity - how clear is the response\n",
        "2. Faithfulness - how related to the original query is the response and the provided context\n",
        "3. Correctness - was the response correct?\n",
        "\n",
        "Please take your time, and think through each item step-by-step, when you are done - please provide your response in the following JSON format:\n",
        "\n",
        "{\"clarity\" : \"score_out_of_10\", \"faithfulness\" : \"score_out_of_10\", \"correctness\" : \"score_out_of_10\"}\"\"\"\n",
        "\n",
        "evaluation_template = \"\"\"Query: {input}\n",
        "Context: {context}\n",
        "Response: {response}\"\"\"\n",
        "\n",
        "try:\n",
        "    chat_openai = ChatOpenAI(model_name=\"gpt-4-turbo\")\n",
        "except:\n",
        "    chat_openai = ChatOpenAI()\n",
        "\n",
        "evaluator_system_prompt = SystemRolePrompt(evaluator_system_template)\n",
        "evaluation_prompt = UserRolePrompt(evaluation_template)\n",
        "\n",
        "messages = [\n",
        "    evaluator_system_prompt.create_message(format=False),\n",
        "    evaluation_prompt.create_message(\n",
        "        input=query,\n",
        "        context=\"\\n\".join([context[0] for context in response[\"context\"]]),\n",
        "        response=response[\"response\"]\n",
        "    ),\n",
        "]\n",
        "\n",
        "chat_openai.run(messages, response_format={\"type\" : \"json_object\"})"
      ]
    },
    {
      "cell_type": "markdown",
      "metadata": {
        "id": "TNpauQmJR6yz"
      },
      "source": [
        "# Conclusion\n",
        "\n",
        "In this notebook, we've gone through the steps required to create your own simple RAQA application!\n",
        "\n",
        "Please feel free to extend this as much as you'd like."
      ]
    },
    {
      "cell_type": "code",
      "execution_count": 31,
      "metadata": {
        "colab": {
          "base_uri": "https://localhost:8080/",
          "height": 87,
          "referenced_widgets": [
            "bb904e05ece143c79ecc4f20de482f45",
            "3a4ba348cb004f8ab7b2b1395539c81b",
            "1ce393d9afcf427d9d352259c5d32678",
            "56a8e24025594e5e9ff3b8581c344691",
            "d2ea5009dd16442cb5d8a0ac468e50a8",
            "5f00135fe1044051a50ee5e841cbb8e3",
            "4e6efd99f7d346e485b002fb0fa85cc7",
            "3dfb67c39958461da6071e4c19c3fa41"
          ]
        },
        "id": "xzlxJbFtR6y0",
        "outputId": "d5789d16-c41c-4a3c-ac53-65640a0d3698"
      },
      "outputs": [
        {
          "data": {
            "application/vnd.jupyter.widget-view+json": {
              "model_id": "379e2c5336d44258b6f5486dd827e7f2",
              "version_major": 2,
              "version_minor": 0
            },
            "text/plain": [
              "VBox(children=(Label(value='0.001 MB of 0.001 MB uploaded\\r'), FloatProgress(value=1.0, max=1.0)))"
            ]
          },
          "metadata": {},
          "output_type": "display_data"
        },
        {
          "data": {
            "text/html": [
              " View run <strong style=\"color:#cdcd00\">hearty-waterfall-3</strong> at: <a href='https://wandb.ai/jaron-personal/Visibility%20Example%20-%20AIE3/runs/ayrfx6zc' target=\"_blank\">https://wandb.ai/jaron-personal/Visibility%20Example%20-%20AIE3/runs/ayrfx6zc</a><br/> View project at: <a href='https://wandb.ai/jaron-personal/Visibility%20Example%20-%20AIE3' target=\"_blank\">https://wandb.ai/jaron-personal/Visibility%20Example%20-%20AIE3</a><br/>Synced 6 W&B file(s), 0 media file(s), 0 artifact file(s) and 0 other file(s)"
            ],
            "text/plain": [
              "<IPython.core.display.HTML object>"
            ]
          },
          "metadata": {},
          "output_type": "display_data"
        },
        {
          "data": {
            "text/html": [
              "Find logs at: <code>./wandb/run-20240611_161607-ayrfx6zc/logs</code>"
            ],
            "text/plain": [
              "<IPython.core.display.HTML object>"
            ]
          },
          "metadata": {},
          "output_type": "display_data"
        }
      ],
      "source": [
        "wandb.finish()"
      ]
    }
  ],
  "metadata": {
    "colab": {
      "provenance": []
    },
    "kernelspec": {
      "display_name": "buildyourownlangchain",
      "language": "python",
      "name": "python3"
    },
    "language_info": {
      "codemirror_mode": {
        "name": "ipython",
        "version": 3
      },
      "file_extension": ".py",
      "mimetype": "text/x-python",
      "name": "python",
      "nbconvert_exporter": "python",
      "pygments_lexer": "ipython3",
      "version": "3.11.9"
    },
    "orig_nbformat": 4,
    "widgets": {
      "application/vnd.jupyter.widget-state+json": {
        "1ce393d9afcf427d9d352259c5d32678": {
          "model_module": "@jupyter-widgets/controls",
          "model_module_version": "1.5.0",
          "model_name": "FloatProgressModel",
          "state": {
            "_dom_classes": [],
            "_model_module": "@jupyter-widgets/controls",
            "_model_module_version": "1.5.0",
            "_model_name": "FloatProgressModel",
            "_view_count": null,
            "_view_module": "@jupyter-widgets/controls",
            "_view_module_version": "1.5.0",
            "_view_name": "ProgressView",
            "bar_style": "",
            "description": "",
            "description_tooltip": null,
            "layout": "IPY_MODEL_4e6efd99f7d346e485b002fb0fa85cc7",
            "max": 1,
            "min": 0,
            "orientation": "horizontal",
            "style": "IPY_MODEL_3dfb67c39958461da6071e4c19c3fa41",
            "value": 1
          }
        },
        "3a4ba348cb004f8ab7b2b1395539c81b": {
          "model_module": "@jupyter-widgets/controls",
          "model_module_version": "1.5.0",
          "model_name": "LabelModel",
          "state": {
            "_dom_classes": [],
            "_model_module": "@jupyter-widgets/controls",
            "_model_module_version": "1.5.0",
            "_model_name": "LabelModel",
            "_view_count": null,
            "_view_module": "@jupyter-widgets/controls",
            "_view_module_version": "1.5.0",
            "_view_name": "LabelView",
            "description": "",
            "description_tooltip": null,
            "layout": "IPY_MODEL_d2ea5009dd16442cb5d8a0ac468e50a8",
            "placeholder": "​",
            "style": "IPY_MODEL_5f00135fe1044051a50ee5e841cbb8e3",
            "value": "0.018 MB of 0.018 MB uploaded\r"
          }
        },
        "3dfb67c39958461da6071e4c19c3fa41": {
          "model_module": "@jupyter-widgets/controls",
          "model_module_version": "1.5.0",
          "model_name": "ProgressStyleModel",
          "state": {
            "_model_module": "@jupyter-widgets/controls",
            "_model_module_version": "1.5.0",
            "_model_name": "ProgressStyleModel",
            "_view_count": null,
            "_view_module": "@jupyter-widgets/base",
            "_view_module_version": "1.2.0",
            "_view_name": "StyleView",
            "bar_color": null,
            "description_width": ""
          }
        },
        "4e6efd99f7d346e485b002fb0fa85cc7": {
          "model_module": "@jupyter-widgets/base",
          "model_module_version": "1.2.0",
          "model_name": "LayoutModel",
          "state": {
            "_model_module": "@jupyter-widgets/base",
            "_model_module_version": "1.2.0",
            "_model_name": "LayoutModel",
            "_view_count": null,
            "_view_module": "@jupyter-widgets/base",
            "_view_module_version": "1.2.0",
            "_view_name": "LayoutView",
            "align_content": null,
            "align_items": null,
            "align_self": null,
            "border": null,
            "bottom": null,
            "display": null,
            "flex": null,
            "flex_flow": null,
            "grid_area": null,
            "grid_auto_columns": null,
            "grid_auto_flow": null,
            "grid_auto_rows": null,
            "grid_column": null,
            "grid_gap": null,
            "grid_row": null,
            "grid_template_areas": null,
            "grid_template_columns": null,
            "grid_template_rows": null,
            "height": null,
            "justify_content": null,
            "justify_items": null,
            "left": null,
            "margin": null,
            "max_height": null,
            "max_width": null,
            "min_height": null,
            "min_width": null,
            "object_fit": null,
            "object_position": null,
            "order": null,
            "overflow": null,
            "overflow_x": null,
            "overflow_y": null,
            "padding": null,
            "right": null,
            "top": null,
            "visibility": null,
            "width": null
          }
        },
        "56a8e24025594e5e9ff3b8581c344691": {
          "model_module": "@jupyter-widgets/base",
          "model_module_version": "1.2.0",
          "model_name": "LayoutModel",
          "state": {
            "_model_module": "@jupyter-widgets/base",
            "_model_module_version": "1.2.0",
            "_model_name": "LayoutModel",
            "_view_count": null,
            "_view_module": "@jupyter-widgets/base",
            "_view_module_version": "1.2.0",
            "_view_name": "LayoutView",
            "align_content": null,
            "align_items": null,
            "align_self": null,
            "border": null,
            "bottom": null,
            "display": null,
            "flex": null,
            "flex_flow": null,
            "grid_area": null,
            "grid_auto_columns": null,
            "grid_auto_flow": null,
            "grid_auto_rows": null,
            "grid_column": null,
            "grid_gap": null,
            "grid_row": null,
            "grid_template_areas": null,
            "grid_template_columns": null,
            "grid_template_rows": null,
            "height": null,
            "justify_content": null,
            "justify_items": null,
            "left": null,
            "margin": null,
            "max_height": null,
            "max_width": null,
            "min_height": null,
            "min_width": null,
            "object_fit": null,
            "object_position": null,
            "order": null,
            "overflow": null,
            "overflow_x": null,
            "overflow_y": null,
            "padding": null,
            "right": null,
            "top": null,
            "visibility": null,
            "width": null
          }
        },
        "5f00135fe1044051a50ee5e841cbb8e3": {
          "model_module": "@jupyter-widgets/controls",
          "model_module_version": "1.5.0",
          "model_name": "DescriptionStyleModel",
          "state": {
            "_model_module": "@jupyter-widgets/controls",
            "_model_module_version": "1.5.0",
            "_model_name": "DescriptionStyleModel",
            "_view_count": null,
            "_view_module": "@jupyter-widgets/base",
            "_view_module_version": "1.2.0",
            "_view_name": "StyleView",
            "description_width": ""
          }
        },
        "bb904e05ece143c79ecc4f20de482f45": {
          "model_module": "@jupyter-widgets/controls",
          "model_module_version": "1.5.0",
          "model_name": "VBoxModel",
          "state": {
            "_dom_classes": [],
            "_model_module": "@jupyter-widgets/controls",
            "_model_module_version": "1.5.0",
            "_model_name": "VBoxModel",
            "_view_count": null,
            "_view_module": "@jupyter-widgets/controls",
            "_view_module_version": "1.5.0",
            "_view_name": "VBoxView",
            "box_style": "",
            "children": [
              "IPY_MODEL_3a4ba348cb004f8ab7b2b1395539c81b",
              "IPY_MODEL_1ce393d9afcf427d9d352259c5d32678"
            ],
            "layout": "IPY_MODEL_56a8e24025594e5e9ff3b8581c344691"
          }
        },
        "d2ea5009dd16442cb5d8a0ac468e50a8": {
          "model_module": "@jupyter-widgets/base",
          "model_module_version": "1.2.0",
          "model_name": "LayoutModel",
          "state": {
            "_model_module": "@jupyter-widgets/base",
            "_model_module_version": "1.2.0",
            "_model_name": "LayoutModel",
            "_view_count": null,
            "_view_module": "@jupyter-widgets/base",
            "_view_module_version": "1.2.0",
            "_view_name": "LayoutView",
            "align_content": null,
            "align_items": null,
            "align_self": null,
            "border": null,
            "bottom": null,
            "display": null,
            "flex": null,
            "flex_flow": null,
            "grid_area": null,
            "grid_auto_columns": null,
            "grid_auto_flow": null,
            "grid_auto_rows": null,
            "grid_column": null,
            "grid_gap": null,
            "grid_row": null,
            "grid_template_areas": null,
            "grid_template_columns": null,
            "grid_template_rows": null,
            "height": null,
            "justify_content": null,
            "justify_items": null,
            "left": null,
            "margin": null,
            "max_height": null,
            "max_width": null,
            "min_height": null,
            "min_width": null,
            "object_fit": null,
            "object_position": null,
            "order": null,
            "overflow": null,
            "overflow_x": null,
            "overflow_y": null,
            "padding": null,
            "right": null,
            "top": null,
            "visibility": null,
            "width": null
          }
        }
      }
    }
  },
  "nbformat": 4,
  "nbformat_minor": 0
}
