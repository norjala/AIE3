{
  "cells": [
    {
      "cell_type": "markdown",
      "metadata": {
        "id": "view-in-github",
        "colab_type": "text"
      },
      "source": [
        "<a href=\"https://colab.research.google.com/github/norjala/AIE3/blob/main/Jaron_Building_Advanced_RAG_with_LlamaIndex_Assignment_Version.ipynb\" target=\"_parent\"><img src=\"https://colab.research.google.com/assets/colab-badge.svg\" alt=\"Open In Colab\"/></a>"
      ]
    },
    {
      "cell_type": "markdown",
      "source": [
        "# Creating a LlamaIndex RAG Pipeline with NL2SQL and Metadata Filtering!\n",
        "\n",
        "We'll be putting together a system for querying both qualitative and quantitative data using LlamaIndex.\n",
        "\n",
        "The acitvities will be broken down as follows:\n",
        "\n",
        "- 🤝 Breakout Room #1\n",
        "  - Task 1: Load Dependencies\n",
        "  - Task 2: Set Env Variables and Set Up WandB Callback\n",
        "  - Task 3: Initialize Settings\n",
        "  - Task 4: Index Creation\n",
        "  - Task 5: Simple RAG - `QueryEngine`\n",
        "  - Task 6: Auto Rertriever Functional Tool\n",
        "- 🤝 Breakout Room #2\n",
        "  - Task 1: Quantitative RAG Pipeline with NL2SQL Tooling\n",
        "  - Task 2: Combined RAG Pipeline\n",
        "\n",
        "Before we get started, however, a quick note on terminology."
      ],
      "metadata": {
        "id": "x5TTdyIoo3i7"
      }
    },
    {
      "cell_type": "markdown",
      "source": [
        "# 🤝 Breakout Room #1"
      ],
      "metadata": {
        "id": "re0q6syjUVt0"
      }
    },
    {
      "cell_type": "markdown",
      "metadata": {
        "id": "Msvju70DSV_8"
      },
      "source": [
        "## BOILERPLATE\n",
        "\n",
        "This is only relevant when running the code in a Jupyter Notebook."
      ]
    },
    {
      "cell_type": "code",
      "execution_count": 3,
      "metadata": {
        "id": "7VF57GcmSV_9"
      },
      "outputs": [],
      "source": [
        "import nest_asyncio\n",
        "\n",
        "nest_asyncio.apply()\n",
        "\n",
        "import logging\n",
        "import sys\n",
        "\n",
        "logging.basicConfig(stream=sys.stdout, level=logging.INFO)\n",
        "logging.getLogger().addHandler(logging.StreamHandler(stream=sys.stdout))"
      ]
    },
    {
      "cell_type": "markdown",
      "metadata": {
        "id": "6zQBPs6zSV_9"
      },
      "source": [
        "## Load Dependencies"
      ]
    },
    {
      "cell_type": "markdown",
      "metadata": {
        "id": "WhEbxl3nSV_9"
      },
      "source": [
        "Let's grab our core `llama-index` library, as well as OpenAI's Python SDK.\n",
        "\n",
        "We'll be leveraging OpenAI's suite of APIs to power our RAG pipelines today.\n",
        "\n",
        "> NOTE: You can safely ignore any pip errors that occur during the running of these cells."
      ]
    },
    {
      "cell_type": "code",
      "execution_count": 4,
      "metadata": {
        "id": "b3oyvtl2SV_9",
        "colab": {
          "base_uri": "https://localhost:8080/"
        },
        "outputId": "db1c8017-523c-45fc-e111-87640a2dba4d"
      },
      "outputs": [
        {
          "output_type": "stream",
          "name": "stdout",
          "text": [
            "\u001b[2K     \u001b[90m━━━━━━━━━━━━━━━━━━━━━━━━━━━━━━━━━━━━━━━━\u001b[0m \u001b[32m863.9/863.9 kB\u001b[0m \u001b[31m13.4 MB/s\u001b[0m eta \u001b[36m0:00:00\u001b[0m\n",
            "\u001b[2K     \u001b[90m━━━━━━━━━━━━━━━━━━━━━━━━━━━━━━━━━━━━━━━━\u001b[0m \u001b[32m15.4/15.4 MB\u001b[0m \u001b[31m39.5 MB/s\u001b[0m eta \u001b[36m0:00:00\u001b[0m\n",
            "\u001b[2K     \u001b[90m━━━━━━━━━━━━━━━━━━━━━━━━━━━━━━━━━━━━━━━━\u001b[0m \u001b[32m2.0/2.0 MB\u001b[0m \u001b[31m60.2 MB/s\u001b[0m eta \u001b[36m0:00:00\u001b[0m\n",
            "\u001b[2K     \u001b[90m━━━━━━━━━━━━━━━━━━━━━━━━━━━━━━━━━━━━━━━━\u001b[0m \u001b[32m318.9/318.9 kB\u001b[0m \u001b[31m29.9 MB/s\u001b[0m eta \u001b[36m0:00:00\u001b[0m\n",
            "\u001b[2K     \u001b[90m━━━━━━━━━━━━━━━━━━━━━━━━━━━━━━━━━━━━━━━━\u001b[0m \u001b[32m290.4/290.4 kB\u001b[0m \u001b[31m29.2 MB/s\u001b[0m eta \u001b[36m0:00:00\u001b[0m\n",
            "\u001b[?25h"
          ]
        }
      ],
      "source": [
        "!pip install -qU llama-index openai anthropic"
      ]
    },
    {
      "cell_type": "markdown",
      "source": [
        "We'll be collecting our semantic data from Wikipedia - and so will need the [Wikipedia Reader](https://github.com/run-llama/llama_index/tree/main/llama-index-integrations/readers/llama-index-readers-wikipedia)!"
      ],
      "metadata": {
        "id": "uqTXRTrLPatl"
      }
    },
    {
      "cell_type": "code",
      "execution_count": 1,
      "metadata": {
        "id": "f9kXf7pPSV_-",
        "colab": {
          "base_uri": "https://localhost:8080/"
        },
        "outputId": "96a73641-f825-44c8-eefd-98e01dc96e2f"
      },
      "outputs": [
        {
          "output_type": "stream",
          "name": "stdout",
          "text": [
            "  Preparing metadata (setup.py) ... \u001b[?25l\u001b[?25hdone\n",
            "\u001b[2K     \u001b[90m━━━━━━━━━━━━━━━━━━━━━━━━━━━━━━━━━━━━━━━━\u001b[0m \u001b[32m15.4/15.4 MB\u001b[0m \u001b[31m22.7 MB/s\u001b[0m eta \u001b[36m0:00:00\u001b[0m\n",
            "\u001b[2K     \u001b[90m━━━━━━━━━━━━━━━━━━━━━━━━━━━━━━━━━━━━━━━━\u001b[0m \u001b[32m75.6/75.6 kB\u001b[0m \u001b[31m3.8 MB/s\u001b[0m eta \u001b[36m0:00:00\u001b[0m\n",
            "\u001b[2K     \u001b[90m━━━━━━━━━━━━━━━━━━━━━━━━━━━━━━━━━━━━━━━━\u001b[0m \u001b[32m130.8/130.8 kB\u001b[0m \u001b[31m6.9 MB/s\u001b[0m eta \u001b[36m0:00:00\u001b[0m\n",
            "\u001b[2K     \u001b[90m━━━━━━━━━━━━━━━━━━━━━━━━━━━━━━━━━━━━━━━━\u001b[0m \u001b[32m328.3/328.3 kB\u001b[0m \u001b[31m11.0 MB/s\u001b[0m eta \u001b[36m0:00:00\u001b[0m\n",
            "\u001b[2K     \u001b[90m━━━━━━━━━━━━━━━━━━━━━━━━━━━━━━━━━━━━━━━━\u001b[0m \u001b[32m1.1/1.1 MB\u001b[0m \u001b[31m11.9 MB/s\u001b[0m eta \u001b[36m0:00:00\u001b[0m\n",
            "\u001b[2K     \u001b[90m━━━━━━━━━━━━━━━━━━━━━━━━━━━━━━━━━━━━━━━━\u001b[0m \u001b[32m77.9/77.9 kB\u001b[0m \u001b[31m2.4 MB/s\u001b[0m eta \u001b[36m0:00:00\u001b[0m\n",
            "\u001b[2K     \u001b[90m━━━━━━━━━━━━━━━━━━━━━━━━━━━━━━━━━━━━━━━━\u001b[0m \u001b[32m58.3/58.3 kB\u001b[0m \u001b[31m3.1 MB/s\u001b[0m eta \u001b[36m0:00:00\u001b[0m\n",
            "\u001b[2K     \u001b[90m━━━━━━━━━━━━━━━━━━━━━━━━━━━━━━━━━━━━━━━━\u001b[0m \u001b[32m49.2/49.2 kB\u001b[0m \u001b[31m2.2 MB/s\u001b[0m eta \u001b[36m0:00:00\u001b[0m\n",
            "\u001b[?25h  Building wheel for wikipedia (setup.py) ... \u001b[?25l\u001b[?25hdone\n"
          ]
        }
      ],
      "source": [
        "!pip install -qU wikipedia llama-index-readers-wikipedia"
      ]
    },
    {
      "cell_type": "markdown",
      "source": [
        "Our vector database today will be powered by [QDrant](https://qdrant.tech/) and so we'll need that package as well!"
      ],
      "metadata": {
        "id": "Qq_rWHZEPrCO"
      }
    },
    {
      "cell_type": "code",
      "source": [
        "!pip install -qU llama-index-vector-stores-qdrant qdrant-client"
      ],
      "metadata": {
        "id": "iMCA8HFGEPF_"
      },
      "execution_count": 6,
      "outputs": []
    },
    {
      "cell_type": "markdown",
      "source": [
        "Finally, we'll need to grab a few dependencies related to our quantitative data!"
      ],
      "metadata": {
        "id": "wNHDqna1P1NQ"
      }
    },
    {
      "cell_type": "code",
      "execution_count": 8,
      "metadata": {
        "id": "BrT8a3c0SV__"
      },
      "outputs": [],
      "source": [
        "!pip install -q -U sqlalchemy pandas"
      ]
    },
    {
      "cell_type": "markdown",
      "source": [
        "We'll can use [Weights and Biases](https://docs.wandb.ai/guides/prompts) (WandB) as a visibility platform, as well as storing our index!"
      ],
      "metadata": {
        "id": "SS3I4FUabE-g"
      }
    },
    {
      "cell_type": "code",
      "source": [
        "!pip install -qU wandb llama-index-callbacks-wandb"
      ],
      "metadata": {
        "id": "9UcQpjG9Ovlk",
        "colab": {
          "base_uri": "https://localhost:8080/"
        },
        "outputId": "262542c6-90af-456c-c376-28f9f7b4a834"
      },
      "execution_count": 11,
      "outputs": [
        {
          "output_type": "stream",
          "name": "stdout",
          "text": [
            "\u001b[2K     \u001b[90m━━━━━━━━━━━━━━━━━━━━━━━━━━━━━━━━━━━━━━━━\u001b[0m \u001b[32m6.9/6.9 MB\u001b[0m \u001b[31m29.7 MB/s\u001b[0m eta \u001b[36m0:00:00\u001b[0m\n",
            "\u001b[2K     \u001b[90m━━━━━━━━━━━━━━━━━━━━━━━━━━━━━━━━━━━━━━━━\u001b[0m \u001b[32m207.3/207.3 kB\u001b[0m \u001b[31m19.9 MB/s\u001b[0m eta \u001b[36m0:00:00\u001b[0m\n",
            "\u001b[2K     \u001b[90m━━━━━━━━━━━━━━━━━━━━━━━━━━━━━━━━━━━━━━━━\u001b[0m \u001b[32m300.2/300.2 kB\u001b[0m \u001b[31m14.0 MB/s\u001b[0m eta \u001b[36m0:00:00\u001b[0m\n",
            "\u001b[2K     \u001b[90m━━━━━━━━━━━━━━━━━━━━━━━━━━━━━━━━━━━━━━━━\u001b[0m \u001b[32m2.2/2.2 MB\u001b[0m \u001b[31m33.0 MB/s\u001b[0m eta \u001b[36m0:00:00\u001b[0m\n",
            "\u001b[2K     \u001b[90m━━━━━━━━━━━━━━━━━━━━━━━━━━━━━━━━━━━━━━━━\u001b[0m \u001b[32m294.6/294.6 kB\u001b[0m \u001b[31m27.2 MB/s\u001b[0m eta \u001b[36m0:00:00\u001b[0m\n",
            "\u001b[2K     \u001b[90m━━━━━━━━━━━━━━━━━━━━━━━━━━━━━━━━━━━━━━━━\u001b[0m \u001b[32m62.7/62.7 kB\u001b[0m \u001b[31m7.3 MB/s\u001b[0m eta \u001b[36m0:00:00\u001b[0m\n",
            "\u001b[?25h\u001b[31mERROR: pip's dependency resolver does not currently take into account all the packages that are installed. This behaviour is the source of the following dependency conflicts.\n",
            "cudf-cu12 24.4.1 requires pandas<2.2.2dev0,>=2.0, but you have pandas 2.2.2 which is incompatible.\n",
            "grpcio-tools 1.64.1 requires protobuf<6.0dev,>=5.26.1, but you have protobuf 4.25.3 which is incompatible.\n",
            "tensorflow-metadata 1.15.0 requires protobuf<4.21,>=3.20.3; python_version < \"3.11\", but you have protobuf 4.25.3 which is incompatible.\u001b[0m\u001b[31m\n",
            "\u001b[0m"
          ]
        }
      ]
    },
    {
      "cell_type": "code",
      "execution_count": 9,
      "metadata": {
        "id": "4OHSwkDySV_-",
        "colab": {
          "base_uri": "https://localhost:8080/"
        },
        "outputId": "af102cae-4654-40dc-c71a-c598fa212067"
      },
      "outputs": [
        {
          "name": "stdout",
          "output_type": "stream",
          "text": [
            "WandB API Key: ··········\n"
          ]
        }
      ],
      "source": [
        "import os\n",
        "import getpass\n",
        "\n",
        "os.environ[\"WANDB_API_KEY\"] = getpass.getpass(\"WandB API Key: \")"
      ]
    },
    {
      "cell_type": "markdown",
      "source": [
        "We'll also need to set a callback handler for WandB to ensure smooth operation of our traces!"
      ],
      "metadata": {
        "id": "Ut8E447rQBjY"
      }
    },
    {
      "cell_type": "code",
      "execution_count": 12,
      "metadata": {
        "id": "MoV2JINuSV_-",
        "colab": {
          "base_uri": "https://localhost:8080/",
          "height": 69
        },
        "outputId": "ceb27893-bc7b-4d35-a11a-7be1bdfe513e"
      },
      "outputs": [
        {
          "output_type": "stream",
          "name": "stderr",
          "text": [
            "\u001b[34m\u001b[1mwandb\u001b[0m: Streaming LlamaIndex events to W&B at https://wandb.ai/jaron-personal/llama-index-rag-v1/runs/udgw8njw\n",
            "\u001b[34m\u001b[1mwandb\u001b[0m: `WandbCallbackHandler` is currently in beta.\n",
            "\u001b[34m\u001b[1mwandb\u001b[0m: Please report any issues to https://github.com/wandb/wandb/issues with the tag `llamaindex`.\n"
          ]
        }
      ],
      "source": [
        "import llama_index\n",
        "from llama_index.core import set_global_handler\n",
        "\n",
        "set_global_handler(\"wandb\", run_args={\"project\": \"llama-index-rag-v1\"})\n",
        "wandb_callback = llama_index.core.global_handler"
      ]
    },
    {
      "cell_type": "markdown",
      "source": [
        "## Task 2: Set Env Variables and Set Up WandB Callback\n",
        "\n",
        "Let's set our API keys for both OpenAI and WandB!"
      ],
      "metadata": {
        "id": "ibtguieHP6n1"
      }
    },
    {
      "cell_type": "code",
      "execution_count": 13,
      "metadata": {
        "id": "7IBgMTPTSV_9",
        "colab": {
          "base_uri": "https://localhost:8080/"
        },
        "outputId": "fdf1ed16-fccf-4519-c8ae-f5c3af3f2d99"
      },
      "outputs": [
        {
          "name": "stdout",
          "output_type": "stream",
          "text": [
            "OpenAI API Key: ··········\n"
          ]
        }
      ],
      "source": [
        "import os\n",
        "import getpass\n",
        "\n",
        "os.environ[\"OPENAI_API_KEY\"] = getpass.getpass(\"OpenAI API Key: \")"
      ]
    },
    {
      "cell_type": "markdown",
      "source": [
        "### OPTIONAL ADVANCED PATH:\n",
        "\n",
        "Instead of OpenAI - you could use Anthropic's new Claude model `Sonnet 3.5`!\n",
        "\n",
        "Let's see how the flow might be different if you wanted to use the latest and greatest from Anthropic!\n",
        "\n",
        "> NOTE: You will need an [API Key](https://www.anthropic.com/news/claude-3-5-sonnet) for `Sonnet 3.5` for the following cells to work!"
      ],
      "metadata": {
        "id": "aTKRJ9FaA1U1"
      }
    },
    {
      "cell_type": "code",
      "source": [
        "# OPTIONAL ADVANCED PATH\n",
        "!pip install -qU llama-index-llms-anthropic"
      ],
      "metadata": {
        "colab": {
          "base_uri": "https://localhost:8080/"
        },
        "id": "tIC5feHeCN53",
        "outputId": "dc5b9c19-82c0-4976-d5c1-a43afc2c3fd8"
      },
      "execution_count": 14,
      "outputs": [
        {
          "output_type": "stream",
          "name": "stdout",
          "text": [
            "\u001b[?25l     \u001b[90m━━━━━━━━━━━━━━━━━━━━━━━━━━━━━━━━━━━━━━━━\u001b[0m \u001b[32m0.0/862.7 kB\u001b[0m \u001b[31m?\u001b[0m eta \u001b[36m-:--:--\u001b[0m\r\u001b[2K     \u001b[91m━━━━━━━━━━━━━━━━━━\u001b[0m\u001b[90m╺\u001b[0m\u001b[90m━━━━━━━━━━━━━━━━━━━━━\u001b[0m \u001b[32m389.1/862.7 kB\u001b[0m \u001b[31m11.4 MB/s\u001b[0m eta \u001b[36m0:00:01\u001b[0m\r\u001b[2K     \u001b[90m━━━━━━━━━━━━━━━━━━━━━━━━━━━━━━━━━━━━━━━━\u001b[0m \u001b[32m862.7/862.7 kB\u001b[0m \u001b[31m15.7 MB/s\u001b[0m eta \u001b[36m0:00:00\u001b[0m\n",
            "\u001b[?25h"
          ]
        }
      ]
    },
    {
      "cell_type": "code",
      "source": [
        "# OPTIONAL ADVANCED PATH\n",
        "os.environ[\"ANTHROPIC_API_KEY\"] = getpass.getpass(\"Anthropic API Key: \")"
      ],
      "metadata": {
        "colab": {
          "base_uri": "https://localhost:8080/"
        },
        "id": "QEQ6oIOeCWJ4",
        "outputId": "4103ed2e-6444-4147-b582-6e523046301a"
      },
      "execution_count": 15,
      "outputs": [
        {
          "name": "stdout",
          "output_type": "stream",
          "text": [
            "Anthropic API Key: ··········\n"
          ]
        }
      ]
    },
    {
      "cell_type": "code",
      "source": [
        "# OPTIONAL ADVANCED PATH\n",
        "from llama_index.llms.anthropic import Anthropic\n",
        "from llama_index.core import Settings\n",
        "\n",
        "Settings.llm = Anthropic(model=\"claude-3-5-sonnet-20240620\")"
      ],
      "metadata": {
        "id": "yZC0Jav4CDDl"
      },
      "execution_count": 16,
      "outputs": []
    },
    {
      "cell_type": "markdown",
      "metadata": {
        "id": "UQwigweOSV_-"
      },
      "source": [
        "## Task 3: Settings\n",
        "\n",
        "LlamaIndex lets us set global settings which we can use to influence the default behaviour of our components.\n",
        "\n",
        "Let's set our LLM and our Embedding Model!"
      ]
    },
    {
      "cell_type": "code",
      "execution_count": 17,
      "metadata": {
        "id": "6KOy21KPSV_-"
      },
      "outputs": [],
      "source": [
        "from llama_index.llms.openai import OpenAI\n",
        "from llama_index.core import Settings\n",
        "\n",
        "Settings.llm = OpenAI(model=\"gpt-4o\")"
      ]
    },
    {
      "cell_type": "code",
      "source": [
        "from llama_index.embeddings.openai import OpenAIEmbedding\n",
        "Settings.embedding = OpenAIEmbedding(model=\"text-embedding-3-small\")"
      ],
      "metadata": {
        "id": "dHWYyjG7C2OA"
      },
      "execution_count": 18,
      "outputs": []
    },
    {
      "cell_type": "markdown",
      "metadata": {
        "id": "eiOdw7EQSV_-"
      },
      "source": [
        "## Task 4: `Index` Creation\n",
        "\n",
        "In order for us to perform RAG in the traditional sense - we need an `Index`.\n",
        "\n",
        "So what is an `Index`? Well - let's see how LlamaIndex defines it:\n",
        "\n",
        "> In LlamaIndex terms, an `Index` is a data structure composed of Document objects, designed to enable querying by an LLM. Your Index is designed to be complementary to your querying strategy.\n",
        "\n",
        "Okay, so we know that we have a boatload of Wikipedia content - and we know that we want to be able to query the `Index` and receive documents that are related to our query - so let's use an `Index` built on the idea of embedding-vectors.\n",
        "\n",
        "Introducing: `VectorStoreIndex`!\n",
        "\n",
        "Again, let's see how LlamaIndex defines this:\n",
        "\n",
        "> A `VectorStoreIndex` is by far the most frequent type of `Index` you'll encounter. The Vector Store Index takes your Documents and splits them up into Nodes. It then creates `vector` embeddings of the text of every node, ready to be queried by an LLM.\n",
        "\n",
        "Alright, that sounds awesome - let's make one!"
      ]
    },
    {
      "cell_type": "markdown",
      "metadata": {
        "id": "iDEtQQWnSV_-"
      },
      "source": [
        "### Data Collection\n",
        "\n",
        "We're just going to be pulling information straight from Wikipedia using the built in `WikipediaReader`.\n",
        "\n",
        "> NOTE: Setting `auto_suggest=False` ensures we run into fewer auto-correct based errors."
      ]
    },
    {
      "cell_type": "markdown",
      "metadata": {
        "id": "vcvGuykZSV_8"
      },
      "source": [
        "### A note on terminology:\n",
        "\n",
        "You'll notice that there are quite a few similarities between LangChain and LlamaIndex. LlamaIndex can largely be thought of as an extension to LangChain, in some ways - but they moved some of the language around. Let's spend a few moments disambiguating the language.\n",
        "\n",
        "- `QueryEngine` -> `LCEL Chain`:\n",
        "  -  `QueryEngine` is just LlamaIndex's way of indicating something is an LLM \"chain\" on top of a retrieval system\n",
        "- `OpenAIAgent` vs. `Agent`:\n",
        "  - The two agents have the same fundamental pattern: Decide which of a list of tools to use to answer a user's query.\n",
        "  - `OpenAIAgent` (LlamaIndex's primary agent) does not need to rely on an agent excecutor due to the fact that it is leveraging OpenAI's [functional api](https://openai.com/blog/function-calling-and-other-api-updates) which allows the agent to interface \"directly\" with the tools instead of operating through an intermediary application process.\n",
        "\n",
        "There is, however, a much large terminological difference when it comes to discussing data.\n",
        "\n",
        "##### Nodes vs. Documents\n",
        "\n",
        "As you're aware of from the previous weeks assignments, there's an idea of `documents` in NLP which refers to text objects that exist within a corpus of documents.\n",
        "\n",
        "LlamaIndex takes this a step further and reclassifies `documents` as `nodes`. Confusingly, it refers to the `Source Document` as simply `Documents`.\n",
        "\n",
        "The `Document` -> `node` structure is, almost exactly, equivalent to the `Source Document` -> `Document` structure found in LangChain - but the new terminology comes with some clarity about different structure-indices.\n",
        "\n",
        "We won't be leveraging those structured indicies today, but we will be leveraging a \"benefit\" of the `node` structure that exists as a default in LlamaIndex, which is the ability to quickly filter nodes based on their metadata.\n",
        "\n",
        "![image](https://i.imgur.com/B1QDjs5.png)"
      ]
    },
    {
      "cell_type": "code",
      "execution_count": 19,
      "metadata": {
        "id": "OrzzrnYMSV_-"
      },
      "outputs": [],
      "source": [
        "from llama_index.readers.wikipedia import WikipediaReader\n",
        "\n",
        "movie_list = [\n",
        "    \"Dune (2021 film)\",\n",
        "    \"Dune: Part Two\",\n",
        "    \"The Lord of the Rings: The Fellowship of the Ring\",\n",
        "    \"The Lord of the Rings: The Two Towers\",\n",
        "]\n",
        "\n",
        "wiki_docs = WikipediaReader().load_data(pages=movie_list, auto_suggest=False)"
      ]
    },
    {
      "cell_type": "markdown",
      "metadata": {
        "id": "-6FRQ4hfSV_-"
      },
      "source": [
        "### Initializing our `VectorStoreIndex` with QDrant\n",
        "\n",
        "QDrant is a locally hostable and open-source vector database solution.\n",
        "\n",
        "It offers powerful features like metadata filtering out of the box, and will suit our needs well today!\n",
        "\n",
        "We'll start by creating our local `:memory:` client (in-memory and not meant for production use-cases) and our collection."
      ]
    },
    {
      "cell_type": "code",
      "source": [
        "from llama_index.vector_stores.qdrant import QdrantVectorStore\n",
        "from qdrant_client import QdrantClient, models\n",
        "\n",
        "client = QdrantClient(location=\":memory:\")\n",
        "\n",
        "client.create_collection(\n",
        "    collection_name=\"movie_wikis\",\n",
        "    vectors_config=models.VectorParams(size=1536, distance=models.Distance.COSINE)\n",
        ")"
      ],
      "metadata": {
        "id": "b1ut96aSEVwY",
        "colab": {
          "base_uri": "https://localhost:8080/"
        },
        "outputId": "5ab8d892-dc16-44f3-d4a7-f112bf0e5a19"
      },
      "execution_count": 20,
      "outputs": [
        {
          "output_type": "execute_result",
          "data": {
            "text/plain": [
              "True"
            ]
          },
          "metadata": {},
          "execution_count": 20
        }
      ]
    },
    {
      "cell_type": "markdown",
      "source": [
        "Then we'll create our `VectorStore` and `StorageContext` which will allow us to create an empty `VectorStoreIndex` which we will be able to add nodes to later!"
      ],
      "metadata": {
        "id": "Fa3mbrfGnkCk"
      }
    },
    {
      "cell_type": "code",
      "execution_count": 21,
      "metadata": {
        "id": "lZ5xilm1SV_-",
        "colab": {
          "base_uri": "https://localhost:8080/"
        },
        "outputId": "4e3d18aa-da7c-43a9-a0de-438fccd45a35"
      },
      "outputs": [
        {
          "output_type": "stream",
          "name": "stderr",
          "text": [
            "\u001b[34m\u001b[1mwandb\u001b[0m: Logged trace tree to W&B.\n"
          ]
        }
      ],
      "source": [
        "from llama_index.core import VectorStoreIndex\n",
        "from llama_index.core import StorageContext\n",
        "\n",
        "vector_store = QdrantVectorStore(client=client, collection_name=\"movie_wikis\")\n",
        "\n",
        "storage_context = StorageContext.from_defaults(vector_store=vector_store)\n",
        "\n",
        "index = VectorStoreIndex.from_documents(\n",
        "    [],\n",
        "    storage_context=storage_context,\n",
        ")"
      ]
    },
    {
      "cell_type": "markdown",
      "metadata": {
        "id": "6qtzVDelSV_-"
      },
      "source": [
        "### Node Construction\n",
        "\n",
        "Now we will loop through our documents and metadata and construct nodes.\n",
        "\n",
        "We'll make sure to explicitly associate our nodes with their respective movie so we can filter by the movie title in the upcoming cells.\n",
        "\n",
        "You might be thinking to yourself - wait, we never indicated which embedding model this should use - but remember"
      ]
    },
    {
      "cell_type": "code",
      "execution_count": 22,
      "metadata": {
        "id": "LP4INgSGSV_-",
        "colab": {
          "base_uri": "https://localhost:8080/"
        },
        "outputId": "2994414b-0ffb-4767-aa1d-7d59c5fbc039"
      },
      "outputs": [
        {
          "output_type": "stream",
          "name": "stderr",
          "text": [
            "\u001b[34m\u001b[1mwandb\u001b[0m: Logged trace tree to W&B.\n",
            "\u001b[34m\u001b[1mwandb\u001b[0m: Logged trace tree to W&B.\n",
            "\u001b[34m\u001b[1mwandb\u001b[0m: Logged trace tree to W&B.\n",
            "\u001b[34m\u001b[1mwandb\u001b[0m: Logged trace tree to W&B.\n"
          ]
        }
      ],
      "source": [
        "from llama_index.core import SimpleDirectoryReader\n",
        "from llama_index.core.ingestion import IngestionPipeline\n",
        "from llama_index.core.node_parser import TokenTextSplitter\n",
        "from llama_index.core.extractors import TitleExtractor\n",
        "\n",
        "pipeline = IngestionPipeline(transformations=[TokenTextSplitter()])\n",
        "\n",
        "for movie, wiki_doc in zip(movie_list, wiki_docs):\n",
        "  nodes = pipeline.run(documents=[wiki_doc])\n",
        "  for node in nodes:\n",
        "      node.metadata = {\"title\" : movie}\n",
        "  index.insert_nodes(nodes)"
      ]
    },
    {
      "cell_type": "markdown",
      "source": [
        "####❓ Question #1:\n",
        "\n",
        "What `metadata` fields will the nodes in our index have?\n",
        "\n",
        "> You will need to write code to find this information"
      ],
      "metadata": {
        "id": "biVzC-I4UAmB"
      }
    },
    {
      "cell_type": "markdown",
      "source": [
        "**ANSWER**\n",
        "The movie title"
      ],
      "metadata": {
        "id": "NCSeAe1l0FiZ"
      }
    },
    {
      "cell_type": "code",
      "source": [
        "print(node.metadata)\n"
      ],
      "metadata": {
        "id": "mt1lhxEnUKxO",
        "colab": {
          "base_uri": "https://localhost:8080/"
        },
        "outputId": "3f5695b2-0e76-4c4c-d27a-be570fc86df6"
      },
      "execution_count": 23,
      "outputs": [
        {
          "output_type": "stream",
          "name": "stdout",
          "text": [
            "{'title': 'The Lord of the Rings: The Two Towers'}\n"
          ]
        }
      ]
    },
    {
      "cell_type": "markdown",
      "source": [
        "### Persisting and Loading Stored Index with Weights and Biases\n",
        "\n",
        "Now we can utilize a powerful feature of Weights and Biases - index and artifact versioning!\n",
        "\n",
        "We can persist our index to WandB to be used and loaded later!"
      ],
      "metadata": {
        "id": "Sfbon1BwSLFS"
      }
    },
    {
      "cell_type": "code",
      "source": [
        "# Persisting our index to WandB to be used and loaded later\n",
        "wandb_callback.persist_index(index, index_name=\"movie-index-qdrant\")"
      ],
      "metadata": {
        "colab": {
          "base_uri": "https://localhost:8080/"
        },
        "id": "PHJd00J3G48_",
        "outputId": "a835ad3e-6b34-47df-9624-a5a139240c28"
      },
      "execution_count": 25,
      "outputs": [
        {
          "output_type": "stream",
          "name": "stderr",
          "text": [
            "\u001b[34m\u001b[1mwandb\u001b[0m: Adding directory to artifact (/content/wandb/run-20240704_214012-udgw8njw/files/storage)... Done. 0.0s\n"
          ]
        }
      ]
    },
    {
      "cell_type": "markdown",
      "source": [
        "Now we can load our index from WandB, which is a truly powerful tool!"
      ],
      "metadata": {
        "id": "jvpHLt8UShKa"
      }
    },
    {
      "cell_type": "code",
      "source": [
        "# Load the index from WandB\n",
        "from llama_index.core import load_index_from_storage\n",
        "\n",
        "storage_context = wandb_callback.load_storage_context(\n",
        "    artifact_url=\"jaron-personal/llama-index-rag-v1/movie-index-qdrant:v2\"\n",
        ")"
      ],
      "metadata": {
        "colab": {
          "base_uri": "https://localhost:8080/"
        },
        "id": "FDZLmqTDHDrZ",
        "outputId": "e4376692-747e-4da5-dbf9-2f95e13438ec"
      },
      "execution_count": 31,
      "outputs": [
        {
          "output_type": "stream",
          "name": "stderr",
          "text": [
            "\u001b[34m\u001b[1mwandb\u001b[0m:   4 of 4 files downloaded.  \n"
          ]
        }
      ]
    },
    {
      "cell_type": "markdown",
      "source": [
        "####❓ Question #2:\n",
        "\n",
        "Provide a screenshot of your index version history as shown in WandB.\n",
        "\n",
        "\n",
        "![image.png](data:image/png;base64,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)"
      ],
      "metadata": {
        "id": "kVVW70zyapx1"
      }
    },
    {
      "cell_type": "markdown",
      "source": [
        "## Task 5: Simple RAG - QueryEngine\n",
        "\n",
        "Now that we're created our `VectorStoreIndex`, powered by a QDrant VectorStore, we can wrap it in a simple `QueryEngine` using the `as_query_engine()` method - which will connect a few things together for us:"
      ],
      "metadata": {
        "id": "kCSHKnb0mIte"
      }
    },
    {
      "cell_type": "code",
      "source": [
        "simple_rag = index.as_query_engine()"
      ],
      "metadata": {
        "id": "3ipb8j6dfLcO"
      },
      "execution_count": 32,
      "outputs": []
    },
    {
      "cell_type": "markdown",
      "source": [
        "Before we test this out - let's see what information we can find out about from our new `QueryEngine`!"
      ],
      "metadata": {
        "id": "zgJZGr5FqAME"
      }
    },
    {
      "cell_type": "code",
      "source": [
        "for k, v in simple_rag.get_prompts().items():\n",
        "  print(v.get_template())\n",
        "  print(\"\\n~~~~~~~~~~~~~~~~~~\\n\")"
      ],
      "metadata": {
        "colab": {
          "base_uri": "https://localhost:8080/"
        },
        "id": "L-3v4ntaqFmd",
        "outputId": "2c82b240-b518-46a4-fb9c-4b113d44b922"
      },
      "execution_count": 33,
      "outputs": [
        {
          "output_type": "stream",
          "name": "stdout",
          "text": [
            "Context information is below.\n",
            "---------------------\n",
            "{context_str}\n",
            "---------------------\n",
            "Given the context information and not prior knowledge, answer the query.\n",
            "Query: {query_str}\n",
            "Answer: \n",
            "\n",
            "~~~~~~~~~~~~~~~~~~\n",
            "\n",
            "The original query is as follows: {query_str}\n",
            "We have provided an existing answer: {existing_answer}\n",
            "We have the opportunity to refine the existing answer (only if needed) with some more context below.\n",
            "------------\n",
            "{context_msg}\n",
            "------------\n",
            "Given the new context, refine the original answer to better answer the query. If the context isn't useful, return the original answer.\n",
            "Refined Answer: \n",
            "\n",
            "~~~~~~~~~~~~~~~~~~\n",
            "\n"
          ]
        }
      ]
    },
    {
      "cell_type": "markdown",
      "source": [
        "Let's see how it does!"
      ],
      "metadata": {
        "id": "N1YoR45tnv8h"
      }
    },
    {
      "cell_type": "code",
      "source": [
        "response = simple_rag.query(\"Who is the evil Wizard in the story?\")"
      ],
      "metadata": {
        "id": "FgpQhKobfQ7y",
        "colab": {
          "base_uri": "https://localhost:8080/"
        },
        "outputId": "cf1d53b5-813c-4d5e-cbbf-7edf14a75a53"
      },
      "execution_count": 34,
      "outputs": [
        {
          "output_type": "stream",
          "name": "stderr",
          "text": [
            "\u001b[34m\u001b[1mwandb\u001b[0m: Logged trace tree to W&B.\n"
          ]
        }
      ]
    },
    {
      "cell_type": "code",
      "source": [
        "response.response"
      ],
      "metadata": {
        "colab": {
          "base_uri": "https://localhost:8080/",
          "height": 36
        },
        "id": "654d4vdfhnVq",
        "outputId": "0c1f9ee8-122b-414d-830d-b3f9e380ee40"
      },
      "execution_count": 35,
      "outputs": [
        {
          "output_type": "execute_result",
          "data": {
            "text/plain": [
              "'The evil wizard in the story is Saruman the White.'"
            ],
            "application/vnd.google.colaboratory.intrinsic+json": {
              "type": "string"
            }
          },
          "metadata": {},
          "execution_count": 35
        }
      ]
    },
    {
      "cell_type": "markdown",
      "source": [
        "That makes sense!\n",
        "\n",
        "Let's ask a question that's slightly more...ambiguous."
      ],
      "metadata": {
        "id": "D8rRiijvpVoQ"
      }
    },
    {
      "cell_type": "code",
      "source": [
        "response = simple_rag.query(\"Who are the giant beings that roam across the world?\")"
      ],
      "metadata": {
        "id": "_m0H1tbLiqME",
        "colab": {
          "base_uri": "https://localhost:8080/"
        },
        "outputId": "4b315def-9d03-4309-94e1-c0a11dab3d54"
      },
      "execution_count": 36,
      "outputs": [
        {
          "output_type": "stream",
          "name": "stderr",
          "text": [
            "\u001b[34m\u001b[1mwandb\u001b[0m: Logged trace tree to W&B.\n"
          ]
        }
      ]
    },
    {
      "cell_type": "code",
      "source": [
        "response.response"
      ],
      "metadata": {
        "colab": {
          "base_uri": "https://localhost:8080/",
          "height": 36
        },
        "id": "TEh4yjQzizeV",
        "outputId": "bad59ec3-57fd-4207-fdfd-51cd0268e082"
      },
      "execution_count": 37,
      "outputs": [
        {
          "output_type": "execute_result",
          "data": {
            "text/plain": [
              "'The giant beings that roam across the world are the sandworms.'"
            ],
            "application/vnd.google.colaboratory.intrinsic+json": {
              "type": "string"
            }
          },
          "metadata": {},
          "execution_count": 37
        }
      ]
    },
    {
      "cell_type": "markdown",
      "source": [
        "We can check the source nodes to see which movies we retrieved."
      ],
      "metadata": {
        "id": "xOb6eh8_pnaX"
      }
    },
    {
      "cell_type": "code",
      "source": [
        "print([x.metadata[\"title\"] for x in response.source_nodes])"
      ],
      "metadata": {
        "colab": {
          "base_uri": "https://localhost:8080/"
        },
        "id": "y_qyApFDpPny",
        "outputId": "b1ef808f-def3-417f-95d4-c9dccad3caf3"
      },
      "execution_count": 38,
      "outputs": [
        {
          "output_type": "stream",
          "name": "stdout",
          "text": [
            "['Dune (2021 film)', 'The Lord of the Rings: The Fellowship of the Ring']\n"
          ]
        }
      ]
    },
    {
      "cell_type": "markdown",
      "source": [
        "Okay, so in this case - we've gone with \"Sandworms \" from Dune.\n",
        "\n",
        "But there's also the Ents from Lord of the Rings, and it looks like we got documents from Lord of the Rings as well.\n",
        "\n",
        "Let's see if there's a way we can use the title metadata we added to filter the results we get!"
      ],
      "metadata": {
        "id": "xBEXFmPapZpg"
      }
    },
    {
      "cell_type": "markdown",
      "metadata": {
        "id": "YUa5sHMsSV__"
      },
      "source": [
        "## Task 6: Auto Retriever Functional Tool\n",
        "\n",
        "This tool will leverage OpenAI's functional endpoint to select the correct metadata filter and query the filtered index - only looking at nodes with the desired metadata.\n",
        "\n",
        "A simplified diagram: ![image](https://i.imgur.com/AICDPav.png)"
      ]
    },
    {
      "cell_type": "markdown",
      "metadata": {
        "id": "Z2HQHY3pSV__"
      },
      "source": [
        "First, we need to create our `VectoreStoreInfo` object which will hold all the relevant metadata we need for each component (in this case title metadata).\n",
        "\n",
        "Notice that you need to include it in a text list."
      ]
    },
    {
      "cell_type": "code",
      "execution_count": 39,
      "metadata": {
        "id": "KoAYxbdsSV__"
      },
      "outputs": [],
      "source": [
        "# Create the `VectoreStoreInfo` object that holds all relevant metadata\n",
        "from llama_index.core.tools import FunctionTool\n",
        "from llama_index.core.vector_stores.types import (\n",
        "    VectorStoreInfo,\n",
        "    MetadataInfo,\n",
        "    ExactMatchFilter,\n",
        "    MetadataFilters,\n",
        ")\n",
        "from llama_index.core.retrievers import VectorIndexRetriever\n",
        "from llama_index.core.query_engine import RetrieverQueryEngine\n",
        "\n",
        "from typing import List, Tuple, Any\n",
        "from pydantic import BaseModel, Field\n",
        "\n",
        "top_k = 3\n",
        "\n",
        "vector_store_info = VectorStoreInfo(\n",
        "    content_info=\"semantic information about movies\",\n",
        "    metadata_info=[MetadataInfo(\n",
        "        name=\"title\",\n",
        "        type=\"str\",\n",
        "        description='title of the movie, one of [\"Dune (2021 film)\", \"Dune: Part Two\", \"The Lord of the Rings: The Fellowship of the Ring\", \"The Lord of the Rings: The Two Towers\"]'\n",
        "        )]\n",
        ")"
      ]
    },
    {
      "cell_type": "markdown",
      "metadata": {
        "id": "NEjK7jcsSV__"
      },
      "source": [
        "Now we'll create our base PyDantic object that we can use to ensure compatability with our application layer. This verifies that the response from the OpenAI endpoint conforms to this schema."
      ]
    },
    {
      "cell_type": "code",
      "execution_count": 40,
      "metadata": {
        "id": "yixkwF8zSV__"
      },
      "outputs": [],
      "source": [
        "class AutoRetrieveModel(BaseModel):\n",
        "    query: str = Field(..., description=\"natural language query string\")\n",
        "    filter_key_list: List[str] = Field(\n",
        "        ..., description=\"List of metadata filter field names\"\n",
        "    )\n",
        "    filter_value_list: List[str] = Field(\n",
        "        ...,\n",
        "        description=(\n",
        "            \"List of metadata filter field values (corresponding to names specified in filter_key_list)\"\n",
        "        )\n",
        "    )"
      ]
    },
    {
      "cell_type": "markdown",
      "metadata": {
        "id": "Ep6ORS3FSV__"
      },
      "source": [
        "Now we can build our function that we will use to query the functional endpoint."
      ]
    },
    {
      "cell_type": "code",
      "execution_count": 41,
      "metadata": {
        "id": "y8sPThxlSV__"
      },
      "outputs": [],
      "source": [
        "def auto_retrieve_fn(\n",
        "    query: str, filter_key_list: List[str], filter_value_list: List[str]\n",
        "):\n",
        "    \"\"\"Auto retrieval function.\n",
        "\n",
        "    Performs auto-retrieval from a vector database, and then applies a set of filters.\n",
        "\n",
        "    \"\"\"\n",
        "    query = query or \"Query\"\n",
        "\n",
        "    exact_match_filters = [\n",
        "        ExactMatchFilter(key=k, value=v)\n",
        "        for k, v in zip(filter_key_list, filter_value_list)\n",
        "    ]\n",
        "    retriever = VectorIndexRetriever(\n",
        "        index, filters=MetadataFilters(filters=exact_match_filters), top_k=top_k\n",
        "    )\n",
        "    query_engine = RetrieverQueryEngine.from_args(retriever)\n",
        "\n",
        "    response = query_engine.query(query)\n",
        "    return str(response)"
      ]
    },
    {
      "cell_type": "markdown",
      "metadata": {
        "id": "Yt4BV6oISV__"
      },
      "source": [
        "Now we need to wrap our system in a tool in order to integrate it into the larger application.\n",
        "\n",
        "Source Code Here:\n",
        "- [`FunctionTool`](https://github.com/jerryjliu/llama_index/blob/d24767b0812ac56104497d8f59095eccbe9f2b08/llama_index/tools/function_tool.py#L21)"
      ]
    },
    {
      "cell_type": "code",
      "execution_count": 42,
      "metadata": {
        "id": "U4lS1NqeSV__"
      },
      "outputs": [],
      "source": [
        "description = f\"\"\"\\\n",
        "Use this tool to look up non-review based information about films.\n",
        "The vector database schema is given below:\n",
        "{vector_store_info.json()}\n",
        "\"\"\"\n",
        "\n",
        "auto_retrieve_tool = FunctionTool.from_defaults(\n",
        "    fn=auto_retrieve_fn,\n",
        "    name=\"semantic-film-info\",\n",
        "    description=description,\n",
        "    fn_schema=AutoRetrieveModel\n",
        ")"
      ]
    },
    {
      "cell_type": "markdown",
      "source": [
        "####❓ Question #3:\n",
        "\n",
        "Is the text in the description of our `FunctionTool` important or not? Please explain your answer."
      ],
      "metadata": {
        "id": "Ka_CDeOHbF-J"
      }
    },
    {
      "cell_type": "markdown",
      "source": [
        "**ANSWER**\n",
        "Yes. The text in the description is important because it provides guidance and context for the AI. The specifics of \"non-review based information about films\" provides direct guidance for the AI and gives context. The vector database schema is also called out to direct the AI about the structure of data it can query."
      ],
      "metadata": {
        "id": "oZX1knTA64SJ"
      }
    },
    {
      "cell_type": "markdown",
      "metadata": {
        "id": "ZblimmXVSV__"
      },
      "source": [
        "All that's left to do is attach the tool to an OpenAIAgent and let it rip!\n",
        "\n",
        "Source Code Here:\n",
        "- [`OpenAIAgent`](https://github.com/jerryjliu/llama_index/blob/d24767b0812ac56104497d8f59095eccbe9f2b08/llama_index/agent/openai_agent.py#L361)"
      ]
    },
    {
      "cell_type": "code",
      "execution_count": 43,
      "metadata": {
        "id": "W2hafCTxSV__"
      },
      "outputs": [],
      "source": [
        "from llama_index.core.agent import FunctionCallingAgentWorker\n",
        "\n",
        "agent_worker = FunctionCallingAgentWorker.from_tools(\n",
        "    tools=[auto_retrieve_tool],\n",
        "    verbose=True,\n",
        ")\n",
        "\n",
        "agent = agent_worker.as_agent()"
      ]
    },
    {
      "cell_type": "code",
      "execution_count": 44,
      "metadata": {
        "id": "DBJWDBK5SV__",
        "outputId": "21de118d-0305-457c-8dcd-91c1f91792b6",
        "colab": {
          "base_uri": "https://localhost:8080/"
        }
      },
      "outputs": [
        {
          "output_type": "stream",
          "name": "stdout",
          "text": [
            "Added user message to memory: Who starred in the 2021 film?\n",
            "=== Calling Function ===\n",
            "Calling function: semantic-film-info with args: {\"query\": \"Who starred in the film?\", \"filter_key_list\": [\"title\"], \"filter_value_list\": [\"Dune (2021 film)\"]}\n",
            "=== Function Output ===\n",
            "The film starred Timothée Chalamet, Rebecca Ferguson, Dave Bautista, Stellan Skarsgård, Charlotte Rampling, Oscar Isaac, Zendaya, Javier Bardem, Josh Brolin, Jason Momoa, David Dastmalchian, Stephen McKinley Henderson, Chang Chen, and Benjamin Clementine.\n"
          ]
        },
        {
          "output_type": "stream",
          "name": "stderr",
          "text": [
            "\u001b[34m\u001b[1mwandb\u001b[0m: Logged trace tree to W&B.\n"
          ]
        },
        {
          "output_type": "stream",
          "name": "stdout",
          "text": [
            "=== LLM Response ===\n",
            "The 2021 film \"Dune\" starred the following actors:\n",
            "\n",
            "- Timothée Chalamet\n",
            "- Rebecca Ferguson\n",
            "- Dave Bautista\n",
            "- Stellan Skarsgård\n",
            "- Charlotte Rampling\n",
            "- Oscar Isaac\n",
            "- Zendaya\n",
            "- Javier Bardem\n",
            "- Josh Brolin\n",
            "- Jason Momoa\n",
            "- David Dastmalchian\n",
            "- Stephen McKinley Henderson\n",
            "- Chang Chen\n",
            "- Benjamin Clementine\n"
          ]
        }
      ],
      "source": [
        "response = agent.chat(\"Who starred in the 2021 film?\")"
      ]
    },
    {
      "cell_type": "code",
      "source": [
        "response = agent.chat(\"Who are the giant beings that roam across the world in the movies?\")"
      ],
      "metadata": {
        "colab": {
          "base_uri": "https://localhost:8080/"
        },
        "id": "UZzs2PyDuJGX",
        "outputId": "1ffaf9dc-a20c-4998-911d-e40f51a740ca"
      },
      "execution_count": 45,
      "outputs": [
        {
          "output_type": "stream",
          "name": "stdout",
          "text": [
            "Added user message to memory: Who are the giant beings that roam across the world in the movies?\n",
            "=== Calling Function ===\n",
            "Calling function: semantic-film-info with args: {\"query\": \"giant beings that roam across the world\", \"filter_key_list\": [\"title\"], \"filter_value_list\": [\"Dune (2021 film)\"]}\n",
            "=== Function Output ===\n",
            "The giant beings that roam across the world are the sandworms.\n",
            "=== Calling Function ===\n",
            "Calling function: semantic-film-info with args: {\"query\": \"giant beings that roam across the world\", \"filter_key_list\": [\"title\"], \"filter_value_list\": [\"The Lord of the Rings: The Fellowship of the Ring\"]}\n",
            "=== Function Output ===\n",
            "The context does not provide information about giant beings that roam across the world.\n",
            "=== Calling Function ===\n",
            "Calling function: semantic-film-info with args: {\"query\": \"giant beings that roam across the world\", \"filter_key_list\": [\"title\"], \"filter_value_list\": [\"The Lord of the Rings: The Two Towers\"]}\n",
            "=== Function Output ===\n",
            "Treebeard is an example of a giant being that roams across the world. He is a character in \"The Lord of the Rings: The Two Towers\" and is depicted as a large, sentient tree-like creature.\n"
          ]
        },
        {
          "output_type": "stream",
          "name": "stderr",
          "text": [
            "\u001b[34m\u001b[1mwandb\u001b[0m: Logged trace tree to W&B.\n"
          ]
        },
        {
          "output_type": "stream",
          "name": "stdout",
          "text": [
            "=== LLM Response ===\n",
            "In the movies:\n",
            "\n",
            "- **Dune (2021 film)**: The giant beings that roam across the world are the **sandworms**.\n",
            "- **The Lord of the Rings: The Fellowship of the Ring**: There is no specific information provided about giant beings that roam across the world in this film.\n",
            "- **The Lord of the Rings: The Two Towers**: **Treebeard** is an example of a giant being that roams across the world. He is depicted as a large, sentient tree-like creature.\n"
          ]
        }
      ]
    },
    {
      "cell_type": "markdown",
      "source": [
        "# 🤝 Breakout Room #2"
      ],
      "metadata": {
        "id": "v_GqxFCVbKch"
      }
    },
    {
      "cell_type": "markdown",
      "metadata": {
        "id": "yJcJL7VXSV__"
      },
      "source": [
        "## Quantitative RAG Pipeline with NL2SQL Tooling\n",
        "\n",
        "We'll walk through the steps of creating a natural language to SQL system in the following section.\n",
        "\n",
        "> NOTICE: This does not have parsing on the inputs or intermediary calls to ensure that users are using safe SQL queries. Use this with caution in a production environment without adding specific guardrails from either side of the application."
      ]
    },
    {
      "cell_type": "markdown",
      "metadata": {
        "id": "SsVcM0-4SV__"
      },
      "source": [
        "The next few steps should be largely straightforward, we'll want to:\n",
        "\n",
        "1. Read in our `.csv` files into `pd.DataFrame` objects\n",
        "2. Create an in-memory `sqlite` powered `sqlalchemy` engine\n",
        "3. Cast our `pd.DataFrame` objects to the SQL engine\n",
        "4. Create an `SQLDatabase` object through LlamaIndex\n",
        "5. Use that to create a `QueryEngineTool` that we can interact with through the `NLSQLTableQueryEngine`!\n",
        "\n",
        "If you get stuck, please consult the documentation."
      ]
    },
    {
      "cell_type": "code",
      "source": [
        "!wget https://raw.githubusercontent.com/AI-Maker-Space/DataRepository/main/dune1.csv"
      ],
      "metadata": {
        "id": "WwWOygTqlNBh",
        "colab": {
          "base_uri": "https://localhost:8080/"
        },
        "outputId": "99d06048-d4c8-486a-bd7a-19b1071a281c"
      },
      "execution_count": 46,
      "outputs": [
        {
          "output_type": "stream",
          "name": "stdout",
          "text": [
            "--2024-07-04 22:48:22--  https://raw.githubusercontent.com/AI-Maker-Space/DataRepository/main/dune1.csv\n",
            "Resolving raw.githubusercontent.com (raw.githubusercontent.com)... 185.199.108.133, 185.199.109.133, 185.199.110.133, ...\n",
            "Connecting to raw.githubusercontent.com (raw.githubusercontent.com)|185.199.108.133|:443... connected.\n",
            "HTTP request sent, awaiting response... 200 OK\n",
            "Length: 133391 (130K) [text/plain]\n",
            "Saving to: ‘dune1.csv’\n",
            "\n",
            "\rdune1.csv             0%[                    ]       0  --.-KB/s               \rdune1.csv           100%[===================>] 130.26K  --.-KB/s    in 0.005s  \n",
            "\n",
            "2024-07-04 22:48:22 (26.6 MB/s) - ‘dune1.csv’ saved [133391/133391]\n",
            "\n"
          ]
        }
      ]
    },
    {
      "cell_type": "code",
      "source": [
        "!wget https://raw.githubusercontent.com/AI-Maker-Space/DataRepository/main/dune2.csv"
      ],
      "metadata": {
        "id": "TD_9LPL9lTlG",
        "colab": {
          "base_uri": "https://localhost:8080/"
        },
        "outputId": "ec8f5b27-500a-4d91-93dd-3527afe24427"
      },
      "execution_count": 47,
      "outputs": [
        {
          "output_type": "stream",
          "name": "stdout",
          "text": [
            "--2024-07-04 22:48:28--  https://raw.githubusercontent.com/AI-Maker-Space/DataRepository/main/dune2.csv\n",
            "Resolving raw.githubusercontent.com (raw.githubusercontent.com)... 185.199.108.133, 185.199.109.133, 185.199.110.133, ...\n",
            "Connecting to raw.githubusercontent.com (raw.githubusercontent.com)|185.199.108.133|:443... connected.\n",
            "HTTP request sent, awaiting response... 200 OK\n",
            "Length: 111843 (109K) [text/plain]\n",
            "Saving to: ‘dune2.csv’\n",
            "\n",
            "\rdune2.csv             0%[                    ]       0  --.-KB/s               \rdune2.csv           100%[===================>] 109.22K  --.-KB/s    in 0.003s  \n",
            "\n",
            "2024-07-04 22:48:28 (32.5 MB/s) - ‘dune2.csv’ saved [111843/111843]\n",
            "\n"
          ]
        }
      ]
    },
    {
      "cell_type": "code",
      "source": [
        "!wget https://raw.githubusercontent.com/AI-Maker-Space/DataRepository/main/lotr_fotr.csv"
      ],
      "metadata": {
        "colab": {
          "base_uri": "https://localhost:8080/"
        },
        "id": "QWFWvEdY1inS",
        "outputId": "466aff95-f159-4c42-bd55-2cbf5bcac914"
      },
      "execution_count": 48,
      "outputs": [
        {
          "output_type": "stream",
          "name": "stdout",
          "text": [
            "--2024-07-04 22:48:32--  https://raw.githubusercontent.com/AI-Maker-Space/DataRepository/main/lotr_fotr.csv\n",
            "Resolving raw.githubusercontent.com (raw.githubusercontent.com)... 185.199.108.133, 185.199.109.133, 185.199.110.133, ...\n",
            "Connecting to raw.githubusercontent.com (raw.githubusercontent.com)|185.199.108.133|:443... connected.\n",
            "HTTP request sent, awaiting response... 200 OK\n",
            "Length: 172855 (169K) [text/plain]\n",
            "Saving to: ‘lotr_fotr.csv’\n",
            "\n",
            "\rlotr_fotr.csv         0%[                    ]       0  --.-KB/s               \rlotr_fotr.csv       100%[===================>] 168.80K  --.-KB/s    in 0.004s  \n",
            "\n",
            "2024-07-04 22:48:32 (40.4 MB/s) - ‘lotr_fotr.csv’ saved [172855/172855]\n",
            "\n"
          ]
        }
      ]
    },
    {
      "cell_type": "code",
      "source": [
        "!wget https://raw.githubusercontent.com/AI-Maker-Space/DataRepository/main/lotr_tt.csv"
      ],
      "metadata": {
        "colab": {
          "base_uri": "https://localhost:8080/"
        },
        "id": "Nto_jNmN1n-G",
        "outputId": "240829e3-5f6d-4283-818a-7ab7fbffd6b0"
      },
      "execution_count": 49,
      "outputs": [
        {
          "output_type": "stream",
          "name": "stdout",
          "text": [
            "--2024-07-04 22:48:37--  https://raw.githubusercontent.com/AI-Maker-Space/DataRepository/main/lotr_tt.csv\n",
            "Resolving raw.githubusercontent.com (raw.githubusercontent.com)... 185.199.108.133, 185.199.109.133, 185.199.110.133, ...\n",
            "Connecting to raw.githubusercontent.com (raw.githubusercontent.com)|185.199.108.133|:443... connected.\n",
            "HTTP request sent, awaiting response... 200 OK\n",
            "Length: 114598 (112K) [text/plain]\n",
            "Saving to: ‘lotr_tt.csv’\n",
            "\n",
            "\rlotr_tt.csv           0%[                    ]       0  --.-KB/s               \rlotr_tt.csv         100%[===================>] 111.91K  --.-KB/s    in 0.004s  \n",
            "\n",
            "2024-07-04 22:48:37 (26.2 MB/s) - ‘lotr_tt.csv’ saved [114598/114598]\n",
            "\n"
          ]
        }
      ]
    },
    {
      "cell_type": "markdown",
      "metadata": {
        "id": "8PUg-ZuTSWAC"
      },
      "source": [
        "#### Read `.csv` Into Pandas"
      ]
    },
    {
      "cell_type": "code",
      "execution_count": 50,
      "metadata": {
        "id": "52Hd8PM4SWAC"
      },
      "outputs": [],
      "source": [
        "import pandas as pd\n",
        "\n",
        "dune1 = pd.read_csv(\"./dune1.csv\")\n",
        "dune2 = pd.read_csv(\"./dune2.csv\")\n",
        "lotr_fotr = pd.read_csv(\"./lotr_fotr.csv\")\n",
        "lotr_tt = pd.read_csv(\"./lotr_tt.csv\")"
      ]
    },
    {
      "cell_type": "markdown",
      "metadata": {
        "id": "fPTNyqmpSWAC"
      },
      "source": [
        "#### Create SQLAlchemy engine with SQLite"
      ]
    },
    {
      "cell_type": "code",
      "execution_count": 51,
      "metadata": {
        "id": "4lfuPKYBSWAC"
      },
      "outputs": [],
      "source": [
        "# Create SQLAIchemy engine w/ SQLite and store in memory\n",
        "from sqlalchemy import create_engine\n",
        "\n",
        "engine = create_engine(\"sqlite+pysqlite:///:memory:\")"
      ]
    },
    {
      "cell_type": "markdown",
      "metadata": {
        "id": "iJiYiSuHSWAC"
      },
      "source": [
        "#### Convert `pd.DataFrame` to SQL tables"
      ]
    },
    {
      "cell_type": "code",
      "execution_count": 52,
      "metadata": {
        "id": "W-96asUHSWAC",
        "outputId": "8a5c9f17-992e-4849-9215-b544cd23e2e5",
        "colab": {
          "base_uri": "https://localhost:8080/"
        }
      },
      "outputs": [
        {
          "output_type": "execute_result",
          "data": {
            "text/plain": [
              "274"
            ]
          },
          "metadata": {},
          "execution_count": 52
        }
      ],
      "source": [
        "dune1.to_sql(\n",
        "  \"Dune (2021 film)\",\n",
        "  engine\n",
        ")"
      ]
    },
    {
      "cell_type": "code",
      "execution_count": 53,
      "metadata": {
        "id": "ZwOi1RE1SWAC",
        "outputId": "76b306b8-0080-4c08-bad3-da82f2ec5be9",
        "colab": {
          "base_uri": "https://localhost:8080/"
        }
      },
      "outputs": [
        {
          "output_type": "execute_result",
          "data": {
            "text/plain": [
              "175"
            ]
          },
          "metadata": {},
          "execution_count": 53
        }
      ],
      "source": [
        "dune2.to_sql(\n",
        "  \"Dune: Part Two\",\n",
        "  engine\n",
        ")"
      ]
    },
    {
      "cell_type": "code",
      "source": [
        "lotr_fotr.to_sql(\n",
        "  \"The Lord of the Rings: The Fellowship of the Ring\",\n",
        "  engine\n",
        ")"
      ],
      "metadata": {
        "colab": {
          "base_uri": "https://localhost:8080/"
        },
        "id": "3R6FTIki4Q51",
        "outputId": "c3d5a0dd-b916-4e2f-9626-ba1b0337e45f"
      },
      "execution_count": 54,
      "outputs": [
        {
          "output_type": "execute_result",
          "data": {
            "text/plain": [
              "250"
            ]
          },
          "metadata": {},
          "execution_count": 54
        }
      ]
    },
    {
      "cell_type": "code",
      "source": [
        "lotr_tt.to_sql(\n",
        "  \"The Lord of the Rings: The Two Towers\",\n",
        "  engine\n",
        ")"
      ],
      "metadata": {
        "colab": {
          "base_uri": "https://localhost:8080/"
        },
        "id": "5CiP8dwV4SFZ",
        "outputId": "7feaa641-15ec-44b3-bd99-be5a818d7f8a"
      },
      "execution_count": 55,
      "outputs": [
        {
          "output_type": "execute_result",
          "data": {
            "text/plain": [
              "149"
            ]
          },
          "metadata": {},
          "execution_count": 55
        }
      ]
    },
    {
      "cell_type": "markdown",
      "metadata": {
        "id": "pibA9qT7SWAC"
      },
      "source": [
        "#### Construct a `SQLDatabase` index\n",
        "\n",
        "Source Code Here:\n",
        "- [`SQLDatabase`](https://github.com/jerryjliu/llama_index/blob/d24767b0812ac56104497d8f59095eccbe9f2b08/llama_index/langchain_helpers/sql_wrapper.py#L9)"
      ]
    },
    {
      "cell_type": "code",
      "execution_count": 56,
      "metadata": {
        "id": "yeDYpR1LSWAD"
      },
      "outputs": [],
      "source": [
        "from llama_index.core import SQLDatabase\n",
        "\n",
        "sql_database = SQLDatabase(\n",
        "    engine=engine,\n",
        "    include_tables=movie_list\n",
        ")"
      ]
    },
    {
      "cell_type": "markdown",
      "metadata": {
        "id": "-7VfZBenSWAD"
      },
      "source": [
        "#### Create the NLSQLTableQueryEngine interface for all added SQL tables\n",
        "\n",
        "Source Code Here:\n",
        "- [`NLSQLTableQueryEngine`](https://github.com/jerryjliu/llama_index/blob/d24767b0812ac56104497d8f59095eccbe9f2b08/llama_index/indices/struct_store/sql_query.py#L75C1-L75C1)"
      ]
    },
    {
      "cell_type": "code",
      "execution_count": 57,
      "metadata": {
        "id": "zQWSdMtrSWAD"
      },
      "outputs": [],
      "source": [
        "from llama_index.core.indices.struct_store.sql_query import NLSQLTableQueryEngine\n",
        "\n",
        "sql_query_engine = NLSQLTableQueryEngine(\n",
        "    sql_database=sql_database,\n",
        "    tables=movie_list,\n",
        ")"
      ]
    },
    {
      "cell_type": "markdown",
      "metadata": {
        "id": "yu8WfwuTSWAD"
      },
      "source": [
        "#### Wrap It All Up in a `QueryEngineTool`\n",
        "\n",
        "You'll want to ensure you have a descriptive...description!\n",
        "\n",
        "This is what will help the LLM decide which table to use when querying!\n",
        "\n",
        "Sorce Code Here:\n",
        "\n",
        "- [`QueryEngineTool`](https://github.com/jerryjliu/llama_index/blob/d24767b0812ac56104497d8f59095eccbe9f2b08/llama_index/tools/query_engine.py#L13)"
      ]
    },
    {
      "cell_type": "markdown",
      "source": [
        "####🏗️ Activity #1:\n",
        "\n",
        "Please write a Natural Language Description for the tables that we are using today.\n",
        "\n",
        "Here is an example:\n",
        "\n",
        "```\n",
        "This tool should be used to answer any and all review related inquiries by translating a natural language query into a SQL query with access to tables:\n",
        "'Dune (2021 film)' - containing info. about the first movie in the Dune series,\n",
        "'Dune: Part Two'- containing info. about about the second movie in the Dune series,\n",
        "'The Lord of the Rings: The Fellowship of the Ring' - containing info. about the first movie in the Lord of the Ring series,\n",
        "'The Lord of the Rings: The Two Towers' - containing info. the second movie in the Lord of the Ring series,\n",
        "```"
      ],
      "metadata": {
        "id": "9sjbHnA1bQBG"
      }
    },
    {
      "cell_type": "code",
      "source": [
        "DESCRIPTION = \"\"\"\\\n",
        "This tool should be used to answer any and all review related inquiries by translating a natural language query into a SQL query with access to tables:\n",
        "'Dune (2021 film)' - containing info. about the first movie in the Dune series,\n",
        "'Dune: Part Two'- containing info. about about the second movie in the Dune series,\n",
        "'The Lord of the Rings: The Fellowship of the Ring' - containing info. about the first movie in the Lord of the Ring series,\n",
        "'The Lord of the Rings: The Two Towers' - containing info. the second movie in the Lord of the Ring series,\n",
        "\"\"\""
      ],
      "metadata": {
        "id": "4n567cXVVCtX"
      },
      "execution_count": 60,
      "outputs": []
    },
    {
      "cell_type": "code",
      "execution_count": 61,
      "metadata": {
        "id": "y-mmcBbLSWAD"
      },
      "outputs": [],
      "source": [
        "\n",
        "from llama_index.core.tools.query_engine import QueryEngineTool\n",
        "\n",
        "sql_tool = QueryEngineTool.from_defaults(\n",
        "    query_engine=sql_query_engine,\n",
        "    name=\"sql-query\",\n",
        "    description=DESCRIPTION,\n",
        ")"
      ]
    },
    {
      "cell_type": "code",
      "execution_count": 62,
      "metadata": {
        "id": "feOrlq4XSWAD"
      },
      "outputs": [],
      "source": [
        "agent_worker = FunctionCallingAgentWorker.from_tools(\n",
        "    tools=[sql_tool],\n",
        "    verbose=True\n",
        ")\n",
        "\n",
        "agent = agent_worker.as_agent()"
      ]
    },
    {
      "cell_type": "code",
      "execution_count": 63,
      "metadata": {
        "id": "iT4G6stBSWAD",
        "outputId": "b05cc3c4-ffcc-4a9f-8b03-0fefe6332dc2",
        "colab": {
          "base_uri": "https://localhost:8080/"
        }
      },
      "outputs": [
        {
          "output_type": "stream",
          "name": "stdout",
          "text": [
            "Added user message to memory: What is the average rating of the 2nd Lord of the Rings movie?\n",
            "=== Calling Function ===\n",
            "Calling function: sql-query with args: {\"input\": \"SELECT AVG(rating) as average_rating FROM 'The Lord of the Rings: The Two Towers'\"}\n",
            "=== Function Output ===\n",
            "The average rating for \"The Lord of the Rings: The Two Towers\" is approximately 9.18.\n"
          ]
        },
        {
          "output_type": "stream",
          "name": "stderr",
          "text": [
            "\u001b[34m\u001b[1mwandb\u001b[0m: Logged trace tree to W&B.\n"
          ]
        },
        {
          "output_type": "stream",
          "name": "stdout",
          "text": [
            "=== LLM Response ===\n",
            "The average rating for \"The Lord of the Rings: The Two Towers\" is approximately 9.18.\n"
          ]
        }
      ],
      "source": [
        "response = agent.chat(\"What is the average rating of the 2nd Lord of the Rings movie?\")"
      ]
    },
    {
      "cell_type": "code",
      "execution_count": 64,
      "metadata": {
        "id": "NhsoxOpkSWAD",
        "outputId": "4dc19c87-4eac-4700-debf-291e0dab5b1b",
        "colab": {
          "base_uri": "https://localhost:8080/"
        }
      },
      "outputs": [
        {
          "output_type": "stream",
          "name": "stdout",
          "text": [
            "The average rating for \"The Lord of the Rings: The Two Towers\" is approximately 9.18.\n"
          ]
        }
      ],
      "source": [
        "print(str(response))"
      ]
    },
    {
      "cell_type": "code",
      "source": [
        "response = agent.chat(\"What movie series has better reviews, Lord of the Rings or Dune?\")"
      ],
      "metadata": {
        "colab": {
          "base_uri": "https://localhost:8080/"
        },
        "id": "7FiAS6sF7DoJ",
        "outputId": "df040873-6a0f-430a-dd84-009d788c7e42"
      },
      "execution_count": 65,
      "outputs": [
        {
          "output_type": "stream",
          "name": "stdout",
          "text": [
            "Added user message to memory: What movie series has better reviews, Lord of the Rings or Dune?\n",
            "=== Calling Function ===\n",
            "Calling function: sql-query with args: {\"input\": \"SELECT AVG(rating) as average_rating FROM 'The Lord of the Rings: The Fellowship of the Ring'\"}\n",
            "=== Function Output ===\n",
            "The average rating for \"The Lord of the Rings: The Fellowship of the Ring\" is approximately 9.87.\n",
            "=== Calling Function ===\n",
            "Calling function: sql-query with args: {\"input\": \"SELECT AVG(rating) as average_rating FROM 'The Lord of the Rings: The Two Towers'\"}\n",
            "=== Function Output ===\n",
            "The average rating for \"The Lord of the Rings: The Two Towers\" is approximately 9.18.\n",
            "=== Calling Function ===\n",
            "Calling function: sql-query with args: {\"input\": \"SELECT AVG(rating) as average_rating FROM 'Dune (2021 film)'\"}\n",
            "=== Function Output ===\n",
            "The average rating for the film \"Dune\" (2021) is approximately 8.34.\n",
            "=== Calling Function ===\n",
            "Calling function: sql-query with args: {\"input\": \"SELECT AVG(rating) as average_rating FROM 'Dune: Part Two'\"}\n",
            "=== Function Output ===\n",
            "The average rating for \"Dune: Part Two\" is approximately 8.71.\n"
          ]
        },
        {
          "output_type": "stream",
          "name": "stderr",
          "text": [
            "\u001b[34m\u001b[1mwandb\u001b[0m: Logged trace tree to W&B.\n"
          ]
        },
        {
          "output_type": "stream",
          "name": "stdout",
          "text": [
            "=== LLM Response ===\n",
            "Here are the average ratings for the movies in each series:\n",
            "\n",
            "**Lord of the Rings:**\n",
            "- The Fellowship of the Ring: 9.87\n",
            "- The Two Towers: 9.18\n",
            "\n",
            "**Dune:**\n",
            "- Dune (2021): 8.34\n",
            "- Dune: Part Two: 8.71\n",
            "\n",
            "Based on these average ratings, the **Lord of the Rings** series has better reviews compared to the **Dune** series.\n"
          ]
        }
      ]
    },
    {
      "cell_type": "code",
      "source": [
        "print(str(response))"
      ],
      "metadata": {
        "colab": {
          "base_uri": "https://localhost:8080/"
        },
        "id": "qxDA2Gjm7dDZ",
        "outputId": "b50386cd-4abc-4b3b-d4d4-94fee351f42d"
      },
      "execution_count": 66,
      "outputs": [
        {
          "output_type": "stream",
          "name": "stdout",
          "text": [
            "Here are the average ratings for the movies in each series:\n",
            "\n",
            "**Lord of the Rings:**\n",
            "- The Fellowship of the Ring: 9.87\n",
            "- The Two Towers: 9.18\n",
            "\n",
            "**Dune:**\n",
            "- Dune (2021): 8.34\n",
            "- Dune: Part Two: 8.71\n",
            "\n",
            "Based on these average ratings, the **Lord of the Rings** series has better reviews compared to the **Dune** series.\n"
          ]
        }
      ]
    },
    {
      "cell_type": "markdown",
      "metadata": {
        "id": "-2LOixbcSWAD"
      },
      "source": [
        "### Task 2: Combined RAG Pipeline\n",
        "\n",
        "Now, we can simply add our tools into the `OpenAIAgent`, and off we go!"
      ]
    },
    {
      "cell_type": "code",
      "execution_count": 67,
      "metadata": {
        "id": "uxFHM2l2SWAD"
      },
      "outputs": [],
      "source": [
        "combined_tool_agent_worker = FunctionCallingAgentWorker.from_tools(\n",
        "    tools=[auto_retrieve_tool, sql_tool],\n",
        "    verbose=True\n",
        ")\n",
        "\n",
        "combined_tool_agent = combined_tool_agent_worker.as_agent()"
      ]
    },
    {
      "cell_type": "code",
      "execution_count": 68,
      "metadata": {
        "id": "mYVHuBf9SWAD",
        "outputId": "cad3a9dc-e77e-452b-b98c-0162c067a2e6",
        "colab": {
          "base_uri": "https://localhost:8080/"
        }
      },
      "outputs": [
        {
          "output_type": "stream",
          "name": "stdout",
          "text": [
            "Added user message to memory: Which movie is about a ring, and what is the average rating of the movie?\n",
            "=== Calling Function ===\n",
            "Calling function: semantic-film-info with args: {\"query\": \"movie about a ring\", \"filter_key_list\": [\"title\"], \"filter_value_list\": [\"The Lord of the Rings: The Fellowship of the Ring\", \"The Lord of the Rings: The Two Towers\"]}\n",
            "=== Function Output ===\n",
            "The movie is about the Dark Lord Sauron, who seeks the One Ring to return to power. The Ring has found its way to a young hobbit named Frodo Baggins. Frodo and eight companions, forming the Fellowship of the Ring, embark on a perilous journey to Mount Doom in Mordor, the only place where the Ring can be destroyed.\n",
            "=== Calling Function ===\n",
            "Calling function: sql-query with args: {\"input\": \"SELECT AVG(rating) as average_rating FROM \\\"The Lord of the Rings: The Fellowship of the Ring\\\"\"}\n",
            "=== Function Output ===\n",
            "The average rating for \"The Lord of the Rings: The Fellowship of the Ring\" is approximately 9.87.\n"
          ]
        },
        {
          "output_type": "stream",
          "name": "stderr",
          "text": [
            "\u001b[34m\u001b[1mwandb\u001b[0m: Logged trace tree to W&B.\n"
          ]
        },
        {
          "output_type": "stream",
          "name": "stdout",
          "text": [
            "=== LLM Response ===\n",
            "The movie about a ring is **\"The Lord of the Rings: The Fellowship of the Ring\"**. It tells the story of the Dark Lord Sauron, who seeks the One Ring to return to power. The Ring has found its way to a young hobbit named Frodo Baggins. Frodo and eight companions, forming the Fellowship of the Ring, embark on a perilous journey to Mount Doom in Mordor, the only place where the Ring can be destroyed.\n",
            "\n",
            "The average rating for **\"The Lord of the Rings: The Fellowship of the Ring\"** is approximately **9.87**.\n"
          ]
        }
      ],
      "source": [
        "response = combined_tool_agent.chat(\"Which movie is about a ring, and what is the average rating of the movie?\")"
      ]
    },
    {
      "cell_type": "code",
      "execution_count": 69,
      "metadata": {
        "id": "k0w0VbomSWAD",
        "outputId": "e3356259-089c-4947-a1e4-26ae52a8e177",
        "colab": {
          "base_uri": "https://localhost:8080/"
        }
      },
      "outputs": [
        {
          "output_type": "stream",
          "name": "stdout",
          "text": [
            "The movie about a ring is **\"The Lord of the Rings: The Fellowship of the Ring\"**. It tells the story of the Dark Lord Sauron, who seeks the One Ring to return to power. The Ring has found its way to a young hobbit named Frodo Baggins. Frodo and eight companions, forming the Fellowship of the Ring, embark on a perilous journey to Mount Doom in Mordor, the only place where the Ring can be destroyed.\n",
            "\n",
            "The average rating for **\"The Lord of the Rings: The Fellowship of the Ring\"** is approximately **9.87**.\n"
          ]
        }
      ],
      "source": [
        "print(str(response))"
      ]
    },
    {
      "cell_type": "code",
      "execution_count": 70,
      "metadata": {
        "id": "BJvN-vtJSWAD",
        "outputId": "36ed4a02-65dd-4eb8-c7f3-fc76a225e7ad",
        "colab": {
          "base_uri": "https://localhost:8080/"
        }
      },
      "outputs": [
        {
          "output_type": "stream",
          "name": "stdout",
          "text": [
            "Added user message to memory: What worlds do the LoTR, and Dune movies take place in?\n",
            "=== Calling Function ===\n",
            "Calling function: semantic-film-info with args: {\"query\": \"world where the movie takes place\", \"filter_key_list\": [\"title\"], \"filter_value_list\": [\"The Lord of the Rings: The Fellowship of the Ring\", \"The Lord of the Rings: The Two Towers\"]}\n",
            "=== Function Output ===\n",
            "The movie takes place in the fictional world of Middle-earth.\n",
            "=== Calling Function ===\n",
            "Calling function: semantic-film-info with args: {\"query\": \"world where the movie takes place\", \"filter_key_list\": [\"title\"], \"filter_value_list\": [\"Dune (2021 film)\", \"Dune: Part Two\"]}\n",
            "=== Function Output ===\n",
            "The movie takes place in a distant future where humanity has spread across the universe and settled on various planets. The primary settings include the desert planet Arrakis, known for its valuable spice melange; Caladan, the oceanic home planet of House Atreides; and Giedi Prime, the industrial home of House Harkonnen. The world is characterized by its intricate political, social, and ecological systems, with a strong emphasis on the struggle for control over the spice, which is essential for space travel and has various other significant properties.\n"
          ]
        },
        {
          "output_type": "stream",
          "name": "stderr",
          "text": [
            "\u001b[34m\u001b[1mwandb\u001b[0m: Logged trace tree to W&B.\n"
          ]
        },
        {
          "output_type": "stream",
          "name": "stdout",
          "text": [
            "=== LLM Response ===\n",
            "The **Lord of the Rings** movies take place in the fictional world of **Middle-earth**.\n",
            "\n",
            "The **Dune** movies take place in a distant future where humanity has spread across the universe and settled on various planets. The primary settings include:\n",
            "- The desert planet **Arrakis**, known for its valuable spice melange.\n",
            "- The oceanic home planet of House Atreides, **Caladan**.\n",
            "- The industrial home of House Harkonnen, **Giedi Prime**.\n",
            "\n",
            "The world of Dune is characterized by its intricate political, social, and ecological systems, with a strong emphasis on the struggle for control over the spice, which is essential for space travel and has various other significant properties.\n"
          ]
        }
      ],
      "source": [
        "response = combined_tool_agent.chat(\"What worlds do the LoTR, and Dune movies take place in?\")"
      ]
    },
    {
      "cell_type": "code",
      "execution_count": 71,
      "metadata": {
        "id": "F74wGv6NSWAD",
        "outputId": "8e034212-c983-49fd-9a38-84d31904df9c",
        "colab": {
          "base_uri": "https://localhost:8080/"
        }
      },
      "outputs": [
        {
          "output_type": "stream",
          "name": "stdout",
          "text": [
            "The **Lord of the Rings** movies take place in the fictional world of **Middle-earth**.\n",
            "\n",
            "The **Dune** movies take place in a distant future where humanity has spread across the universe and settled on various planets. The primary settings include:\n",
            "- The desert planet **Arrakis**, known for its valuable spice melange.\n",
            "- The oceanic home planet of House Atreides, **Caladan**.\n",
            "- The industrial home of House Harkonnen, **Giedi Prime**.\n",
            "\n",
            "The world of Dune is characterized by its intricate political, social, and ecological systems, with a strong emphasis on the struggle for control over the spice, which is essential for space travel and has various other significant properties.\n"
          ]
        }
      ],
      "source": [
        "print(str(response))"
      ]
    },
    {
      "cell_type": "code",
      "source": [
        "response = combined_tool_agent.chat(\"Which of the following movie series is considered the 'best': Dune, or Lord of the Rings? Base your answer on both reviews, and non-review information.\")"
      ],
      "metadata": {
        "colab": {
          "base_uri": "https://localhost:8080/"
        },
        "id": "Lvat4hmkvn3N",
        "outputId": "4fac2474-f0be-4168-90f2-52854537ce68"
      },
      "execution_count": 72,
      "outputs": [
        {
          "output_type": "stream",
          "name": "stdout",
          "text": [
            "Added user message to memory: Which of the following movie series is considered the 'best': Dune, or Lord of the Rings? Base your answer on both reviews, and non-review information.\n",
            "=== Calling Function ===\n",
            "Calling function: sql-query with args: {\"input\": \"SELECT AVG(rating) as average_rating FROM \\\"Dune (2021 film)\\\"\"}\n",
            "=== Function Output ===\n",
            "The average rating for the film \"Dune (2021)\" is approximately 8.34.\n",
            "=== Calling Function ===\n",
            "Calling function: sql-query with args: {\"input\": \"SELECT AVG(rating) as average_rating FROM \\\"Dune: Part Two\\\"\"}\n",
            "=== Function Output ===\n",
            "The average rating for \"Dune: Part Two\" is approximately 8.71.\n",
            "=== Calling Function ===\n",
            "Calling function: sql-query with args: {\"input\": \"SELECT AVG(rating) as average_rating FROM \\\"The Lord of the Rings: The Fellowship of the Ring\\\"\"}\n",
            "=== Function Output ===\n",
            "The average rating for \"The Lord of the Rings: The Fellowship of the Ring\" is approximately 9.87.\n",
            "=== Calling Function ===\n",
            "Calling function: sql-query with args: {\"input\": \"SELECT AVG(rating) as average_rating FROM \\\"The Lord of the Rings: The Two Towers\\\"\"}\n",
            "=== Function Output ===\n",
            "The average rating for \"The Lord of the Rings: The Two Towers\" is approximately 9.18.\n",
            "=== Calling Function ===\n",
            "Calling function: semantic-film-info with args: {\"query\": \"critical acclaim and awards\", \"filter_key_list\": [\"title\"], \"filter_value_list\": [\"Dune (2021 film)\", \"Dune: Part Two\", \"The Lord of the Rings: The Fellowship of the Ring\", \"The Lord of the Rings: The Two Towers\"]}\n",
            "=== Function Output ===\n",
            "The film \"Dune\" (2021) received generally positive critical acclaim, particularly for its ambition, story, scope, worldbuilding, performances (especially those of Timothée Chalamet and Rebecca Ferguson), and production values. Critics praised its writing, direction, cinematography, and score, although some noted issues with the runtime, pacing, and adaptation of the source material. The film holds an 83% approval rating on Rotten Tomatoes and a score of 74 out of 100 on Metacritic, indicating generally favorable reviews. Audience responses were also positive, with CinemaScore giving it an \"A−\" and PostTrak reporting an 84% positive score.\n"
          ]
        },
        {
          "output_type": "stream",
          "name": "stderr",
          "text": [
            "\u001b[34m\u001b[1mwandb\u001b[0m: Logged trace tree to W&B.\n"
          ]
        },
        {
          "output_type": "stream",
          "name": "stdout",
          "text": [
            "=== LLM Response ===\n",
            "### Reviews-Based Comparison\n",
            "\n",
            "**Dune Series:**\n",
            "- **Dune (2021)**: Average rating of approximately 8.34.\n",
            "- **Dune: Part Two**: Average rating of approximately 8.71.\n",
            "\n",
            "**Lord of the Rings Series:**\n",
            "- **The Lord of the Rings: The Fellowship of the Ring**: Average rating of approximately 9.87.\n",
            "- **The Lord of the Rings: The Two Towers**: Average rating of approximately 9.18.\n",
            "\n",
            "### Non-Review Information\n",
            "\n",
            "**Dune (2021)**:\n",
            "- Received generally positive critical acclaim.\n",
            "- Praised for its ambition, story, scope, worldbuilding, performances, and production values.\n",
            "- Holds an 83% approval rating on Rotten Tomatoes and a score of 74 out of 100 on Metacritic.\n",
            "- Audience responses were positive, with CinemaScore giving it an \"A−\" and PostTrak reporting an 84% positive score.\n",
            "\n",
            "**Lord of the Rings Series**:\n",
            "- Both movies in the series have higher average ratings compared to the Dune series.\n",
            "- The Lord of the Rings series is widely acclaimed for its storytelling, direction, visual effects, and performances.\n",
            "- The series has won numerous awards, including several Academy Awards.\n",
            "\n",
            "### Conclusion\n",
            "\n",
            "Based on both reviews and non-review information, the **Lord of the Rings** series is considered the 'best' compared to the **Dune** series. The Lord of the Rings movies have higher average ratings and have received significant critical acclaim and numerous awards.\n"
          ]
        }
      ]
    },
    {
      "cell_type": "code",
      "source": [
        "print(str(response))"
      ],
      "metadata": {
        "colab": {
          "base_uri": "https://localhost:8080/"
        },
        "id": "BEOpeuAovtZM",
        "outputId": "8f56d7d1-0460-492a-b41e-170e013f7d52"
      },
      "execution_count": 73,
      "outputs": [
        {
          "output_type": "stream",
          "name": "stdout",
          "text": [
            "### Reviews-Based Comparison\n",
            "\n",
            "**Dune Series:**\n",
            "- **Dune (2021)**: Average rating of approximately 8.34.\n",
            "- **Dune: Part Two**: Average rating of approximately 8.71.\n",
            "\n",
            "**Lord of the Rings Series:**\n",
            "- **The Lord of the Rings: The Fellowship of the Ring**: Average rating of approximately 9.87.\n",
            "- **The Lord of the Rings: The Two Towers**: Average rating of approximately 9.18.\n",
            "\n",
            "### Non-Review Information\n",
            "\n",
            "**Dune (2021)**:\n",
            "- Received generally positive critical acclaim.\n",
            "- Praised for its ambition, story, scope, worldbuilding, performances, and production values.\n",
            "- Holds an 83% approval rating on Rotten Tomatoes and a score of 74 out of 100 on Metacritic.\n",
            "- Audience responses were positive, with CinemaScore giving it an \"A−\" and PostTrak reporting an 84% positive score.\n",
            "\n",
            "**Lord of the Rings Series**:\n",
            "- Both movies in the series have higher average ratings compared to the Dune series.\n",
            "- The Lord of the Rings series is widely acclaimed for its storytelling, direction, visual effects, and performances.\n",
            "- The series has won numerous awards, including several Academy Awards.\n",
            "\n",
            "### Conclusion\n",
            "\n",
            "Based on both reviews and non-review information, the **Lord of the Rings** series is considered the 'best' compared to the **Dune** series. The Lord of the Rings movies have higher average ratings and have received significant critical acclaim and numerous awards.\n"
          ]
        }
      ]
    },
    {
      "cell_type": "markdown",
      "source": [
        "####❓ Question #4:\n",
        "\n",
        "How can you verify which tool was used for which query?"
      ],
      "metadata": {
        "id": "e1qaiDJYb1_v"
      }
    },
    {
      "cell_type": "markdown",
      "source": [
        "**ANSWER**\n",
        "When you run the method call, you can see after `Calling Function:` arguments like `semantic-film-info` which is an argument for `auto-retrieval_tool` and `sql-query` which is an argument for `sql_tool`."
      ],
      "metadata": {
        "id": "Sw9FLGbh_AQh"
      }
    },
    {
      "cell_type": "code",
      "execution_count": 74,
      "metadata": {
        "id": "D3ELqzOvSWAD"
      },
      "outputs": [],
      "source": [
        "wandb_callback.finish()"
      ]
    }
  ],
  "metadata": {
    "kernelspec": {
      "display_name": "Python 3",
      "language": "python",
      "name": "python3"
    },
    "language_info": {
      "codemirror_mode": {
        "name": "ipython",
        "version": 3
      },
      "file_extension": ".py",
      "mimetype": "text/x-python",
      "name": "python",
      "nbconvert_exporter": "python",
      "pygments_lexer": "ipython3",
      "version": "3.9.18"
    },
    "orig_nbformat": 4,
    "colab": {
      "provenance": [],
      "include_colab_link": true
    }
  },
  "nbformat": 4,
  "nbformat_minor": 0
}