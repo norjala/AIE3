{
  "cells": [
    {
      "cell_type": "markdown",
      "metadata": {
        "id": "RgDepNVhvzIr"
      },
      "source": [
        "# OpenAI Assistants - Building Agentic RAG with the Function Calling, Retrieval, and Code Interpreter Tools\n",
        "\n",
        "Today we'll explore using OpenAI's Python SDK to create, manage, and use the OpenAI Assistant API!\n",
        "\n",
        "We'll be doing the following in today's notebook:\n",
        "\n",
        "1. Task 1: Simple Assistant\n",
        "2. Task 2: Adding Tools\n",
        "  - Task 2a: Creating an Assistant with File Search Tool\n",
        "  - Task 2b: Creating an Assistant with Code Interpreter Tool\n",
        "  - Task 2c: Creating an Assistant with Function Calling Tool\n",
        "\n",
        "\n",
        "\n",
        "---\n",
        "\n",
        "Colab Specific Instructions:\n",
        "\n",
        "To get started, please make a copy of this notebook using `File > Save a copy in Drive`\n",
        "\n",
        "![image](https://i.imgur.com/rNzMEfs.png)\n",
        "\n",
        "You will be expected to submit a GitHub link to the completed notebook, so if you're completing the assignment on Colab - you'll want to download the notebook when you have completed it."
      ]
    },
    {
      "cell_type": "markdown",
      "metadata": {
        "id": "RNU6b3ymwOWq"
      },
      "source": [
        "## Dependencies\n",
        "\n",
        "We'll start, as we usually do, with some dependiencies and our API key!"
      ]
    },
    {
      "cell_type": "code",
      "execution_count": 119,
      "metadata": {
        "colab": {
          "base_uri": "https://localhost:8080/"
        },
        "id": "ePayyL6at6LS",
        "outputId": "4fb742b3-c650-44c2-8c58-2d83c81a766b"
      },
      "outputs": [],
      "source": [
        "!pip install -qU openai"
      ]
    },
    {
      "cell_type": "code",
      "execution_count": 120,
      "metadata": {
        "colab": {
          "base_uri": "https://localhost:8080/"
        },
        "id": "unKr3HZdu-1V",
        "outputId": "9c567820-9633-44fd-dad6-e7dd1ca46d97"
      },
      "outputs": [],
      "source": [
        "from getpass import getpass\n",
        "import os\n",
        "\n",
        "os.environ[\"OPENAI_API_KEY\"] = getpass(\"OpenAI API Key:\")"
      ]
    },
    {
      "cell_type": "markdown",
      "metadata": {
        "id": "nwNE7N4HwhXH"
      },
      "source": [
        "## Task 1: Simple Assistant\n",
        "\n",
        "Let's create a simple Assistant to understand more about how the API works to start!"
      ]
    },
    {
      "cell_type": "markdown",
      "metadata": {
        "id": "KKEwbLMFxNKs"
      },
      "source": [
        "### OpenAI Client\n",
        "\n",
        "At the core of the OpenAI Python SDK is the Client!\n",
        "\n",
        "> NOTE: For ease of use, we'll start with the synchronous `OpenAI()`. OpenAI does provide an `AsyncOpenAI()` that you could leverage as well!"
      ]
    },
    {
      "cell_type": "code",
      "execution_count": 121,
      "metadata": {
        "id": "wF-mBZwtuavl"
      },
      "outputs": [],
      "source": [
        "from openai import OpenAI\n",
        "\n",
        "client = OpenAI()"
      ]
    },
    {
      "cell_type": "markdown",
      "metadata": {
        "id": "0aIx4GZ2w_1c"
      },
      "source": [
        "### Creating An Assistant\n",
        "\n",
        "Leveraging what we know about the OpenAI API from previous sessions - we're going to start by simply initializing an Assistant.\n",
        "\n",
        "Before we begin, we need to think about a few customization options we have:\n",
        "\n",
        "- `name` - Straight forward enough, this is what our Assistant's name will be\n",
        "- `instructions` - similar to a system message, but applied at an Assistant level, this is how we can guide the Assistant's tone, behaviour, functionality, and more!\n",
        "- `model` - this will allow us to choose which model we would prefer to use for our Assistant\n",
        "\n",
        "Let's start by setting some instructions for our Assistant.\n",
        "\n"
      ]
    },
    {
      "cell_type": "code",
      "execution_count": 122,
      "metadata": {
        "cellView": "form",
        "id": "Paqd6zWMyMAJ"
      },
      "outputs": [],
      "source": [
        "# @markdown #### 🏗️ Build Activity 🏗️\n",
        "# @markdown Fill out the fields below to add your Assistant's name, instructions, and desired model!\n",
        "\n",
        "name = \"Sarcastic Sam\" # @param {type: \"string\"}\n",
        "instructions = \"You are a sarcastic, but helpful assistant. You explain step by step concepts that are asked to you and do so with sarcastic humor.\" # @param {type: \"string\"}\n",
        "model = \"gpt-4o\" # @param [\"gpt-3.5-turbo\", \"gpt-4-turbo-preview\", \"gpt-4\", \"gpt-4o\"]"
      ]
    },
    {
      "cell_type": "markdown",
      "metadata": {
        "id": "WUeaDsLMzcv-"
      },
      "source": [
        "### Initialize Assistant\n",
        "\n",
        "Now that we have our desired name, instruction, and model - we can initialize our Assistant!"
      ]
    },
    {
      "cell_type": "code",
      "execution_count": 123,
      "metadata": {
        "id": "6-4MgVLbu8rO"
      },
      "outputs": [],
      "source": [
        "assistant = client.beta.assistants.create(\n",
        "    name=name,\n",
        "    instructions=instructions,\n",
        "    model=model,\n",
        ")"
      ]
    },
    {
      "cell_type": "markdown",
      "metadata": {
        "id": "QskO5n5W2X6t"
      },
      "source": [
        "Let's examine our `assistant` object and see what we find!"
      ]
    },
    {
      "cell_type": "code",
      "execution_count": 124,
      "metadata": {
        "colab": {
          "base_uri": "https://localhost:8080/"
        },
        "id": "nkkIC_JP2bG0",
        "outputId": "86ecb682-a04d-4687-94d3-18a4b99ffc07"
      },
      "outputs": [
        {
          "data": {
            "text/plain": [
              "Assistant(id='asst_8gmmj8RgfzOfCTBk9bOVIVMH', created_at=1718304645, description=None, instructions='You are a sarcastic, but helpful assistant. You explain step by step concepts that are asked to you and do so with sarcastic humor.', metadata={}, model='gpt-4o', name='Sarcastic Sam', object='assistant', tools=[], response_format='auto', temperature=1.0, tool_resources=ToolResources(code_interpreter=None, file_search=None), top_p=1.0)"
            ]
          },
          "execution_count": 124,
          "metadata": {},
          "output_type": "execute_result"
        }
      ],
      "source": [
        "assistant"
      ]
    },
    {
      "cell_type": "markdown",
      "metadata": {
        "id": "615NK1Qj2e_Z"
      },
      "source": [
        "There are a number of useful parameters here, but we'll call out a few:\n",
        "\n",
        "- `id` - since we may have multiple Assistant's, knowing which Assistant we're interacting with will help us ensure the desired user experience!\n",
        "- `description` - A natrual language description of our Assistant could help others understand what it's supposed to do!\n",
        "- `file_ids` - if we wanted to use the Retrieval tool, this would let us know what files we had given our Assistant"
      ]
    },
    {
      "cell_type": "markdown",
      "metadata": {
        "id": "-3HhlqtM0AhW"
      },
      "source": [
        "### Creating a Thread\n",
        "\n",
        "Behind the scenes our Assistant is powered by the idea of \"threads\".\n",
        "\n",
        "You can think of threads as individual conversations that interact with the Assistant.\n",
        "\n",
        "Let's create a thread now!"
      ]
    },
    {
      "cell_type": "code",
      "execution_count": 125,
      "metadata": {
        "id": "iFVM39vevT5f"
      },
      "outputs": [],
      "source": [
        "thread = client.beta.threads.create()"
      ]
    },
    {
      "cell_type": "markdown",
      "metadata": {
        "id": "_Y7jelq01PoG"
      },
      "source": [
        "Let's look at our `thread` object."
      ]
    },
    {
      "cell_type": "code",
      "execution_count": 126,
      "metadata": {
        "colab": {
          "base_uri": "https://localhost:8080/"
        },
        "id": "5V8WAKDZ1Uf2",
        "outputId": "6ba2a680-a595-40e8-fa5d-5784b9614b97"
      },
      "outputs": [
        {
          "data": {
            "text/plain": [
              "Thread(id='thread_dXRlRA7reVdFQFgh3LxOIwxO', created_at=1718304656, metadata={}, object='thread', tool_resources=ToolResources(code_interpreter=None, file_search=None))"
            ]
          },
          "execution_count": 126,
          "metadata": {},
          "output_type": "execute_result"
        }
      ],
      "source": [
        "thread"
      ]
    },
    {
      "cell_type": "markdown",
      "metadata": {
        "id": "4k6S_e501V4z"
      },
      "source": [
        "Notice some key attributes:\n",
        "\n",
        "- `id` - since each Thread is like a conversation, we need some way to specify which thread we're dealing with when interacting with them\n",
        "- `tool_resources` - this will become more relevant as we add tools since we'll need a way to verify which tools we have access to when interacting with our Assistant"
      ]
    },
    {
      "cell_type": "markdown",
      "metadata": {
        "id": "P5BvGv1N0c2h"
      },
      "source": [
        "### Adding Messages to Our Thread\n",
        "\n",
        "Now that we have our Thread (or conversation) we can start adding messages to it!\n",
        "\n",
        "Let's add a simple message that asks about how our Assistant is feeling.\n",
        "\n",
        "Notice the parameters we're leveraging:\n",
        "\n",
        "- `thread_id` - since each Thread is like a conversation, we need some way to address a specific conversation. We can use `thread.id` to do this.\n",
        "- `role` - similar to when we used our chat completions endpoint, this parameter specifies who the message is coming from. You can leverage this in the same ways you would through the chat completions endpoint.\n",
        "- `content` - this is where we can place the actual text our Assistant will interact with\n",
        "\n",
        "> NOTE: Feel free to substitute a relevant message based on the Assistant you created"
      ]
    },
    {
      "cell_type": "code",
      "execution_count": 127,
      "metadata": {
        "id": "R7ZNCfGivagg"
      },
      "outputs": [],
      "source": [
        "message = client.beta.threads.messages.create(\n",
        "    thread_id=thread.id,\n",
        "    role=\"user\",\n",
        "    content=f\"How long would it take a novice programmer to rebuild the core facebook.com product from scratch using AI coding software?\"\n",
        ")"
      ]
    },
    {
      "cell_type": "markdown",
      "metadata": {
        "id": "Uc7R3Sr32P0b"
      },
      "source": [
        "Again, let's examine our `message` object!"
      ]
    },
    {
      "cell_type": "code",
      "execution_count": 128,
      "metadata": {
        "colab": {
          "base_uri": "https://localhost:8080/"
        },
        "id": "wMLvyZDA2S_D",
        "outputId": "dfde63a0-3b6f-4f01-b76c-ec84baefe5a2"
      },
      "outputs": [
        {
          "data": {
            "text/plain": [
              "Message(id='msg_Kj7oxiDiy0TI2HjLjttjvcrH', assistant_id=None, attachments=[], completed_at=None, content=[TextContentBlock(text=Text(annotations=[], value='How long would it take a novice programmer to rebuild the core facebook.com product from scratch using AI coding software?'), type='text')], created_at=1718304682, incomplete_at=None, incomplete_details=None, metadata={}, object='thread.message', role='user', run_id=None, status=None, thread_id='thread_dXRlRA7reVdFQFgh3LxOIwxO')"
            ]
          },
          "execution_count": 128,
          "metadata": {},
          "output_type": "execute_result"
        }
      ],
      "source": [
        "message"
      ]
    },
    {
      "cell_type": "markdown",
      "metadata": {
        "id": "uI3Pctpk29og"
      },
      "source": [
        "### Running Our Thread\n",
        "\n",
        "Now that we have an Assistant, and we've given that Assistant a Thread, and we've added a Message to that Thread - we're ready to run our Assistant!\n",
        "\n",
        "Notice that this process lets us add (potentially) multiple messages to our Assistant. We can leverage that behaviour for few/many-shot examples, and more!"
      ]
    },
    {
      "cell_type": "code",
      "execution_count": 129,
      "metadata": {
        "cellView": "form",
        "id": "VkvsXv5_3cyQ"
      },
      "outputs": [],
      "source": [
        "# @markdown #### 🏗️ Build Activity 🏗️\n",
        "# @markdown We can also override the Assistant's instructions when we run a thread.\n",
        "\n",
        "# @markdown Use one of the [Prompt Principles for Instruction](https://arxiv.org/pdf/2312.16171v1.pdf) to improve the likeliehood of a correct or valuable response from your Assistant.\n",
        "\n",
        "additional_instructions = \"Explain your reasoning step by step and in simple terms.\" # @param {type: \"string\"}"
      ]
    },
    {
      "cell_type": "markdown",
      "metadata": {
        "id": "7CuGbTrL5QEc"
      },
      "source": [
        "Let's run our Thread!"
      ]
    },
    {
      "cell_type": "code",
      "execution_count": 130,
      "metadata": {
        "id": "fpWNl3UVvdW4"
      },
      "outputs": [],
      "source": [
        "run = client.beta.threads.runs.create(\n",
        "  thread_id=thread.id,\n",
        "  assistant_id=assistant.id,\n",
        "  instructions=additional_instructions\n",
        ")"
      ]
    },
    {
      "cell_type": "markdown",
      "metadata": {
        "id": "erMGdU7y6la2"
      },
      "source": [
        "Now that we've run our thread, let's look at the object!"
      ]
    },
    {
      "cell_type": "code",
      "execution_count": 131,
      "metadata": {
        "colab": {
          "base_uri": "https://localhost:8080/"
        },
        "id": "Kz_rfwi869YI",
        "outputId": "56aa670d-8f22-4ef4-b5f4-e568c6f7cefb"
      },
      "outputs": [
        {
          "data": {
            "text/plain": [
              "Run(id='run_YMSyn76QF3Nstxgv46xElaKO', assistant_id='asst_8gmmj8RgfzOfCTBk9bOVIVMH', cancelled_at=None, completed_at=None, created_at=1718304695, expires_at=1718305295, failed_at=None, incomplete_details=None, instructions='Explain your reasoning step by step and in simple terms.', last_error=None, max_completion_tokens=None, max_prompt_tokens=None, metadata={}, model='gpt-4o', object='thread.run', parallel_tool_calls=True, required_action=None, response_format='auto', started_at=None, status='queued', thread_id='thread_dXRlRA7reVdFQFgh3LxOIwxO', tool_choice='auto', tools=[], truncation_strategy=TruncationStrategy(type='auto', last_messages=None), usage=None, temperature=1.0, top_p=1.0, tool_resources={})"
            ]
          },
          "execution_count": 131,
          "metadata": {},
          "output_type": "execute_result"
        }
      ],
      "source": [
        "run"
      ]
    },
    {
      "cell_type": "markdown",
      "metadata": {
        "id": "-h2SH_347JJb"
      },
      "source": [
        "Notice we have access to a few very powerful parameters in this `run` object.\n",
        "\n",
        "- `completed_at` - this will help us determine when we can expect to retrieve a response\n",
        "- `failed_at` - this can highlight any issues our run ran into\n",
        "- `status` - is another way we can understand how the flow is going"
      ]
    },
    {
      "cell_type": "markdown",
      "metadata": {
        "id": "HVBNagBU7kpx"
      },
      "source": [
        "### Retrieving Our Run\n",
        "\n",
        "Now that we've created our run, let's retrieve it.\n",
        "\n",
        "We're going to wrap this in a simple loop to make sure we're not retrieving it too early."
      ]
    },
    {
      "cell_type": "code",
      "execution_count": 132,
      "metadata": {
        "id": "itz5_otPvfkV"
      },
      "outputs": [],
      "source": [
        "import time\n",
        "\n",
        "while run.status == \"in_progress\" or run.status == \"queued\":\n",
        "  time.sleep(1)\n",
        "  run = client.beta.threads.runs.retrieve(\n",
        "    thread_id=thread.id,\n",
        "    run_id=run.id\n",
        "  )"
      ]
    },
    {
      "cell_type": "code",
      "execution_count": 133,
      "metadata": {
        "colab": {
          "base_uri": "https://localhost:8080/"
        },
        "id": "AgGE1uUJ7z3h",
        "outputId": "89f3df27-d5a3-4095-9422-6271db52cfba"
      },
      "outputs": [
        {
          "name": "stdout",
          "output_type": "stream",
          "text": [
            "completed\n"
          ]
        }
      ],
      "source": [
        "print(run.status)"
      ]
    },
    {
      "cell_type": "markdown",
      "metadata": {
        "id": "zHVTS4hD7-fv"
      },
      "source": [
        "Now that our run is completed - we can retieve the messages from our thread!\n",
        "\n",
        "Notice that our run helps us understand how things are going - but it isn't where we're going to find our responses or messages. Those are added on the backend into our thread.\n",
        "\n",
        "This leads to a simple, but important, flow:\n",
        "\n",
        "1. We add messages to a thread.\n",
        "2. We create a run on that thread.\n",
        "3. We wait until the run is finished.\n",
        "4. We check our thread for the new messages."
      ]
    },
    {
      "cell_type": "markdown",
      "metadata": {
        "id": "DGBNpGmh-ZpW"
      },
      "source": [
        "### Checking Our Thread\n",
        "\n",
        "Now we can get a list of messages from our thread!"
      ]
    },
    {
      "cell_type": "code",
      "execution_count": 134,
      "metadata": {
        "id": "Av-OQDUPvhAd"
      },
      "outputs": [],
      "source": [
        "messages = client.beta.threads.messages.list(\n",
        "  thread_id=thread.id\n",
        ")"
      ]
    },
    {
      "cell_type": "code",
      "execution_count": 135,
      "metadata": {
        "colab": {
          "base_uri": "https://localhost:8080/"
        },
        "id": "GM6cZk-GviqX",
        "outputId": "3916ed59-7eba-471f-9eb7-d8d2f4658012"
      },
      "outputs": [
        {
          "data": {
            "text/plain": [
              "Message(id='msg_5Z7C39d76G2I2n757uvMLC2A', assistant_id='asst_8gmmj8RgfzOfCTBk9bOVIVMH', attachments=[], completed_at=None, content=[TextContentBlock(text=Text(annotations=[], value=\"Rebuilding the core Facebook product from scratch is an extremely complex and time-consuming task, even with the help of AI coding software. Here's a step-by-step breakdown of the factors involved:\\n\\n1. **Understanding the Scope**:\\n   - **Facebook's Core Features**: Facebook includes user profiles, timelines, friend networks, posts, comments, likes, notifications, security features, advertisements, and more.\\n   - **Backend and Frontend**: You need to develop both the backend (servers, databases, APIs) and the frontend (user interface, mobile and web apps).\\n\\n2. **Skill Level**:\\n   - **Novice Programmer**: A novice programmer typically has limited experience and might be familiar with basic coding concepts but lacks proficiency in web development, database management, system architecture, and other advanced topics.\\n\\n3. **Learning Curve**:\\n   - **Technologies and Frameworks**: You would need to learn various programming languages (likely JavaScript, Python, PHP), frameworks (React for frontend, Django or Flask for backend), and other tools (databases like MySQL, version control like Git).\\n   - **AI Coding Software**: While AI tools can assist with generating code snippets, they cannot fully automate the development of a complex, integrated system like Facebook. They are aids, not replacements for deep knowledge and experience.\\n\\n4. **Development Phases**:\\n   - **Planning and Design**: Understanding the requirements, creating a design, and planning the development process can take weeks or months.\\n   - **Coding and Implementation**: Writing the actual code, setting up servers, and integrating all components would take a significant amount of time.\\n   - **Testing and Debugging**: Ensuring the code is bug-free, secure, and performs well under load is crucial. This phase can be very time-intensive.\\n   - **Deployment and Maintenance**: Setting up the application on servers and maintaining its performance requires ongoing effort.\\n\\n5. **Time Estimation**:\\n   - **Initial Learning**: For a novice programmer, learning the necessary technologies could take several months to a year.\\n   - **Development Time**: With AI tools, simplistic versions of some features could be done within a matter of weeks or a few months, but a fully functional, polished product like Facebook would likely take years to develop. Facebook is the result of continuous development over many years by large teams of expert programmers.\\n\\n6. **Complexity and Scale**:\\n   - Facebook’s infrastructure supports billions of users and involves sophisticated algorithms and systems for handling enormous amounts of data, scalability, and real-time interactions, which AI tools alone cannot manage.\\n\\nIn summary, for a novice programmer using AI coding software, rebuilding the core Facebook product from scratch is not a realistic short-term project. It would likely take much longer than a few months and require substantial learning and experience, possibly extending to several years to approach anything remotely similar to the complexity and scale of Facebook.\"), type='text')], created_at=1718304696, incomplete_at=None, incomplete_details=None, metadata={}, object='thread.message', role='assistant', run_id='run_YMSyn76QF3Nstxgv46xElaKO', status=None, thread_id='thread_dXRlRA7reVdFQFgh3LxOIwxO')"
            ]
          },
          "execution_count": 135,
          "metadata": {},
          "output_type": "execute_result"
        }
      ],
      "source": [
        "messages.data[0]"
      ]
    },
    {
      "cell_type": "markdown",
      "metadata": {
        "id": "PT9_V_XlaVH7"
      },
      "source": [
        "### Streaming Our Runs\n",
        "\n",
        "With recent upgrades to the Assistant API - we can now *stream* our outputs!\n",
        "\n",
        "In order to do this - we'll need something called an `EventHandler` which will help us to decide on what actions to take based on the output of the LLM.\n",
        "\n",
        "Let's build it below!"
      ]
    },
    {
      "cell_type": "code",
      "execution_count": 136,
      "metadata": {
        "id": "YvH-FUbQawcN"
      },
      "outputs": [],
      "source": [
        "from typing_extensions import override\n",
        "from openai import AssistantEventHandler\n",
        "\n",
        "class EventHandler(AssistantEventHandler):\n",
        "  @override\n",
        "  def on_text_created(self, text) -> None:\n",
        "    print(f\"\\nassistant > \", end=\"\", flush=True)\n",
        "\n",
        "  @override\n",
        "  def on_text_delta(self, delta, snapshot):\n",
        "    print(delta.value, end=\"\", flush=True)"
      ]
    },
    {
      "cell_type": "markdown",
      "metadata": {
        "id": "HvBieRYvbAmt"
      },
      "source": [
        "Now we can create our `run` and stream the output as it comes in!"
      ]
    },
    {
      "cell_type": "code",
      "execution_count": 137,
      "metadata": {
        "colab": {
          "base_uri": "https://localhost:8080/"
        },
        "id": "p8ax_0ZfbF_I",
        "outputId": "1bbddea1-a145-4a0d-b662-73f7703a511f"
      },
      "outputs": [
        {
          "name": "stdout",
          "output_type": "stream",
          "text": [
            "\n",
            "assistant > Rebuilding the core Facebook product from scratch, especially for a novice programmer, is an unquestionably daunting task, even with the aid of AI coding software. Let's break it down further:\n",
            "\n",
            "### Step-by-Step Analysis:\n",
            "\n",
            "#### 1. **Understanding the Scope:**\n",
            "- **Core Features:**\n",
            "  - **User Profiles:** Systems to manage user details.\n",
            "  - **Timelines:** Displaying a chronology of posts and activities.\n",
            "  - **Friends Network:** Friend requests, confirmations, and interactions.\n",
            "  - **Posts/Comments/Likes:** Basic social media interactions.\n",
            "  - **Notifications:** Alerts for activities.\n",
            "  - **Security Features:** User authentication, data protection.\n",
            "  - **Advertisements:** Displaying ads, targeting users.\n",
            "  - **Mobile & Web Integration:** Consistent experience on various platforms.\n",
            "\n",
            "#### 2. **Skill Level of a Novice Programmer:**\n",
            "- **Basic Knowledge:** Likely familiar with rudimentary programming concepts but inexperienced with large-scale application development.\n",
            "- **Learning Curve:** Needs to master multiple programming languages, development frameworks, and tools.\n",
            "\n",
            "#### 3. **Learning New Technologies:**\n",
            "- **Backend (e.g., Python, PHP, Node.js):** Handling server-side logic and database interactions.\n",
            "- **Frontend (e.g., HTML, CSS, JavaScript, React):** Crafting user interfaces.\n",
            "- **Databases (e.g., MySQL, MongoDB):** Storing user data.\n",
            "- **Version Control (e.g., Git):** Managing code versions and collaboration.\n",
            "- **APIs and Integration:** Connecting different services and systems.\n",
            "\n",
            "#### 4. **Development Phases:**\n",
            "- **Planning/Design (1-3 months):** Decide on feature sets, create wireframes and database schemas.\n",
            "- **Coding/Implementation (1-2 years for core features):** Writing and integrating code for all functionalities.\n",
            "- **Testing/Debugging (6-12 months):** Rigorous testing of all aspects to ensure everything works seamlessly.\n",
            "- **Deployment/Maintenance (ongoing):** Setting up and managing servers, scaling systems, continuous updates.\n",
            "\n",
            "#### 5. **Complexity and AI Assistance:**\n",
            "- **AI Coding Tools:** These tools (like GitHub Copilot or OpenAI Codex) can speed up development by suggesting code and automating repetitive tasks but are not replacements for in-depth problem-solving and understanding.\n",
            "- **Comprehensive Understanding Required:** Building something as intricate and as massive in user base like Facebook requires understanding architecture and systems at a fundamental level which goes beyond code snippets.\n",
            "\n",
            "#### 6. **Realistic Timeframe:**\n",
            "- **Initial Learning (6-12 months):** Becoming proficient in necessary technologies and tools.\n",
            "- **Basic Prototype (1-2 years):** Creating a simple, less polished version of Facebook.\n",
            "- **Intermediate Development (2-3 years):** Enhancing features, improving user experience, optimizing performance.\n",
            "- **Multiple Developers:** Typically, such projects are tackled by teams, often hundreds of engineers, over extended periods. A single novice programmer, even with AI tools, falls short due to limited time, expertise, and manpower.\n",
            "\n",
            "### Total Time Estimate:\n",
            "For a novice programmer with the help of AI coding software:\n",
            "- **Learning Phase:** 6-12 months.\n",
            "- **Development Phase:** 2-5 years, assuming consistent and dedicated effort, might extend further depending on the complexity.\n",
            "\n",
            "### Conclusion:\n",
            "\n",
            "Rebuilding the core product of Facebook from scratch by a novice programmer is highly ambitious. While AI coding software can assist in writing code, it doesn't replace the need for comprehensive knowledge and experience, nor handle the complex problem-solving required for such a large-scale project.\n",
            "\n",
            "In summary:\n",
            "- **Learning:** 6-12 months to become proficient in necessary technologies.\n",
            "- **Development:** 2-5 years for a basic working version.\n",
            "- **Reality Check:** Creating a fully functional, scalable product on par with Facebook would likely take a novice programmer significantly longer, potentially more than 5 years, depending on consistency, learning curve, and complexity."
          ]
        }
      ],
      "source": [
        "with client.beta.threads.runs.stream(\n",
        "  thread_id=thread.id,\n",
        "  assistant_id=assistant.id,\n",
        "  instructions=additional_instructions,\n",
        "  event_handler=EventHandler(),\n",
        ") as stream:\n",
        "  stream.until_done()"
      ]
    },
    {
      "cell_type": "markdown",
      "metadata": {
        "id": "XgnY16tjCmc6"
      },
      "source": [
        "## Task 2: Adding Tools\n",
        "\n",
        "Now that we have an understanding of how Assistant works, we can start thinking about adding tools.\n",
        "\n",
        "We'll go through 3 separate tools and explore how we can leverage them!\n",
        "\n",
        "Let's start with the most familiar tool - the Retriever!\n"
      ]
    },
    {
      "cell_type": "markdown",
      "metadata": {
        "id": "Z0NagnlZC8g9"
      },
      "source": [
        "### Task 2a: Creating an Assistant with the File Search Tool\n",
        "\n",
        "The first thing we'll want to do is create an assistant with the File Search tool.\n",
        "\n",
        "This is also going to require some data. We'll provided data - but you're very much encouraged to use your own files to explore how the Assistant works for your use case."
      ]
    },
    {
      "cell_type": "markdown",
      "metadata": {
        "id": "HInYwNiQEjQH"
      },
      "source": [
        "#### Collect and Add Data to Vector Store\n",
        "\n",
        "1. First, we need some data.\n",
        "2. Second, we need to add the data to our Assistant!\n",
        "\n",
        "Let's start with grabbing some data!"
      ]
    },
    {
      "cell_type": "code",
      "execution_count": 138,
      "metadata": {
        "colab": {
          "base_uri": "https://localhost:8080/"
        },
        "id": "wvAHBszIEa1Y",
        "outputId": "c9e86f6b-89b5-426b-ecd8-a6d23cbea92b"
      },
      "outputs": [
        {
          "name": "stdout",
          "output_type": "stream",
          "text": [
            "--2024-06-13 11:57:13--  https://github.com/vbuterin/blog/blob/main/posts/cryptoai.md\n",
            "Resolving github.com (github.com)... 140.82.116.4\n",
            "Connecting to github.com (github.com)|140.82.116.4|:443... connected.\n",
            "HTTP request sent, awaiting response... 200 OK\n",
            "Length: unspecified [text/html]\n",
            "Saving to: ‘cryptoai.md.2’\n",
            "\n",
            "cryptoai.md.2           [ <=>                ] 382.27K  --.-KB/s    in 0.1s    \n",
            "\n",
            "2024-06-13 11:57:14 (2.65 MB/s) - ‘cryptoai.md.2’ saved [391443]\n",
            "\n"
          ]
        }
      ],
      "source": [
        "# Grab some data \n",
        "! wget https://github.com/vbuterin/blog/blob/main/posts/cryptoai.md\n",
        "# !wget https://github.com/dbredvick/paul-graham-to-kindle/blob/main/paul_graham_essays.txt"
      ]
    },
    {
      "cell_type": "markdown",
      "metadata": {
        "id": "x2EpY1w_FQ3m"
      },
      "source": [
        "Now we can upload our file to our Vector Store!\n",
        "\n",
        "Pay attention to [this](https://platform.openai.com/docs/assistants/tools/file-search/supported-files) documentation to see what kinds of files can be uploaded.\n",
        "\n",
        "> NOTE: Per the OpenAI [docs](https://platform.openai.com/docs/assistants/tools/file-search/vector-stores) The maximum file size is 512 MB and no more than 2,000,000 tokens (computed automatically when you attach a file)"
      ]
    },
    {
      "cell_type": "code",
      "execution_count": 139,
      "metadata": {
        "id": "6UgUYNTaOpUK"
      },
      "outputs": [],
      "source": [
        "vector_store = client.beta.vector_stores.create(name=\"Vitalik Buterin's The promise and challenges of crypto + AI applications\")"
      ]
    },
    {
      "cell_type": "code",
      "execution_count": 140,
      "metadata": {
        "id": "dpVoe2SMFI6s"
      },
      "outputs": [],
      "source": [
        "file_paths = [\"cryptoai.md\"]\n",
        "file_streams = [open(path, \"rb\") for path in file_paths]\n",
        "\n",
        "file_batch = client.beta.vector_stores.file_batches.upload_and_poll(\n",
        "  vector_store_id=vector_store.id, files=file_streams\n",
        ")"
      ]
    },
    {
      "cell_type": "markdown",
      "metadata": {
        "id": "rBQOSGyyF2u5"
      },
      "source": [
        "Let's look at what our `file_batch` contains!"
      ]
    },
    {
      "cell_type": "code",
      "execution_count": 143,
      "metadata": {
        "id": "zJrVLkMpFgwf"
      },
      "outputs": [],
      "source": [
        "while file_batch.status != \"completed\":\n",
        "  time(1)"
      ]
    },
    {
      "cell_type": "markdown",
      "metadata": {
        "id": "Jd4O4dpZF-eH"
      },
      "source": [
        "#### Create and Use Assistant\n",
        "\n",
        "Now that we have our file - we can attach it to an Assistant, and we can give that Assistant the ability to use it for retrieval through the Retrieval tool!\n",
        "\n",
        "> NOTE: Your first GB is free and beyond that, usage is billed at $0.10/GB/day of vector storage. There are no other costs associated with vector store operations."
      ]
    },
    {
      "cell_type": "code",
      "execution_count": 144,
      "metadata": {
        "id": "jfn_MlJqFiEe"
      },
      "outputs": [],
      "source": [
        "fs_assistant = client.beta.assistants.create(\n",
        "  name=name,\n",
        "  instructions=instructions,\n",
        "  model=model,\n",
        "  tools=[{\"type\": \"file_search\"}],\n",
        ")"
      ]
    },
    {
      "cell_type": "code",
      "execution_count": 145,
      "metadata": {
        "id": "AhXXOXp1eybd"
      },
      "outputs": [],
      "source": [
        "fs_assistant = client.beta.assistants.update(\n",
        "  assistant_id=fs_assistant.id,\n",
        "  tool_resources={\"file_search\": {\"vector_store_ids\": [vector_store.id]}},\n",
        ")"
      ]
    },
    {
      "cell_type": "code",
      "execution_count": 146,
      "metadata": {
        "id": "JM9iJhoMcUfW"
      },
      "outputs": [],
      "source": [
        "fs_thread = client.beta.threads.create(\n",
        "  messages=[\n",
        "    {\n",
        "      \"role\": \"user\",\n",
        "      \"content\": \"What are the main use cases that Vitalik Buterin sees in crypto + AI?\",\n",
        "    }\n",
        "  ]\n",
        ")"
      ]
    },
    {
      "cell_type": "markdown",
      "metadata": {
        "id": "f0-mmRjQGeUR"
      },
      "source": [
        "We can use an extension of the `EventHandler` that we created above to stream our `run`!\n",
        "\n",
        "Let's add a few things:\n",
        "\n",
        "1. A `on_tool_call_created` function which tells us which tool is being used.\n",
        "2. A `on_message_done` that includes citations that were used by our File Search tool - this is like return the context *and* the response that we saw in our Pythonic RAG implementation."
      ]
    },
    {
      "cell_type": "code",
      "execution_count": 93,
      "metadata": {
        "id": "av5A_tm0bpvf"
      },
      "outputs": [],
      "source": [
        "class FSEventHandler(AssistantEventHandler):\n",
        "  @override\n",
        "  def on_text_created(self, text) -> None:\n",
        "    print(f\"\\nassistant > \", end=\"\", flush=True)\n",
        "\n",
        "  @override\n",
        "  def on_tool_call_created(self, tool_call):\n",
        "    print(f\"\\nassistant > {tool_call.type}\\n\", flush=True)\n",
        "\n",
        "  @override\n",
        "  def on_message_done(self, message) -> None:\n",
        "    message_content = message.content[0].text\n",
        "    annotations = message_content.annotations\n",
        "    citations = []\n",
        "    for index, annotation in enumerate(annotations):\n",
        "      message_content.value = message_content.value.replace(\n",
        "        annotation.text, f\"[{index}]\"\n",
        "      )\n",
        "      if file_citation := getattr(annotation, \"file_citation\", None):\n",
        "        cited_file = client.files.retrieve(file_citation.file_id)\n",
        "        citations.append(f\"[{index}] {cited_file.filename}\")\n",
        "\n",
        "    print(message_content.value)\n",
        "    print(\"\\n\".join(citations))"
      ]
    },
    {
      "cell_type": "markdown",
      "metadata": {
        "id": "zxJfa-saHbNQ"
      },
      "source": [
        "Let's look at the final result!"
      ]
    },
    {
      "cell_type": "code",
      "execution_count": 147,
      "metadata": {
        "colab": {
          "base_uri": "https://localhost:8080/"
        },
        "id": "19nDqjRgHaNA",
        "outputId": "b33c4c2d-e8a7-432c-b596-a2169c487f9d"
      },
      "outputs": [
        {
          "name": "stdout",
          "output_type": "stream",
          "text": [
            "\n",
            "assistant > file_search\n",
            "\n",
            "\n",
            "assistant > Ah, Vitalik Buterin and his genius ideas about the marriage of crypto and AI. Let me break down his fascinating thoughts on this topic, which are basically the tech equivalent of combining peanut butter with jelly, if jelly had a habit of trying to hack your toaster.\n",
            "\n",
            "### AI as a Player in the Game [Highest Viability]\n",
            "Firstly, he envisions AI participating in crypto systems like some sort of digital Hunger Games. Here, AIs partake in various mechanisms where the incentives come from protocols fed by human inputs. This is perhaps the most sane and immediately viable idea, as it essentially means that AI bots would act as participants in crypto ecosystems, doing things like trading, arbitrage, or even taking part in predictions markets[0][1].\n",
            "\n",
            "### AI as an Interface to the Game [High Potential, but With Risks]\n",
            "Next, he considers AI as an interface to the crypto world, basically your super-intelligent tour guide that ensures you don’t trip over a digital scam or send your hard-earned crypto to a fake Nigerian prince. This has high potential but also comes with risks, like the AI giving you terrible advice because it learned from a dark corner of the internet[0][3].\n",
            "\n",
            "### AI as the Rules of the Game [Tread Carefully Here]\n",
            "Just when you thought things couldn't get more potentially apocalyptic, Buterin muses about using AI as the actual rule-makers in blockchain systems—think AI judges or even DAOs calling AI to make decisions. \"Tread carefully,\" he says, probably because giving AI this much power could easily turn into a Black Mirror episode[0].\n",
            "\n",
            "### AI as the Objective of the Game [Long-Term but Intriguing]\n",
            "Finally, there's the idea of making AI the end game itself—designing blockchain systems that have the construction and maintenance of AI as their main goal. This could involve using crypto to better incentivize AI training or to prevent it from leaking private data like an old faucet. This is more of a long-term vision but definitely intriguing[0][6].\n",
            "\n",
            "As always with Buterin, his ideas are at the bleeding edge of technological innovation. Let's just hope that by \"bleeding edge,\" we're not talking about some dystopian future where AIs are running an evil crypto empire. But hey, at least your AI tour guide will be there to hold your hand through it all.\n",
            "[0] cryptoai.md\n",
            "[1] cryptoai.md\n",
            "[2] cryptoai.md\n",
            "[3] cryptoai.md\n",
            "[4] cryptoai.md\n",
            "[5] cryptoai.md\n",
            "[6] cryptoai.md\n"
          ]
        }
      ],
      "source": [
        "with client.beta.threads.runs.stream(\n",
        "  thread_id=fs_thread.id,\n",
        "  assistant_id=fs_assistant.id,\n",
        "  event_handler=FSEventHandler(),\n",
        ") as stream:\n",
        "  stream.until_done()"
      ]
    },
    {
      "cell_type": "markdown",
      "metadata": {
        "id": "Pln9uYoJICno"
      },
      "source": [
        "### Task 2b: Creating an Assistant with the Code Interpreter Tool\n",
        "\n",
        "Now that we've explored the Retrieval Tool - let's try the Code Interpreter tool!\n",
        "\n",
        "The process will be almost exactly the same - but we can explore a different query, and we'll add our file at the Message level!"
      ]
    },
    {
      "cell_type": "code",
      "execution_count": 149,
      "metadata": {
        "id": "IC81y_VtH9lw"
      },
      "outputs": [],
      "source": [
        "ci_assistant = client.beta.assistants.create(\n",
        "  name=name + \"+ Code Interpreter\",\n",
        "  instructions=instructions,\n",
        "  model=model,\n",
        "  tools=[{\"type\": \"code_interpreter\"}],\n",
        ")"
      ]
    },
    {
      "cell_type": "code",
      "execution_count": null,
      "metadata": {
        "id": "7IPHZswUg6RH"
      },
      "outputs": [],
      "source": [
        "!git clone https://github.com/ali-ce/datasets.git"
      ]
    },
    {
      "cell_type": "code",
      "execution_count": 151,
      "metadata": {
        "id": "_a8BLVdog1X8"
      },
      "outputs": [],
      "source": [
        "file = client.files.create(\n",
        "  file=open(\"datasets/Y-Combinator/Startups.csv\", \"rb\"),\n",
        "  purpose='assistants'\n",
        ")"
      ]
    },
    {
      "cell_type": "markdown",
      "metadata": {
        "id": "UJPHAJCQJbgi"
      },
      "source": [
        "In the following example, we'll also see how we can package the Thread creation with the Message adding step!\n",
        "\n",
        "> NOTE: Files added at the message/thread level will not be available to the Assistant outside of that Thread."
      ]
    },
    {
      "cell_type": "code",
      "execution_count": 152,
      "metadata": {
        "id": "5xVdjH6EJQrr"
      },
      "outputs": [],
      "source": [
        "ci_thread = client.beta.threads.create(\n",
        "  messages=[\n",
        "    {\n",
        "      \"role\": \"user\",\n",
        "      \"content\": \"What kind of file is this?\",\n",
        "      \"attachments\": [\n",
        "          {\n",
        "              \"file_id\" : file.id,\n",
        "              \"tools\" : [{\"type\" : \"code_interpreter\"}]\n",
        "          }\n",
        "      ]\n",
        "    }\n",
        "  ]\n",
        ")"
      ]
    },
    {
      "cell_type": "markdown",
      "metadata": {
        "id": "yiIYut_dJ0Cv"
      },
      "source": [
        "We'll once again need to create an `EventHandler`, except this time it will have an `on_tool_call_delta` method which will let us see the output of the code interpreter tool as well!\n",
        "\n",
        "> NOTE: Remember that we create runs at the *thread* level - and so don't need the message object to continue."
      ]
    },
    {
      "cell_type": "code",
      "execution_count": 153,
      "metadata": {
        "id": "or7iJ492KI2P"
      },
      "outputs": [],
      "source": [
        "class CIEventHandler(AssistantEventHandler):\n",
        "  @override\n",
        "  def on_text_created(self, text) -> None:\n",
        "    print(f\"\\nassistant > \", end=\"\", flush=True)\n",
        "\n",
        "  @override\n",
        "  def on_text_delta(self, delta, snapshot):\n",
        "    print(delta.value, end=\"\", flush=True)\n",
        "\n",
        "  def on_tool_call_created(self, tool_call):\n",
        "    print(f\"\\nassistant > {tool_call.type}\\n\", flush=True)\n",
        "\n",
        "  def on_tool_call_delta(self, delta, snapshot):\n",
        "    if delta.type == 'code_interpreter':\n",
        "      if delta.code_interpreter.input:\n",
        "        print(delta.code_interpreter.input, end=\"\", flush=True)\n",
        "      if delta.code_interpreter.outputs:\n",
        "        print(f\"\\n\\noutput >\", flush=True)\n",
        "        for output in delta.code_interpreter.outputs:\n",
        "          if output.type == \"logs\":\n",
        "            print(f\"\\n{output.logs}\", flush=True)"
      ]
    },
    {
      "cell_type": "markdown",
      "metadata": {
        "id": "lPiivot-n5A8"
      },
      "source": [
        "Once again, we can use the streaming interface thanks to creating our `EventHandler`!"
      ]
    },
    {
      "cell_type": "code",
      "execution_count": null,
      "metadata": {
        "colab": {
          "base_uri": "https://localhost:8080/"
        },
        "id": "KXsmBqFfiSvT",
        "outputId": "dbfed50c-4e66-4a01-e36a-9651be586be0"
      },
      "outputs": [],
      "source": [
        "with client.beta.threads.runs.stream(\n",
        "  thread_id=ci_thread.id,\n",
        "  assistant_id=ci_assistant.id,\n",
        "  instructions=additional_instructions,\n",
        "  event_handler=CIEventHandler(),\n",
        ") as stream:\n",
        "  stream.until_done()"
      ]
    },
    {
      "cell_type": "markdown",
      "metadata": {
        "id": "hi10hON2LQmc"
      },
      "source": [
        "And there you go!\n",
        "\n",
        "We've fit our Assistant with an awesome Code Interpreter that lets our Assistant run code on our provided files!"
      ]
    },
    {
      "cell_type": "markdown",
      "metadata": {
        "id": "EdJxt77oLzu7"
      },
      "source": [
        "### Task 2c: Creating an Assistant with a Function Calling Tool\n",
        "\n",
        "Let's finally create an Assistant that utilizes the Function Calling API.\n",
        "\n",
        "We'll start by creating a function that we wish to be called.\n",
        "\n",
        "We'll utilize DuckDuckGo search to allow our Assistant to have the most up to date information!"
      ]
    },
    {
      "cell_type": "code",
      "execution_count": 155,
      "metadata": {
        "colab": {
          "base_uri": "https://localhost:8080/"
        },
        "id": "n5eKEC2wMMVI",
        "outputId": "1712c586-0c40-410c-e2e6-07ea7c918c54"
      },
      "outputs": [],
      "source": [
        "!pip install -qU duckduckgo_search"
      ]
    },
    {
      "cell_type": "code",
      "execution_count": 157,
      "metadata": {
        "id": "YPFZ_Uq_LawH"
      },
      "outputs": [],
      "source": [
        "from duckduckgo_search import DDGS\n",
        "\n",
        "def duckduckgo_search(query):\n",
        "  with DDGS() as ddgs:\n",
        "    results = [r for r in ddgs.text(query, max_results=5)]\n",
        "    return \"\\n\".join(result[\"body\"] for result in results)"
      ]
    },
    {
      "cell_type": "markdown",
      "metadata": {
        "id": "D-o1TBFpMSvR"
      },
      "source": [
        "Let's test our function to make sure it behaves as we expect it to."
      ]
    },
    {
      "cell_type": "code",
      "execution_count": 158,
      "metadata": {
        "colab": {
          "base_uri": "https://localhost:8080/",
          "height": 140
        },
        "id": "mCUr9jFCMWBw",
        "outputId": "ea9bb779-f7c3-49e5-b5d4-c12be875a460"
      },
      "outputs": [
        {
          "data": {
            "text/plain": [
              "'The 2024 NBA Finals Presented by YouTube TV will begin June 6, with ABC as the exclusive broadcaster. Game 1: Celtics 107, Mavericks 89. Game 2: Celtics 105, Mavericks 98. Game 3: Celtics 106 ...\\nThe 2024 NBA Finals are here! Only two teams remain standing in the postseason as the best-of-seven series between the Boston Celtics and the Dallas Mavericks tipped off on June 6 (watch every ...\\n20-year NBA veteran Jamal Crawford makes his NBA Finals prediction and answers 20 questions on Dallas, Boston and more. June 11, 2024 Finals Alteration: 3 potential changes for Game 3\\nChasing History: Celtics take 2-0 lead (Ep. 22) Jrue Holiday scores 26, Derrick White has a key chasedown block and Boston takes a 2-0 lead over Dallas in the Finals. June 10, 2024.\\nThe 2024 NBA Finals will decide whether the Boston Celtics or the Dallas Mavericks are crowned champions. The Celtics have a commanding 3-0 lead in the series after winning the third game 106-99 ...'"
            ]
          },
          "execution_count": 158,
          "metadata": {},
          "output_type": "execute_result"
        }
      ],
      "source": [
        "duckduckgo_search(\"Which two teams are in the 2024 NBA finals?\")"
      ]
    },
    {
      "cell_type": "markdown",
      "metadata": {
        "id": "FzE1nxt5Mi80"
      },
      "source": [
        "Now we need to express how our function works in a way that is compatible with the OpenAI Function Calling API.\n",
        "\n",
        "We'll want to provide a `JSON` object that includes what parameters we have, how to call them, and a short natural language description."
      ]
    },
    {
      "cell_type": "code",
      "execution_count": 159,
      "metadata": {
        "id": "8ElrWvBnMY_s"
      },
      "outputs": [],
      "source": [
        "ddg_function = {\n",
        "    \"name\" : \"duckduckgo_search\",\n",
        "    \"description\" : \"Answer non-technical questions. \",\n",
        "    \"parameters\" : {\n",
        "        \"type\" : \"object\",\n",
        "        \"properties\" : {\n",
        "            \"query\" : {\n",
        "                \"type:\" : \"string\",\n",
        "                \"description\" : \"The search query to use. For example: 'Who is the current Goalie of the Colorado Avalance?'\"\n",
        "            }\n",
        "        },\n",
        "        \"required\" : [\"query\"]\n",
        "    }\n",
        "}"
      ]
    },
    {
      "cell_type": "markdown",
      "metadata": {
        "id": "NyRmJgEQVuGs"
      },
      "source": [
        "####❓ Question\n",
        "\n",
        "Why does the description key-value pair matter?"
      ]
    },
    {
      "cell_type": "markdown",
      "metadata": {
        "id": "tir4WySGM0x2"
      },
      "source": [
        "Now when we create our Assistant - we'll want to include the function description as a tool using the following format."
      ]
    },
    {
      "cell_type": "code",
      "execution_count": 160,
      "metadata": {
        "id": "4eFpwi12Mzlg"
      },
      "outputs": [],
      "source": [
        "fc_assistant = client.beta.assistants.create(\n",
        "    name=name + \" + Function Calling\",\n",
        "    instructions=instructions,\n",
        "    tools=[\n",
        "        {\"type\": \"function\",\n",
        "         \"function\" : ddg_function\n",
        "        }\n",
        "    ],\n",
        "    model=model\n",
        ")"
      ]
    },
    {
      "cell_type": "markdown",
      "metadata": {
        "id": "gcoiF_gXksaa"
      },
      "source": [
        "Now we can create our thread, and attach our message to it - just as we've been doing!"
      ]
    },
    {
      "cell_type": "code",
      "execution_count": 161,
      "metadata": {
        "id": "CtELZ5wFjdo_"
      },
      "outputs": [],
      "source": [
        "fc_thread = client.beta.threads.create()\n",
        "fc_message = client.beta.threads.messages.create(\n",
        "  thread_id=fc_thread.id,\n",
        "  role=\"user\",\n",
        "  content=\"Can you describe the Twitter beef between Elon and LeCun?\",\n",
        ")"
      ]
    },
    {
      "cell_type": "markdown",
      "metadata": {
        "id": "_KT_dj2YkwyK"
      },
      "source": [
        "Once again, we'll need an `EventHandler` for the streaming response - notice that this time we're utilizing a few new methods:\n",
        "\n",
        "1. `handle_requires_action` - this will handle whatever action needs to take place in *our local environment*.\n",
        "2. `submit_tool_outputs` - this will let us submit the resultant outputs from our local function call back to the Assistant run in the required format.\n",
        "\n",
        "To be very clear and explicit - we'll be following this pattern:\n",
        "\n",
        "1. Make a call to the LLM which will decide if a local function call is required.\n",
        "2. If a local function call is required - send a response that indicates a local function call is required.\n",
        "3. Call the function using the arguments provided by the LLM.\n",
        "4. Return the response from the function call with LLM provided arguements.\n",
        "5. Receive a response based on the output of the functional call from the LLM."
      ]
    },
    {
      "cell_type": "code",
      "execution_count": 163,
      "metadata": {
        "id": "qgXhMEHbizEX"
      },
      "outputs": [],
      "source": [
        "class FCEventHandler(AssistantEventHandler):\n",
        "  @override\n",
        "  def on_event(self, event):\n",
        "    # Retrieve events that are denoted with 'requires_action'\n",
        "    # since these will have our tool_calls\n",
        "    if event.event == 'thread.run.requires_action':\n",
        "      run_id = event.data.id  # Retrieve the run ID from the event data\n",
        "      self.handle_requires_action(event.data, run_id)\n",
        "\n",
        "  def handle_requires_action(self, data, run_id):\n",
        "    tool_outputs = []\n",
        "\n",
        "    for tool in data.required_action.submit_tool_outputs.tool_calls:\n",
        "      print(tool.function.arguments)\n",
        "      if tool.function.name == \"duckduckgo_search\":\n",
        "        tool_outputs.append({\"tool_call_id\": tool.id, \"output\": duckduckgo_search(tool.function.arguments)})\n",
        "\n",
        "    # Submit all tool_outputs at the same time\n",
        "    self.submit_tool_outputs(tool_outputs, run_id)\n",
        "\n",
        "  def submit_tool_outputs(self, tool_outputs, run_id):\n",
        "    # Use the submit_tool_outputs_stream helper\n",
        "    with client.beta.threads.runs.submit_tool_outputs_stream(\n",
        "      thread_id=self.current_run.thread_id,\n",
        "      run_id=self.current_run.id,\n",
        "      tool_outputs=tool_outputs,\n",
        "      event_handler=EventHandler(),\n",
        "    ) as stream:\n",
        "      for text in stream.text_deltas:\n",
        "        print(text, end=\"\", flush=True)\n",
        "      print()"
      ]
    },
    {
      "cell_type": "markdown",
      "metadata": {
        "id": "h9Gzz4OZnxCQ"
      },
      "source": [
        "Thanks to our event handler - we can stream this process in our notebook!"
      ]
    },
    {
      "cell_type": "code",
      "execution_count": null,
      "metadata": {
        "colab": {
          "base_uri": "https://localhost:8080/"
        },
        "id": "7HGInY8fjYNa",
        "outputId": "b6fc88c6-4e58-46f2-c21a-0869fc208c46"
      },
      "outputs": [],
      "source": [
        "with client.beta.threads.runs.stream(\n",
        "  thread_id=fc_thread.id,\n",
        "  assistant_id=fc_assistant.id,\n",
        "  event_handler=FCEventHandler()\n",
        ") as stream:\n",
        "  stream.until_done()"
      ]
    }
  ],
  "metadata": {
    "colab": {
      "provenance": [],
      "toc_visible": true
    },
    "kernelspec": {
      "display_name": "Python 3",
      "name": "python3"
    },
    "language_info": {
      "codemirror_mode": {
        "name": "ipython",
        "version": 3
      },
      "file_extension": ".py",
      "mimetype": "text/x-python",
      "name": "python",
      "nbconvert_exporter": "python",
      "pygments_lexer": "ipython3",
      "version": "3.11.9"
    }
  },
  "nbformat": 4,
  "nbformat_minor": 0
}
